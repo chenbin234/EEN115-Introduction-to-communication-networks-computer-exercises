{
 "cells": [
  {
   "cell_type": "markdown",
   "id": "b20a46ed",
   "metadata": {},
   "source": [
    "# RSA cryptography method\n",
    "## Introduction:\n",
    "\n",
    "RSA (Rivest-Shamir-Adleman) is a widely-used method of public-key cryptography. It is named after its inventors, Ron Rivest, Adi Shamir, and Leonard Adleman, who first published it in 1977. RSA is used to encrypt and decrypt messages, as well as to create digital signatures.\n"
   ]
  },
  {
   "cell_type": "markdown",
   "id": "12089524",
   "metadata": {},
   "source": [
    "## Use python library \n",
    "\n",
    "\n",
    "The rsa library (https://stuvel.eu/python-rsa-doc/usage.html) is a Python library for implementing the RSA algorithm. It provides a simple and easy-to-use implementation of RSA, including key generation, encryption, decryption, and signing/verifying. \n",
    "\n",
    "Here are a few examples of how you can use the rsa library:"
   ]
  },
  {
   "cell_type": "markdown",
   "id": "29206386",
   "metadata": {},
   "source": [
    "### Key Generation:\n",
    "\n",
    "The **\"rsa.newkeys()\"** function is a part of the \"rsa\" library in Python and generates a new RSA key pair. The function takes one optional argument which is the size of the key in bits. If the argument is not specified, the default key size is 2048 bits. The function returns a tuple containing the public and private keys. The public key can be shared with anyone for encryption, while the private key must be kept secure for decryption and signing."
   ]
  },
  {
   "cell_type": "code",
   "execution_count": 395,
   "id": "10d67a5b",
   "metadata": {},
   "outputs": [],
   "source": [
    "import rsa\n",
    "(pubkey, privkey) = rsa.newkeys(2048,accurate = True)"
   ]
  },
  {
   "cell_type": "code",
   "execution_count": 396,
   "id": "d1d0666e",
   "metadata": {},
   "outputs": [
    {
     "name": "stdout",
     "output_type": "stream",
     "text": [
      "160040431655836323904332584494277593870159481285125255011077740128601469066080956367872173554150572980972173887260396814106177192254663913481701929437455706641438137223425766384012874927522227307042465044781342771264634870194221526084797939304497616900128145793424602634958825597111343353676596892865789272479\n",
      "yes\n"
     ]
    }
   ],
   "source": [
    "integer = rsa.prime.getprime(1024)\n",
    "print(integer)\n",
    "\n",
    "if rsa.prime.is_prime(187283447506147459949774293271095663350179248453303221337156225371435501131):\n",
    "    print('yes')"
   ]
  },
  {
   "cell_type": "markdown",
   "id": "d6dc6239",
   "metadata": {},
   "source": [
    "In RSA cryptography, the public key is composed of two components:\n",
    "\n",
    "- n: The modulus, which is the product of two large prime numbers and forms the foundation of the encryption and decryption process. \n",
    "\n",
    "- e: The public exponent, which is a small odd integer used to encrypt messages. It is typically chosen to be 65537.\n",
    "These two components of public key, can be used by others to encrypt messages that can only be decrypted using the corresponding private key. Here the **public key** is printed:"
   ]
  },
  {
   "cell_type": "code",
   "execution_count": 397,
   "id": "df2ede62",
   "metadata": {},
   "outputs": [
    {
     "name": "stdout",
     "output_type": "stream",
     "text": [
      "PublicKey(18864529573116713465811665813322207463585998882559900765918458135749942485954302170001628020407206268332138435668941177448997726767606345196718999146780356439626849799449095757429397139145958579068801372584731073359017841531492391505205073583360926737914554476614634030543660722102110955965123466701899956816292974424947679124814687093689462791993746875128106315066864310310000772715188164667994489776971255718312376080655143235941735045467809903664141772493940570490272121707855721283449707714701236776264513944213879633847043276983406923869948747264201551140835124043429758645473044411201505851303889683844657280037, 65537)\n",
      "617\n",
      "2050\n",
      "0b10010101011011111001010001111000110100001110101111101110010110011101011101010101001101110101110010101000000000011001111111001101001111111111010101001010100110001001001001000101110101010111001000010101011110101100000100001011000000111110001001000000000011110101001010010100010000001100100011100000100000010011101001001000010010011001010100000111111110001110110000100011101000100001011010111111010100110010111110101111111100001000111111010001111010000010000000011111100111110100000010011101001111110011110111110110010110011111100011111011000100110111011010101111101101010100000110010010000101111110101110011001111000100110101011100101101010101110011000101011101011000001101000011000100110110101001110010000111001010101100010001110001010110110001001010011110110111101100011110000010011011011100000010101101100100000110100101100101011010000110101011100110000001100111011101010101100111010001111000101101100100000000000001110011010000101111010100101110000011000001010100000111101110101110101000101011101101101001011100011110011011111100001100111100010000000010001010011101000001000101101110111101100001110111110000010001111001001011100000110001000011001010010101001000011010011100101110001100111000001001001111011100111000110111111001100111101110101001001101001000110010010000101001111110110000001110111001011111011001111000011010101101011100101110100011100011111110001010010000000011010000111011001001011011011111001010011000000000111000101010001000110010100011011101111111111000000111111010100111001100001111000101010101110101010001011101101000101010110111000110001010010110110001001000001100011011100101100110110011110010000011010001011111101110100101110001101011111110011010110010001010011001000011100011101011100010001010101011010011000100101100111001001100100001100101111101110110010011110010011010110011011001110011000110110000011101010111100001111001011101111110111110111100001110100101010110111000001110110000010100101001000100111111010000001101000010000110101110010110010011001000101011110100000010011001001010111100001011011110111010000100101\n"
     ]
    }
   ],
   "source": [
    "print(pubkey)\n",
    "\n",
    "# A typical size for n is 1024 bits, or 309 decimal digits. That is why we got len(str(pubkey.n) = 309 here.\n",
    "print(len(str(pubkey.n)))\n",
    "\n",
    "# if we transfer it to binary, it should be 1024 bits, but why it is 1026 bits?\n",
    "# 0b indicates that it number is binary representation. we can ignore the first 2 bits, 1026-2 = 1024. correctly!\n",
    "print(len(str(bin(pubkey.n))))\n",
    "print(bin(pubkey.n))"
   ]
  },
  {
   "cell_type": "markdown",
   "id": "eb14becf",
   "metadata": {},
   "source": [
    "The private key is kept secret and should not be shared with others. In RSA cryptography, the private key is composed of five components:\n",
    "\n",
    "- n: The modulus, which is the product of two large prime numbers and forms the foundation of the encryption and decryption process. \n",
    "\n",
    "- e: The public exponent, which is a small odd integer used to encrypt messages. It is typically chosen to be 65537. \n",
    "\n",
    "- d: The private exponent, which is used to decrypt messages and create digital signatures. It is kept secret and derived from the public exponent and other information, including the modulus and prime factors used to generate the key. \n",
    "- p: One of the prime factors of n. \n",
    "\n",
    "- q: The other prime factor of n. \n",
    "\n",
    "The **private key** is printed here:"
   ]
  },
  {
   "cell_type": "code",
   "execution_count": 398,
   "id": "66995a27",
   "metadata": {},
   "outputs": [
    {
     "name": "stdout",
     "output_type": "stream",
     "text": [
      "PrivateKey(18864529573116713465811665813322207463585998882559900765918458135749942485954302170001628020407206268332138435668941177448997726767606345196718999146780356439626849799449095757429397139145958579068801372584731073359017841531492391505205073583360926737914554476614634030543660722102110955965123466701899956816292974424947679124814687093689462791993746875128106315066864310310000772715188164667994489776971255718312376080655143235941735045467809903664141772493940570490272121707855721283449707714701236776264513944213879633847043276983406923869948747264201551140835124043429758645473044411201505851303889683844657280037, 65537, 11843978185529295039103904866270486450465738377110521336271828080499609128729750696386117584810035801502395596570943476639057470792173860350785001722577648144122037760317560204631695135334830060163632300498099233646695868372008444592591561449784885675038072738289246478398156884391039557883429414524464860164644383133755579209400549219763624671730844905355632330758797106401770671875359726558352116070878513186045109590680955204412288995116018467094637280554762085336802214128315763378665225835544043271996547628689148779880997565928231580241635233737084672150419131667515837248102699613645610706779701583901659256513, 2202390081736796911310863033183045138209679728707505011326901949697575863000613834800216269952947956797254333665258287064779859224255344817995109140487518999201267194136975488102436061208505975390488969493424932195489908430566080614084982308190573085134504542898488520539474185865413424240666758432713682566402425843790677089557, 8565480624685801878005336583419458289321757443999766993035881930702665384875893807885486763210555915903507722052774869807097888544404196133236534231883583486282659489314072488110796683322362327243507065027346365182182768211745106846967698522780583907105199032185726196651499013841545682641)\n",
      "True\n",
      "11843978185529295039103904866270486450465738377110521336271828080499609128729750696386117584810035801502395596570943476639057470792173860350785001722577648144122037760317560204631695135334830060163632300498099233646695868372008444592591561449784885675038072738289246478398156884391039557883429414524464860164644383133755579209400549219763624671730844905355632330758797106401770671875359726558352116070878513186045109590680955204412288995116018467094637280554762085336802214128315763378665225835544043271996547628689148779880997565928231580241635233737084672150419131667515837248102699613645610706779701583901659256513\n",
      "1088\n",
      "960\n"
     ]
    }
   ],
   "source": [
    "print(privkey)\n",
    "\n",
    "# check whether p*q==n, since it returned True, correctly! \n",
    "print(privkey.p*privkey.q ==privkey.n)\n",
    "print(privkey.d)\n",
    "print(len(str(bin(privkey.p))[2:]))\n",
    "print(len(str(bin(privkey.q))[2:]))"
   ]
  },
  {
   "cell_type": "markdown",
   "id": "1ccf1dc7",
   "metadata": {},
   "source": [
    "### Encryption:\n",
    "\n",
    "The **rsa.encrypt()** function is used to encrypt the plaintext message using the public key. The plaintext message must be passed as bytes, and the public key is passed as the second argument. The function returns the ciphertext, which is the encrypted version of the plaintext message."
   ]
  },
  {
   "cell_type": "code",
   "execution_count": 399,
   "id": "7b20344c",
   "metadata": {},
   "outputs": [
    {
     "name": "stdout",
     "output_type": "stream",
     "text": [
      "b'Hello, World!'\n",
      "b'{\\xf6\\xb7zSO\\xce\\xfdo\\xbd\\x92\\xc9\\x0f\\xc4\\xa9\\x04lS\\x88\\x1c\\xccz|\\x89\\xa6\\x03\\xc2\\x00\\x04\\xf9\\xdeB\\xe35\\xf5\\xf0j<\\x01EH\\x03\\r\\xaflV2uZ\\x13k\\xc4\\x92\\xae\\xee\\xaa\\xb2V\\x97\\xa3\\xc9\\xc8\\xb5\\xe9\\x8b\\xd4\\x19\\xb1\\xb5+\\x8b\\x9f\\xf3\\xb6\\xc4\\xcda_\\x049\\x9d\\xe9\\xdf\\x9a\\x8ad\\x95\\x1d\"\\x89\\x97 \\xb2\\xdcMk\\x9f\\xad\\xe3\\x1e\\xac\\x8c\\xbe\\x0e\\xf6%\\xd5\\xdd%\\xc5\\xc2[vay\\xeaP\\xe8D}\"\\x9c\\xf9\\xc6\\xc1\\\\\\xf7=\\xf6\\xa8\\xb3\\x0e\\xbb\\xa8\\xbf\\x91n\\t\\x82\\x1et&\\xb5\\x88p?\\xed\\x17iaq\\xff\\xcb\\xa6IW\\x84,\\x12h\\x0c\\xd7\"\\xcd\\x1e\\x85\\xed\\n:-v\\xcd\\xa0\\xa3V\\xd1 |<\\x06r3\\x819:\\xee\\xb2%l\\xb9\\xd8\\xb5\\xbf\\x8c\\x9bQ\\xbdLtj\\xc2\\x9d\\xee|\\x8aJ\\xa3\\x8b\\xc98\\x86\\x84\\x82\\xb0/\\x00\\x88a\\xde\\xa8\\xe70\\x05\\xa9\\xb6 M\\xc0W\\x0b\\xd4-\\xd3e\\x9b\\xcb\\x81\\xd0\\x7f\\xb3\\x8dS\\xb7\\x08k\\xd6\\xba\\xec\\x1cE\\xdc\\xc7#|+\\\\'\n"
     ]
    }
   ],
   "source": [
    "# Define the message to be encrypted\n",
    "message = \"Hello, World!\"\n",
    "\n",
    "# Encode the message as a byte string\n",
    "message = message.encode()\n",
    "print(message)\n",
    "\n",
    "# Encrypt the message using the public key\n",
    "ciphertext = rsa.encrypt(message, pubkey)\n",
    "\n",
    "print(ciphertext)\n",
    "# print(len(ciphertext))"
   ]
  },
  {
   "cell_type": "markdown",
   "id": "ba60d6f4",
   "metadata": {},
   "source": [
    "The output is a binary string, which represents the encrypted message. It is generated by applying the RSA encryption algorithm to the original message, using the public key of the recipient. The output is unreadable, as it has been transformed into a sequence of seemingly random bytes through the encryption process. To decrypt the message, the recipient would use their private key."
   ]
  },
  {
   "cell_type": "markdown",
   "id": "5b86530c",
   "metadata": {},
   "source": [
    "###  Decryption:\n",
    "\n",
    "The **rsa.decrypt()** function is used to decrypt the ciphertext using the private key. The ciphertext and the private key are passed as arguments. The function returns the decrypted plaintext message as bytes, which can then be decoded to a string using the .decode() method."
   ]
  },
  {
   "cell_type": "code",
   "execution_count": 400,
   "id": "e106ef89",
   "metadata": {},
   "outputs": [
    {
     "name": "stdout",
     "output_type": "stream",
     "text": [
      "Hello, World!\n"
     ]
    }
   ],
   "source": [
    "plaintext = rsa.decrypt(ciphertext, privkey).decode()\n",
    "\n",
    "print(plaintext)"
   ]
  },
  {
   "cell_type": "markdown",
   "id": "c65cbb97",
   "metadata": {},
   "source": [
    "###  Signing:\n",
    "\n",
    "The rsa.sign() function is used to sign the message using the private key. The message must be passed as bytes, and the private key and a hash function such as 'SHA-1' are passed as arguments. The function returns the signature, which is a digital signature of the message.  The SHA-1 argument specifies the hashing algorithm to use when generating the signature.\n",
    "\n",
    "In this case, the SHA-1 algorithm is used to hash the message, and the resulting hash is then signed using the private key. The signature acts as a digital signature, verifying that the message came from the owner of the private key and has not been tampered with."
   ]
  },
  {
   "cell_type": "code",
   "execution_count": 401,
   "id": "8d70df90",
   "metadata": {},
   "outputs": [
    {
     "name": "stdout",
     "output_type": "stream",
     "text": [
      "b'G\\x86\\r\\x84\\xd5\\xc8\\x1av\\xb2z\\xcdAJ\\xa7\\xe5\\xc1O\\xe7w\\xc5\\x9fdG\\xc8!\\xfc\\x9de\\xe6\\x94\\x96c\\xb6\\xabZ|\\xe7Z\\xab\\x8bR\\xce\\xaf\\x16\\x95\\xc3\\x14\\x80H\\x81\\x00o\\xf7\\xe1x\\x16\\xdf6\\x06\\xe0y5\\x05)\\x05\\xe6\\xfb+~\\xc6\\xbf}UZ\\x07\\x8a\\xb1\\x04\\xfbM\\xb2\\xe5z\\xab8\\xb0\\xd5\\x15\\xaaT\\xa0s\\x88 %p\\t\\x9b8\\x8f\\x9d\\xae\\xef0(\\x94\\xf1\\x03?\\xf6dg\\xdf\\x8eg\\r\\x8c\\xe3\\x86\\xdb\\x91Q\\x00`\\xfd\\xd6\\xe1~\\xda\\x96\\xac\\xc1t9e\\x98.\\xa6t+j\\xec\\x0e\\xbb\\xca5\\x99\\xef4&\\xbd\\xbe\\x1e\\xf9\\xd8\\x01\\x8dlI\\x0f\\xef@\\x97\\x1e=\\xdd\\xa1*~as\\x8fGA\\xb8\\xad\\x14d\\xb1?\\xa5\\x8a\\xdfq@\\xe3\\x91b\\xcci\\xe8\\x88\\x81\\x9a.\\xd6\\x15M\\x0e\\xe8\\xa9d\\xaa\\x97\\x89Z\\x97a\\x8f\\x8c+\\xe1\\xe8\\xed\\xbc\\xe5g\\x0f\\xac\\x95O+\\x83\\xc0\\xbd.\\xb6\\xd5\\xc3\\xd3j\\x0c%E\\xd7\\xec\\xcd\\xbd\\x05\\xc8\\x06\\x92D4\\xf16\\xe2\\x9f\\xc2i\\xca\\xd4\\x18\\x00\\x08\\xad'\n"
     ]
    }
   ],
   "source": [
    "message = \"Hello, World!\"\n",
    "signature = rsa.sign(message.encode(), privkey, 'SHA-1')\n",
    "\n",
    "print(signature)"
   ]
  },
  {
   "cell_type": "markdown",
   "id": "886e0abd",
   "metadata": {},
   "source": [
    "### Verifying:\n",
    "\n",
    "The rsa.verify() function is used to verify the signature of a message. The message, signature, and public key are passed as arguments. If the signature is valid, the function returns True, otherwise it raises a rsa.pkcs1.VerificationError exception."
   ]
  },
  {
   "cell_type": "code",
   "execution_count": 402,
   "id": "ca6bf39a",
   "metadata": {},
   "outputs": [
    {
     "data": {
      "text/plain": [
       "'SHA-1'"
      ]
     },
     "execution_count": 402,
     "metadata": {},
     "output_type": "execute_result"
    }
   ],
   "source": [
    "rsa.verify(message.encode(), signature, pubkey)"
   ]
  },
  {
   "cell_type": "code",
   "execution_count": 403,
   "id": "3107d6fc",
   "metadata": {},
   "outputs": [
    {
     "name": "stdout",
     "output_type": "stream",
     "text": [
      "Signature is valid.\n"
     ]
    }
   ],
   "source": [
    "import rsa\n",
    "\n",
    "# Generate a new RSA key pair\n",
    "(pubkey, privkey) = rsa.newkeys(1024)\n",
    "\n",
    "# Define the message to be signed\n",
    "message = \"Hello, World!\"\n",
    "message = message.encode()\n",
    "\n",
    "# Sign the message using the private key\n",
    "signature = rsa.sign(message, privkey, 'SHA-256')\n",
    "\n",
    "# Verify the signature using the public key\n",
    "try:\n",
    "    rsa.verify(message, signature, pubkey)\n",
    "    print(\"Signature is valid.\")\n",
    "except rsa.pkcs1.VerificationError:\n",
    "    print(\"Signature is invalid.\")\n"
   ]
  },
  {
   "cell_type": "markdown",
   "id": "9782024f",
   "metadata": {},
   "source": [
    "## Implementing RSA without using rsa library"
   ]
  },
  {
   "cell_type": "markdown",
   "id": "d7501fdb",
   "metadata": {},
   "source": [
    "In this part, we plan to forget rsa library and try to implement RSA algorithm step by step. We want to cover the following topics:\n",
    "\n",
    "- Generating RSA keys: We will learn how to generate a public and private key using Python.\n",
    "\n",
    "- Encryption and Decryption: We will learn how to encrypt and decrypt a message using the RSA method.\n",
    "\n",
    "\n",
    "Let's get started!"
   ]
  },
  {
   "cell_type": "markdown",
   "id": "177a87d9",
   "metadata": {},
   "source": [
    "## Step1: Generating RSA keys:\n",
    "\n",
    "The process of generating RSA keys involves the following steps:\n",
    "\n",
    "- Select two large prime numbers, p and q.\n",
    "- Compute n = p * q. n is used as the modulus for both the public and private keys.\n",
    "- Compute the totient of n, denoted as φ(n) = (p-1)*(q-1).\n",
    "- Choose a public exponent, e, such that 1 < e < φ(n) and e is coprime to φ(n).\n",
    "- Determine the private exponent, d, such that d * e ≡ 1 (mod φ(n)). d can be calculated using the extended Euclidean algorithm.\n",
    "\n",
    "To generate RSA keys in Python, we will need to import the following libraries:"
   ]
  },
  {
   "cell_type": "code",
   "execution_count": 404,
   "id": "229a389d",
   "metadata": {},
   "outputs": [],
   "source": [
    "import random\n",
    "import math\n",
    "import sympy"
   ]
  },
  {
   "cell_type": "markdown",
   "id": "44f5b716",
   "metadata": {},
   "source": [
    "###  generate_large_prime() function:\n",
    "\n",
    "This function has been used to generate two large prime numbers, p and q."
   ]
  },
  {
   "cell_type": "markdown",
   "id": "a8f79c70",
   "metadata": {},
   "source": [
    "## Question:\n",
    "Complete the following function to generate p and q:"
   ]
  },
  {
   "cell_type": "code",
   "execution_count": 405,
   "id": "90775e51",
   "metadata": {},
   "outputs": [],
   "source": [
    "def isPrime(n):\n",
    "    \"\"\"\n",
    "    This function is to verify whether a number is prime or not\n",
    "    using Miller_Rabin primality test (because it is more fast to check whether a number is prime from probability perspective, it's not perfect but useful)\n",
    "    see: https://en.wikipedia.org/wiki/Miller%E2%80%93Rabin_primality_test\n",
    "\n",
    "    Minimum number of rounds of M-R testing when generating primes using an error probability of 2^(-100)\n",
    "    see: https://nvlpubs.nist.gov/nistpubs/FIPS/NIST.FIPS.186-4.pdf, page 71, Appendix C, Table C.3\n",
    "\n",
    "    Args:\n",
    "        n: the decimal number\n",
    "\n",
    "    Returns:\n",
    "        True/False\n",
    "    \"\"\"\n",
    "    if n <= 3:\n",
    "        return n == 2 or n == 3\n",
    "\n",
    "    numberOfBits = len(str(bin(n)))-2\n",
    "    if numberOfBits >= 1536:\n",
    "        k = 3\n",
    "    elif numberOfBits >= 1024:\n",
    "        k = 4\n",
    "    elif numberOfBits >= 512:\n",
    "        k = 7\n",
    "    else:\n",
    "        k = 14\n",
    "    \n",
    "    # Miller_Rabin primality test\n",
    "    # initiate d and s, make the equation n − 1 = 2^(s) * d hold\n",
    "    d = n-1\n",
    "    s = 0\n",
    "\n",
    "    # when d is a even number, we need to process it to an odd number\n",
    "    while d % 2 == 0:\n",
    "        d >>= 1\n",
    "        s += 1\n",
    "\n",
    "    for i in range(k):\n",
    "        a = random.randint(2, n-2)\n",
    "        # print(\"d now is {}\".format(d))\n",
    "        x = pow(a, int(d), n)\n",
    "\n",
    "        for j in range(s):\n",
    "            y = pow(x, 2, n)\n",
    "            if y == 1 and x != 1 and x != n - 1:\n",
    "                return False\n",
    "            x = y\n",
    "        if y != 1:\n",
    "            return False\n",
    "    return True"
   ]
  },
  {
   "cell_type": "code",
   "execution_count": 406,
   "id": "8f7a436f",
   "metadata": {},
   "outputs": [],
   "source": [
    "def generate_large_prime(nbits):\n",
    "    \"\"\"\n",
    "    This function is to generate two random prime number (p,q) with the given number of bits.\n",
    "    To make factoring harder, p and q should be chosen at random, be similar in magnitude, but differ in length.\n",
    "\n",
    "    Args:\n",
    "        nbits: The number of bits (which we want for modulus).\n",
    "\n",
    "    Returns:\n",
    "        (p,q)\n",
    "    \"\"\"\n",
    "\n",
    "    bitDifference = nbits // 32\n",
    "\n",
    "    while True:\n",
    "        # genetate a random bits which have nbits//2 bits\n",
    "        p = random.getrandbits(nbits//2 + bitDifference)\n",
    "        # make sure n is an odd number, because all prime number is odd, except 2, which we don't consider it.\n",
    "        p = p|1\n",
    "        if isPrime(p):\n",
    "            break\n",
    "    \n",
    "    while True:\n",
    "        q = random.getrandbits(nbits//2 - bitDifference)\n",
    "        q = q|1\n",
    "        if isPrime(q) & (q!=p):\n",
    "            break\n",
    "    \n",
    "    return (p,q)"
   ]
  },
  {
   "cell_type": "code",
   "execution_count": 407,
   "id": "a1bbd48c",
   "metadata": {},
   "outputs": [
    {
     "name": "stdout",
     "output_type": "stream",
     "text": [
      "(51843663757750062794106572107572981750864612592525647505296848217446262856222631, 53554154118075027327461428429431097162580959761924553450111650078887957)\n",
      "267\n",
      "237\n",
      "502\n"
     ]
    }
   ],
   "source": [
    "(p,q) = generate_large_prime(500)\n",
    "print((p,q))\n",
    "print(len(str(bin(p))))\n",
    "print(len(str(bin(q))))\n",
    "print(len(str(bin(p*q))))"
   ]
  },
  {
   "cell_type": "markdown",
   "id": "231d5687",
   "metadata": {},
   "source": [
    "### Step 2: Selecting the public exponent e using generate_public_exponent function \n",
    "\n",
    "generate_public_exponent function will generate a random number between 2 and phi-1, then check if that number is relatively prime to phi (i.e. their greatest common divisor is 1). If it is not relatively prime, it will generate a new random number and repeat this process until it finds a relatively prime number."
   ]
  },
  {
   "cell_type": "markdown",
   "id": "3a9d4c05",
   "metadata": {},
   "source": [
    "## Question:\n",
    "Based on the above description,complete the following function to generate public key exponent e:"
   ]
  },
  {
   "cell_type": "code",
   "execution_count": 408,
   "id": "75b85b5c",
   "metadata": {},
   "outputs": [],
   "source": [
    "def is_relatively_prime(x, y):\n",
    "    # Determining if two numbers are relatively prime\n",
    "    gcd = math.gcd(x,y)\n",
    "    return gcd == 1\n",
    "\n",
    "def generate_public_exponent(phi):\n",
    "    # modulus - n\n",
    "    # publicExponent - e\n",
    "    # privateExponent - d\n",
    "    # prime1 - p\n",
    "    # prime2 - q\n",
    "\n",
    "    while True:\n",
    "        e = random.randint(2, phi-1)\n",
    "        if math.gcd(e,phi) == 1:\n",
    "            return e"
   ]
  },
  {
   "cell_type": "markdown",
   "id": "00aabab8",
   "metadata": {},
   "source": [
    "### Step 3 : Selecting the private exponent d using  calculate_private_exponent(phi, e) function\n",
    "\n",
    "This function will calculate the modular inverse of e mod phi. The modular inverse of a number is a number such that when it is multiplied by the original number, the result is 1 mod some other number. In this case, the result should be 1 mod phi.\n",
    "\n",
    "The function mod_inverse(a,m) is used to find the modular inverse of a number. It returns the number x such that a*x = 1 mod m."
   ]
  },
  {
   "cell_type": "markdown",
   "id": "20b454f0",
   "metadata": {},
   "source": [
    "## Question:\n",
    "Based on the above description,complete the following function by writing the code for the mod_inverse(e, phi) function in order to generate public key exponent e:"
   ]
  },
  {
   "cell_type": "code",
   "execution_count": 409,
   "id": "ee438e05",
   "metadata": {},
   "outputs": [],
   "source": [
    "def extended_euclidean_algorithm(a,b):\n",
    "    # Use Extended Euclidean Algorithm\n",
    "    # see: https://en.wikipedia.org/wiki/Modular_multiplicative_inverse\n",
    "    # see: https://www.educative.io/answers/what-is-extended-euclidean-algorithm\n",
    "    # a*x + b*y = gcd(a,b) = r, given a and b, the Extended Euclidean Algorithm can get x, y and r\n",
    "    # in our case, ed + y*phi = 1 = gcd(e,phi), we need to calculate d. \n",
    "\n",
    "    if a == 0: \n",
    "        return b, 0, 1        \n",
    "    gcd, x, y = extended_euclidean_algorithm(b%a, a)\n",
    "    x,y = y - (b//a) * x, x \n",
    "    return gcd, x, y\n",
    "\n",
    "def mod_inverse(a,b):\n",
    "    gcd,x,y = extended_euclidean_algorithm(a,b)\n",
    "    return x"
   ]
  },
  {
   "cell_type": "code",
   "execution_count": 410,
   "id": "246a3f2e",
   "metadata": {},
   "outputs": [
    {
     "name": "stdout",
     "output_type": "stream",
     "text": [
      "A:1,B:-16,C:1\n"
     ]
    }
   ],
   "source": [
    "A,B,C = extended_euclidean_algorithm(3,49)\n",
    "print('A:{},B:{},C:{}'.format(A,B,C))"
   ]
  },
  {
   "cell_type": "code",
   "execution_count": 411,
   "id": "3e55285b",
   "metadata": {},
   "outputs": [],
   "source": [
    "def calculate_private_exponent(phi, e):\n",
    "    # Calculating the modular inverse of e mod phi\n",
    "    d = mod_inverse(e, phi)\n",
    "    if(d < 0):\n",
    "        d += phi\n",
    "    return d"
   ]
  },
  {
   "cell_type": "markdown",
   "id": "a2f0bdf7",
   "metadata": {},
   "source": [
    "## Writing encryption and decryption functions\n",
    "\n"
   ]
  },
  {
   "cell_type": "markdown",
   "id": "f0e2c475",
   "metadata": {},
   "source": [
    "### Encryption\n",
    "\n",
    "The encrypt function takes the plaintext and the public key as input, and returns the ciphertext. The encryption is done by raising the plaintext to the power of the public exponent (e) and then taking the remainder when divided by n."
   ]
  },
  {
   "cell_type": "markdown",
   "id": "1fa22e1e",
   "metadata": {},
   "source": [
    "## Question:\n",
    "Write a function to do the encryption:"
   ]
  },
  {
   "cell_type": "code",
   "execution_count": 412,
   "id": "868c72fc",
   "metadata": {},
   "outputs": [
    {
     "name": "stdout",
     "output_type": "stream",
     "text": [
      "b'Hello World!'\n",
      "22405534230753928650781647905\n"
     ]
    }
   ],
   "source": [
    "message = \"Hello World!\"\n",
    "message = message.encode()\n",
    "print(message)\n",
    "message = int.from_bytes(message, \"big\")\n",
    "print(message)\n"
   ]
  },
  {
   "cell_type": "code",
   "execution_count": 413,
   "id": "8d44fa6a",
   "metadata": {},
   "outputs": [],
   "source": [
    "def encrypt(message, e, n):\n",
    "    message = message.encode()\n",
    "    # byte value can be interchanged to an int value by using the int.from_bytes() method.\n",
    "    message = int.from_bytes(message, \"big\",signed=False)\n",
    "    ciphertext = pow(message,e,n)\n",
    "    return ciphertext"
   ]
  },
  {
   "attachments": {},
   "cell_type": "markdown",
   "id": "20943ad3",
   "metadata": {},
   "source": [
    "### Decryption\n",
    "The decrypt function takes the ciphertext and the private key as input, and returns the original plaintext. The decryption is done by raising the ciphertext to the power of the private exponent (d) and then taking the remainder when divided by n."
   ]
  },
  {
   "cell_type": "markdown",
   "id": "fc1912f5",
   "metadata": {},
   "source": [
    "## Question:\n",
    "Write a function to do the decryption:"
   ]
  },
  {
   "cell_type": "code",
   "execution_count": 414,
   "id": "a414b1ed",
   "metadata": {},
   "outputs": [],
   "source": [
    "def decrypt(ciphertext,d,n):\n",
    "    message = pow(ciphertext,d,n)\n",
    " \n",
    "    # An int value can be converted back into bytes by using the method int.to_bytes().\n",
    "    message = message.to_bytes(500,\"big\",signed=False)\n",
    "    message = message.decode()\n",
    "    return message"
   ]
  },
  {
   "cell_type": "markdown",
   "id": "b3fbcc54",
   "metadata": {},
   "source": [
    "## Question:\n",
    "\n",
    "based on the functions you implemented above, calculate p, q, n, phi,e, and d for a rather small amount of n. Then consider a specefic message and do the encrytion and decryption and provide the output. What will hapen for large values of n and why? "
   ]
  },
  {
   "cell_type": "code",
   "execution_count": 415,
   "id": "241eee64",
   "metadata": {},
   "outputs": [
    {
     "name": "stdout",
     "output_type": "stream",
     "text": [
      "\u0000\u0000\u0000\u0000\u0000\u0000\u0000\u0000\u0000\u0000\u0000\u0000\u0000\u0000\u0000\u0000\u0000\u0000\u0000\u0000\u0000\u0000\u0000\u0000\u0000\u0000\u0000\u0000\u0000\u0000\u0000\u0000\u0000\u0000\u0000\u0000\u0000\u0000\u0000\u0000\u0000\u0000\u0000\u0000\u0000\u0000\u0000\u0000\u0000\u0000\u0000\u0000\u0000\u0000\u0000\u0000\u0000\u0000\u0000\u0000\u0000\u0000\u0000\u0000\u0000\u0000\u0000\u0000\u0000\u0000\u0000\u0000\u0000\u0000\u0000\u0000\u0000\u0000\u0000\u0000\u0000\u0000\u0000\u0000\u0000\u0000\u0000\u0000\u0000\u0000\u0000\u0000\u0000\u0000\u0000\u0000\u0000\u0000\u0000\u0000\u0000\u0000\u0000\u0000\u0000\u0000\u0000\u0000\u0000\u0000\u0000\u0000\u0000\u0000\u0000\u0000\u0000\u0000\u0000\u0000\u0000\u0000\u0000\u0000\u0000\u0000\u0000\u0000\u0000\u0000\u0000\u0000\u0000\u0000\u0000\u0000\u0000\u0000\u0000\u0000\u0000\u0000\u0000\u0000\u0000\u0000\u0000\u0000\u0000\u0000\u0000\u0000\u0000\u0000\u0000\u0000\u0000\u0000\u0000\u0000\u0000\u0000\u0000\u0000\u0000\u0000\u0000\u0000\u0000\u0000\u0000\u0000\u0000\u0000\u0000\u0000\u0000\u0000\u0000\u0000\u0000\u0000\u0000\u0000\u0000\u0000\u0000\u0000\u0000\u0000\u0000\u0000\u0000\u0000\u0000\u0000\u0000\u0000\u0000\u0000\u0000\u0000\u0000\u0000\u0000\u0000\u0000\u0000\u0000\u0000\u0000\u0000\u0000\u0000\u0000\u0000\u0000\u0000\u0000\u0000\u0000\u0000\u0000\u0000\u0000\u0000\u0000\u0000\u0000\u0000\u0000\u0000\u0000\u0000\u0000\u0000\u0000\u0000\u0000\u0000\u0000\u0000\u0000\u0000\u0000\u0000\u0000\u0000\u0000\u0000\u0000based on the functions you implemented above, calculate p, q, n, phi,e, and d for a rather small amount of n. Then consider a specefic message and do the encrytion and decryption and provide the output. What will hapen for large values of n and why?\n"
     ]
    }
   ],
   "source": [
    "(p,q) = generate_large_prime(2048)\n",
    "n = p * q\n",
    "phi = (p-1)*(q-1)\n",
    "e = generate_public_exponent(phi)\n",
    "d = calculate_private_exponent(phi, e)\n",
    "\n",
    "\n",
    "message = \"based on the functions you implemented above, calculate p, q, n, phi,e, and d for a rather small amount of n. Then consider a specefic message and do the encrytion and decryption and provide the output. What will hapen for large values of n and why?\"\n",
    "ciphertext = encrypt(message, e, n)\n",
    "\n",
    "\n",
    "decrypt_message = decrypt(ciphertext,d,n)\n",
    "print(decrypt_message)"
   ]
  },
  {
   "cell_type": "markdown",
   "id": "d12e1b72",
   "metadata": {},
   "source": [
    "# Denial of Service (DoS) attack"
   ]
  },
  {
   "cell_type": "markdown",
   "id": "3604d502",
   "metadata": {},
   "source": [
    "Suppose you have a Python web server that does the following:\n",
    "- Receives a file over HTTP \n",
    "- Perform the processing of the file\n",
    "- sends back a response via HTTP\n",
    "\n",
    "For each HTTP request, the server uses a dedicated thread to allow multiple users to access the server simultaneously. In addition, in order to reduce the size of data transmitted through the network, this server utilizes the latest compression technology  (that's a joke). \n",
    "\n",
    "Files contain substitution rules along with payloads. At the beginning of every file, these rules are listed.Each line in the file that begins with \"*\" is considered a rule. As an example, consider the following document:\n",
    "\n",
    "\"\"\"\n",
    "\n",
    "$*$ DoS==Denial of Service \n",
    "\n",
    "$*$ nt==network\n",
    "\n",
    "$*$ ac==attack\n",
    "\n",
    "A DoS ac is an ac meant to shut down a machine or nt, making it inaccessible to its intended users.\n",
    "\n",
    "\"\"\"\n",
    "\n",
    "This text can be can be decompressed to:\n",
    "\n",
    "\"\"\"\n",
    "\n",
    "A Denial of Service attack is an attack meant to shut down a machine or network, making it inaccessible to its intended users.\n",
    "\n",
    "\"\"\"\n",
    "\n",
    "Following is the decompression function responsible for decoding the original text from the compressed text: \n"
   ]
  },
  {
   "cell_type": "markdown",
   "id": "7eb68c60",
   "metadata": {},
   "source": [
    "## Decompression"
   ]
  },
  {
   "cell_type": "code",
   "execution_count": 416,
   "id": "8107002b",
   "metadata": {},
   "outputs": [],
   "source": [
    "def decompress(compressed_text):\n",
    "    # Initialize an empty dictionary to store the substitution rules\n",
    "    substitution_rules = {}\n",
    "    # Initialize an empty string to store the final result\n",
    "    decompressed_text = \"\"\n",
    "    # Iterate over each line of the input text\n",
    "    for line in compressed_text.split(\"\\n\"):\n",
    "        # Check if the line starts with \"*\"\n",
    "        if line.startswith(\"*\"):\n",
    "            # If so, split the line into key and value, remove leading/trailing whitespaces, and store the rule in the dictionary\n",
    "            key, value = map(str.strip, line[1:].split(\"=\"))\n",
    "            substitution_rules[key] = value\n",
    "            # Continue to the next line\n",
    "            continue\n",
    "        # If the line does not start with \"*\", add the line to the final result\n",
    "        decompressed_text += line + \"\\n\"\n",
    "    # Keep looping until no more rules are applied\n",
    "    while True:\n",
    "        # Initialize a flag to check if a rule is applied\n",
    "        rule_applied = False\n",
    "        # Iterate over each key in the dictionary\n",
    "        for key in substitution_rules:\n",
    "            # Check if the key is present in the final result\n",
    "            if key in decompressed_text:\n",
    "                # If so, replace the key with the corresponding value and set the flag to True\n",
    "                decompressed_text = decompressed_text.replace(key, substitution_rules[key])\n",
    "                rule_applied = True\n",
    "        # If no rule is applied, exit the loop\n",
    "        if not rule_applied:\n",
    "            break\n",
    "    # Return the final result\n",
    "    return decompressed_text"
   ]
  },
  {
   "cell_type": "markdown",
   "id": "61341941",
   "metadata": {},
   "source": [
    "### Example for decompress function:"
   ]
  },
  {
   "cell_type": "code",
   "execution_count": 417,
   "id": "65f0ce15",
   "metadata": {},
   "outputs": [
    {
     "name": "stdout",
     "output_type": "stream",
     "text": [
      "\n",
      "\n",
      "a Denial of service attack is an attack meant to shut down a machine or network, making it inaccessible to its intended users.\n",
      "\n",
      "This can be accomplished by overwhelming the targeted system with excessive traffic or requests,\n",
      "causing it to crash or become unavailable to users.\n",
      "\n",
      "There are several different types of Denial of service attacks, including network-level attacks,\n",
      "application-level attacks, and distributed Denial of service attacks . \n",
      "    \n",
      "\n"
     ]
    }
   ],
   "source": [
    "if __name__ == '__main__':\n",
    "    res = decompress(\"\"\"\n",
    "* ds = Denial of service attack\n",
    "* p_ = Denial of service attacks\n",
    "* A = attacks\n",
    "* U=users\n",
    "* S=server\n",
    "* N=network\n",
    "* sm=system\n",
    "\n",
    "a ds is an attack meant to shut down a machine or N, making it inaccessible to its intended U.\n",
    "\n",
    "This can be accomplished by overwhelming the targeted sm with excessive traffic or requests,\n",
    "causing it to crash or become unavailable to U.\n",
    "\n",
    "There are several different types of p_, including network-level A,\n",
    "application-level A, and distributed p_ . \n",
    "    \"\"\")\n",
    "    \n",
    "    print(res)"
   ]
  },
  {
   "cell_type": "markdown",
   "id": "5ae7aac0",
   "metadata": {},
   "source": [
    "## Vulnerability in this system"
   ]
  },
  {
   "cell_type": "markdown",
   "id": "21d370f1",
   "metadata": {},
   "source": [
    "### Issue:\n",
    "\n",
    "An issue of the implemmented decompress function is that the function does not have any protections against infinite looping. An attacker could craft a file with a rule that replaces a string with itself, which would cause the function to loop infinitely and consume a large amount of processing power. In other words, the problem will happen in the case:\n",
    "\n",
    "key= key\n",
    "Here, the rule is that \"key\" should be replaced with \"key\". When the decompress function encounters the word \"key\" in the input, it will replace it with \"key\", and the next time it will replace it with \"key\" again and so on. This will cause the function to loop infinitely and consume a large amount of processing power.An attacker could craft a file with the following text to cause the function to loop infinitely and consume a large amount of processing power:"
   ]
  },
  {
   "cell_type": "code",
   "execution_count": 418,
   "id": "1aeafc83",
   "metadata": {},
   "outputs": [
    {
     "name": "stdout",
     "output_type": "stream",
     "text": [
      "Unexpected exception formatting exception. Falling back to standard exception\n"
     ]
    },
    {
     "name": "stderr",
     "output_type": "stream",
     "text": [
      "Traceback (most recent call last):\n",
      "  File \"/Users/chenbingcheng/Library/Python/3.11/lib/python/site-packages/IPython/core/interactiveshell.py\", line 3433, in run_code\n",
      "    exec(code_obj, self.user_global_ns, self.user_ns)\n",
      "  File \"/var/folders/06/gmp4cfpd1kn490jzvs864zh00000gn/T/ipykernel_11717/1874739930.py\", line 2, in <module>\n",
      "    res_ = decompress(\"\"\"\n",
      "           ^^^^^^^^^^^^^^\n",
      "  File \"/var/folders/06/gmp4cfpd1kn490jzvs864zh00000gn/T/ipykernel_11717/362531113.py\", line -1, in decompress\n",
      "KeyboardInterrupt\n",
      "\n",
      "During handling of the above exception, another exception occurred:\n",
      "\n",
      "Traceback (most recent call last):\n",
      "  File \"/Users/chenbingcheng/Library/Python/3.11/lib/python/site-packages/IPython/core/interactiveshell.py\", line 2052, in showtraceback\n",
      "    stb = self.InteractiveTB.structured_traceback(\n",
      "          ^^^^^^^^^^^^^^^^^^^^^^^^^^^^^^^^^^^^^^^^\n",
      "  File \"/Users/chenbingcheng/Library/Python/3.11/lib/python/site-packages/IPython/core/ultratb.py\", line 1118, in structured_traceback\n",
      "    return FormattedTB.structured_traceback(\n",
      "           ^^^^^^^^^^^^^^^^^^^^^^^^^^^^^^^^^\n",
      "  File \"/Users/chenbingcheng/Library/Python/3.11/lib/python/site-packages/IPython/core/ultratb.py\", line 1012, in structured_traceback\n",
      "    return VerboseTB.structured_traceback(\n",
      "           ^^^^^^^^^^^^^^^^^^^^^^^^^^^^^^^\n",
      "  File \"/Users/chenbingcheng/Library/Python/3.11/lib/python/site-packages/IPython/core/ultratb.py\", line 865, in structured_traceback\n",
      "    formatted_exception = self.format_exception_as_a_whole(etype, evalue, etb, number_of_lines_of_context,\n",
      "                          ^^^^^^^^^^^^^^^^^^^^^^^^^^^^^^^^^^^^^^^^^^^^^^^^^^^^^^^^^^^^^^^^^^^^^^^^^^^^^^^^\n",
      "  File \"/Users/chenbingcheng/Library/Python/3.11/lib/python/site-packages/IPython/core/ultratb.py\", line 818, in format_exception_as_a_whole\n",
      "    frames.append(self.format_record(r))\n",
      "                  ^^^^^^^^^^^^^^^^^^^^^\n",
      "  File \"/Users/chenbingcheng/Library/Python/3.11/lib/python/site-packages/IPython/core/ultratb.py\", line 736, in format_record\n",
      "    result += ''.join(_format_traceback_lines(frame_info.lines, Colors, self.has_colors, lvals))\n",
      "                                              ^^^^^^^^^^^^^^^^\n",
      "  File \"/Users/chenbingcheng/Library/Python/3.11/lib/python/site-packages/stack_data/utils.py\", line 144, in cached_property_wrapper\n",
      "    value = obj.__dict__[self.func.__name__] = self.func(obj)\n",
      "                                               ^^^^^^^^^^^^^^\n",
      "  File \"/Users/chenbingcheng/Library/Python/3.11/lib/python/site-packages/stack_data/core.py\", line 734, in lines\n",
      "    pieces = self.included_pieces\n",
      "             ^^^^^^^^^^^^^^^^^^^^\n",
      "  File \"/Users/chenbingcheng/Library/Python/3.11/lib/python/site-packages/stack_data/utils.py\", line 144, in cached_property_wrapper\n",
      "    value = obj.__dict__[self.func.__name__] = self.func(obj)\n",
      "                                               ^^^^^^^^^^^^^^\n",
      "  File \"/Users/chenbingcheng/Library/Python/3.11/lib/python/site-packages/stack_data/core.py\", line 681, in included_pieces\n",
      "    pos = scope_pieces.index(self.executing_piece)\n",
      "                             ^^^^^^^^^^^^^^^^^^^^\n",
      "  File \"/Users/chenbingcheng/Library/Python/3.11/lib/python/site-packages/stack_data/utils.py\", line 144, in cached_property_wrapper\n",
      "    value = obj.__dict__[self.func.__name__] = self.func(obj)\n",
      "                                               ^^^^^^^^^^^^^^\n",
      "  File \"/Users/chenbingcheng/Library/Python/3.11/lib/python/site-packages/stack_data/core.py\", line 660, in executing_piece\n",
      "    return only(\n",
      "           ^^^^^\n",
      "  File \"/Users/chenbingcheng/Library/Python/3.11/lib/python/site-packages/executing/executing.py\", line 190, in only\n",
      "    raise NotOneValueFound('Expected one value, found 0')\n",
      "executing.executing.NotOneValueFound: Expected one value, found 0\n"
     ]
    }
   ],
   "source": [
    "if __name__ == '__main__':\n",
    "    res_ = decompress(\"\"\"\n",
    "* ds = Denial of service attack\n",
    "* p_ = Denial of service attacks\n",
    "* A = A\n",
    "* U=users\n",
    "* S=server\n",
    "* N=network\n",
    "* sm=system\n",
    "\n",
    "a ds is an attack meant to shut down a machine or N, making it inaccessible to its intended U.\n",
    "\n",
    "This can be accomplished by overwhelming the targeted sm with excessive traffic or requests,\n",
    "causing it to crash or become unavailable to U.\n",
    "\n",
    "There are several different types of p_, including network-level A,\n",
    "application-level A, and distributed p_ . \n",
    "    \"\"\")\n",
    "    \n",
    "    print(res_)"
   ]
  },
  {
   "cell_type": "markdown",
   "id": "77f7032f",
   "metadata": {},
   "source": [
    "The substitution rule \"A = A\" would replace the string \"A\" with itself, causing the function to keep looping and replacing the string \"A\" with itself, without making any progress. This would consume a large amount of processing power and could cause the program to crash."
   ]
  },
  {
   "cell_type": "markdown",
   "id": "a6b58e30",
   "metadata": {},
   "source": [
    "## Question"
   ]
  },
  {
   "cell_type": "markdown",
   "id": "245c2330",
   "metadata": {},
   "source": [
    "Find the section of code within the provided decompression function that caused this vulnerability and explain your selection by detailing the rationale behind it."
   ]
  },
  {
   "attachments": {},
   "cell_type": "markdown",
   "id": "7af048fe",
   "metadata": {},
   "source": [
    "**Answer：** The following code chunk in 'decompression' function has vulnerability problem. if 'substitution_rules' is not empty and in it there exists 'key = substitution_rules[key]',if the condition 'key in decompressed_text' holds, after the first round of for loop execution, rule_applied is set True, the second round of for loop will be executed, and rule_applied is set True again, and after that is the third round of for loop，etc., the code execution can not escape from while loop.\n",
    "\n",
    "```python\n",
    "while True:\n",
    "        # Initialize a flag to check if a rule is applied\n",
    "        rule_applied = False\n",
    "        # Iterate over each key in the dictionary\n",
    "        for key in substitution_rules:\n",
    "            # Check if the key is present in the final result\n",
    "            if key in decompressed_text:\n",
    "                # If so, replace the key with the corresponding value and set the flag to True\n",
    "                decompressed_text = decompressed_text.replace(key, substitution_rules[key])\n",
    "                rule_applied = True\n",
    "        # If no rule is applied, exit the loop\n",
    "        if not rule_applied:\n",
    "            break\n",
    "```\n"
   ]
  },
  {
   "cell_type": "markdown",
   "id": "881230ee",
   "metadata": {},
   "source": [
    "# Solve the vulnerability:"
   ]
  },
  {
   "cell_type": "markdown",
   "id": "12c7216d",
   "metadata": {},
   "source": [
    "## Question :\n",
    "\n",
    "- Find a piece of code to be added to decompression function in order to prevent this vulnerability.\n",
    "\n",
    "- Test the functionality of your code by testing it on the given example."
   ]
  },
  {
   "cell_type": "code",
   "execution_count": 421,
   "id": "7d672726",
   "metadata": {},
   "outputs": [],
   "source": [
    "def decompress(compressed_text):\n",
    "    # Initialize an empty dictionary to store the substitution rules\n",
    "    substitution_rules = {}\n",
    "    # Initialize an empty string to store the final result\n",
    "    decompressed_text = \"\"\n",
    "    # Iterate over each line of the input text\n",
    "    for line in compressed_text.split(\"\\n\"):\n",
    "        # Check if the line starts with \"*\"\n",
    "        if line.startswith(\"*\"):\n",
    "            # If so, split the line into key and value, remove leading/trailing whitespaces, and store the rule in the dictionary\n",
    "            key, value = map(str.strip, line[1:].split(\"=\"))\n",
    "            substitution_rules[key] = value\n",
    "            # Continue to the next line\n",
    "            continue\n",
    "        # If the line does not start with \"*\", add the line to the final result\n",
    "        decompressed_text += line + \"\\n\"\n",
    "    # Keep looping until no more rules are applied\n",
    "    while True:\n",
    "        # Initialize a flag to check if a rule is applied\n",
    "        # rule_applied = False\n",
    "\n",
    "        # if substitution_rules is empty, means no rule will be applied,return the decompressed_text\n",
    "        if not substitution_rules:\n",
    "            break\n",
    "\n",
    "        # Iterate over each key in the dictionary\n",
    "        for key in substitution_rules:\n",
    "            # Check if the key is present in the final result\n",
    "            if (key != substitution_rules[key]) and (key in decompressed_text):\n",
    "                # If so, replace the key with the corresponding value and set the flag to True\n",
    "                decompressed_text = decompressed_text.replace(\n",
    "                    key, substitution_rules[key])\n",
    "                # rule_applied = True\n",
    "        break\n",
    "\n",
    "        ##### change a little bit of the code, in order to improve the efficiency ###\n",
    "        # If no rule is applied, exit the loop\n",
    "        # if not rule_applied:\n",
    "        #     break\n",
    "    # Return the final result\n",
    "    return decompressed_text"
   ]
  },
  {
   "cell_type": "code",
   "execution_count": 422,
   "id": "66802197",
   "metadata": {},
   "outputs": [
    {
     "name": "stdout",
     "output_type": "stream",
     "text": [
      "\n",
      "\n",
      "a Denial of service attack is an attack meant to shut down a machine or network, making it inaccessible to its intended users.\n",
      "\n",
      "This can be accomplished by overwhelming the targeted system with excessive traffic or requests,\n",
      "causing it to crash or become unavailable to users.\n",
      "\n",
      "There are several different types of Denial of service attacks, including network-level A,\n",
      "application-level A, and distributed Denial of service attacks . \n",
      "    \n",
      "\n"
     ]
    }
   ],
   "source": [
    "if __name__ == '__main__':\n",
    "    res_ = decompress(\"\"\"\n",
    "* ds = Denial of service attack\n",
    "* p_ = Denial of service attacks\n",
    "* A = A\n",
    "* U=users\n",
    "* S=server\n",
    "* N=network\n",
    "* sm=system\n",
    "\n",
    "a ds is an attack meant to shut down a machine or N, making it inaccessible to its intended U.\n",
    "\n",
    "This can be accomplished by overwhelming the targeted sm with excessive traffic or requests,\n",
    "causing it to crash or become unavailable to U.\n",
    "\n",
    "There are several different types of p_, including network-level A,\n",
    "application-level A, and distributed p_ . \n",
    "    \"\"\")\n",
    "    \n",
    "    print(res_)"
   ]
  }
 ],
 "metadata": {
  "kernelspec": {
   "display_name": "Python 3 (ipykernel)",
   "language": "python",
   "name": "python3"
  },
  "language_info": {
   "codemirror_mode": {
    "name": "ipython",
    "version": 3
   },
   "file_extension": ".py",
   "mimetype": "text/x-python",
   "name": "python",
   "nbconvert_exporter": "python",
   "pygments_lexer": "ipython3",
   "version": "3.9.12"
  }
 },
 "nbformat": 4,
 "nbformat_minor": 5
}
