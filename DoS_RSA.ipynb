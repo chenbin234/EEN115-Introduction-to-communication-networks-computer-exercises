{
 "cells": [
  {
   "cell_type": "markdown",
   "id": "b20a46ed",
   "metadata": {},
   "source": [
    "# RSA cryptography method\n",
    "## Introduction:\n",
    "\n",
    "RSA (Rivest-Shamir-Adleman) is a widely-used method of public-key cryptography. It is named after its inventors, Ron Rivest, Adi Shamir, and Leonard Adleman, who first published it in 1977. RSA is used to encrypt and decrypt messages, as well as to create digital signatures.\n"
   ]
  },
  {
   "cell_type": "markdown",
   "id": "12089524",
   "metadata": {},
   "source": [
    "## Use python library \n",
    "\n",
    "\n",
    "The rsa library (https://stuvel.eu/python-rsa-doc/usage.html) is a Python library for implementing the RSA algorithm. It provides a simple and easy-to-use implementation of RSA, including key generation, encryption, decryption, and signing/verifying. \n",
    "\n",
    "Here are a few examples of how you can use the rsa library:"
   ]
  },
  {
   "cell_type": "markdown",
   "id": "29206386",
   "metadata": {},
   "source": [
    "### Key Generation:\n",
    "\n",
    "The **\"rsa.newkeys()\"** function is a part of the \"rsa\" library in Python and generates a new RSA key pair. The function takes one optional argument which is the size of the key in bits. If the argument is not specified, the default key size is 2048 bits. The function returns a tuple containing the public and private keys. The public key can be shared with anyone for encryption, while the private key must be kept secure for decryption and signing."
   ]
  },
  {
   "cell_type": "code",
   "execution_count": 297,
   "id": "10d67a5b",
   "metadata": {},
   "outputs": [],
   "source": [
    "import rsa\n",
    "(pubkey, privkey) = rsa.newkeys(2048,accurate = True)"
   ]
  },
  {
   "cell_type": "code",
   "execution_count": 320,
   "id": "d1d0666e",
   "metadata": {},
   "outputs": [
    {
     "name": "stdout",
     "output_type": "stream",
     "text": [
      "150868685379852262292557319335581343477955106638914080567386475411106420346847940982651137960752447418417346093853332593345125016315562953950999360274171090386932226620819504167633773701711319387660191394374692334290383532381293960988094061993076268421636439463033202557617970337604708066667975164516859990351\n",
      "yes\n"
     ]
    }
   ],
   "source": [
    "integer = rsa.prime.getprime(1024)\n",
    "print(integer)\n",
    "\n",
    "if rsa.prime.is_prime(187283447506147459949774293271095663350179248453303221337156225371435501131):\n",
    "    print('yes')"
   ]
  },
  {
   "cell_type": "markdown",
   "id": "d6dc6239",
   "metadata": {},
   "source": [
    "In RSA cryptography, the public key is composed of two components:\n",
    "\n",
    "- n: The modulus, which is the product of two large prime numbers and forms the foundation of the encryption and decryption process. \n",
    "\n",
    "- e: The public exponent, which is a small odd integer used to encrypt messages. It is typically chosen to be 65537.\n",
    "These two components of public key, can be used by others to encrypt messages that can only be decrypted using the corresponding private key. Here the **public key** is printed:"
   ]
  },
  {
   "cell_type": "code",
   "execution_count": 262,
   "id": "df2ede62",
   "metadata": {},
   "outputs": [
    {
     "name": "stdout",
     "output_type": "stream",
     "text": [
      "PublicKey(26515455108738510582440777281291256207917273925678091823335433448413748437604021136875371676582192805160859429306525538087797471915897213760717715108334068586092916276437862704746626147200744657508471969925345386705930972548523982052731091194045007231752703439566906180818873419195665806245323341353702337024971011622251302237966080608476046659573896453281041894839251184146122638538169492777235660243343675242597803167420031929572093520294233412328906844266416728399927547749062189538451253513156811147865321697618699211491201419225238303798062556982778026566784608650339808096492053220956436664271995158526175273131, 65537)\n",
      "617\n",
      "2050\n",
      "0b11010010000010101111100100100000111000010110010110100000001110000011111101101100101100011111100000000111000010000111111111011110001000110101100010010001011111100111000101110101000010111000010110110011000011011001010010000111010100001001100011100111001001100010100110000010111010101111000101001100110010010110110001101001111111000110000000101011010101111001110000001110010000100111000001101010101101110011000110010111011000001001100011011010110100011011110000100010110111101110001110110010000011101101110111110000110101001101000110101010010100100000101010110010010010001100001100100110011111101010111010001101000110000001110000011010010000001001010001100010011110111100001111011111010110000101001001000111001101000011000110111110001011111111111010011111110100111010000110001101010010001001011110100011000110001010101100010000001010010001110101010100000000010111000111001111001110010000011011111111011111100001001010110110010110101100101011101001100010100010000011010101000101001110011100000111001001010100011110001010110101001000010010000100010101011000001000100110110111001000110000100111101010100001101011110110101100110010011100000010001001011010001001001101100101010100111100011001001010101101010111010101000111001101111101100010000111100001110100000111010011000100101100101100011100010000100000111001001110101001000101011110111111010011100110001000010000001010001100000111111000101110101010100111101111010111011111100000001010001010001000100010111110011001011100011000010110110101110000101010100111010001100101101010011111100111100101000010111000110111010111100010000110010101110101100011110001011111110000100111010000001111000110100111100011010110111011100011010101010110100111101101101010001000111110100010010000101110100100110011100000011101000110010001000001001000000100100011111100001111010011101100110001101100111101001111100100000010011010010000101010100101000010111111000111010000001111110101010000000010000110111001011000000101010010111111110100011010101000011111000010010011110100010101011111100001100101100101101111001110000010101011\n"
     ]
    }
   ],
   "source": [
    "print(pubkey)\n",
    "\n",
    "# A typical size for n is 1024 bits, or 309 decimal digits. That is why we got len(str(pubkey.n) = 309 here.\n",
    "print(len(str(pubkey.n)))\n",
    "\n",
    "# if we transfer it to binary, it should be 1024 bits, but why it is 1026 bits?\n",
    "# 0b indicates that it number is binary representation. we can ignore the first 2 bits, 1026-2 = 1024. correctly!\n",
    "print(len(str(bin(pubkey.n))))\n",
    "print(bin(pubkey.n))"
   ]
  },
  {
   "cell_type": "markdown",
   "id": "eb14becf",
   "metadata": {},
   "source": [
    "The private key is kept secret and should not be shared with others. In RSA cryptography, the private key is composed of five components:\n",
    "\n",
    "- n: The modulus, which is the product of two large prime numbers and forms the foundation of the encryption and decryption process. \n",
    "\n",
    "- e: The public exponent, which is a small odd integer used to encrypt messages. It is typically chosen to be 65537. \n",
    "\n",
    "- d: The private exponent, which is used to decrypt messages and create digital signatures. It is kept secret and derived from the public exponent and other information, including the modulus and prime factors used to generate the key. \n",
    "- p: One of the prime factors of n. \n",
    "\n",
    "- q: The other prime factor of n. \n",
    "\n",
    "The **private key** is printed here:"
   ]
  },
  {
   "cell_type": "code",
   "execution_count": 340,
   "id": "66995a27",
   "metadata": {},
   "outputs": [
    {
     "name": "stdout",
     "output_type": "stream",
     "text": [
      "PrivateKey(21430676664901005232049997224912097669043571886007471991172134314682293340830357919153751017718686038576816094151680619476913742474135568856138027836989319904457763261159006394247513613802619187818062223485255064746616995618348831658091792121530628409901567288742746264862641071941099362392519365889611514974824226998887542780051085104298501447070936957921382929510656445978659941168329227665806369687013354322343901266171387890006808868321683153622751560208076453078913183432328924098243946866184657078589300594488884904440864251361457405615968064197297661542282740043842508267373440999587555201346349313365368047377, 65537, 20623964741372147031225007628899797060997269921578516845190144669835546958300970046859439350100211002228356364468109566663242896956585292701170719069821877815190672885260212296644501329364041566987887520564185680357189586243637347035656946901825483830698564916016982878753784463849812118130357802913759507449649466054527798089293624249130517863791568767121367938402226271249528093326629702636279540365974816148563621396502971007926856475739287979969063031339457892053458961722507391521686832437741278988364700513103972670932883537932685468953510575641142670428210362877420362202983025803356812295853066653979116411673, 2963961901042356266600395433712526078315041426900442257310004809395960802814087199855596185099051724122388337049543771893381078905591838945886114103354139160418241695384872046610535867370716758098277669316132733980319984933744313164107664804729318685339037045636407650971790773322823962504632599841351003161815575798114752409171, 7230415700473186283715686010231218514125879405443292261645811428722420825754162642560189485002964023453144537434236297894021774052726336522166122555857180774711957945291336431701099749419138777990906939489370247487867714362482412792568666389680377414922566826944409857299563283732788584587)\n",
      "True\n",
      "20623964741372147031225007628899797060997269921578516845190144669835546958300970046859439350100211002228356364468109566663242896956585292701170719069821877815190672885260212296644501329364041566987887520564185680357189586243637347035656946901825483830698564916016982878753784463849812118130357802913759507449649466054527798089293624249130517863791568767121367938402226271249528093326629702636279540365974816148563621396502971007926856475739287979969063031339457892053458961722507391521686832437741278988364700513103972670932883537932685468953510575641142670428210362877420362202983025803356812295853066653979116411673\n",
      "1088\n",
      "960\n"
     ]
    }
   ],
   "source": [
    "print(privkey)\n",
    "\n",
    "# check whether p*q==n, since it returned True, correctly! \n",
    "print(privkey.p*privkey.q ==privkey.n)\n",
    "print(privkey.d)\n",
    "print(len(str(bin(privkey.p))[2:]))\n",
    "print(len(str(bin(privkey.q))[2:]))"
   ]
  },
  {
   "cell_type": "markdown",
   "id": "1ccf1dc7",
   "metadata": {},
   "source": [
    "### Encryption:\n",
    "\n",
    "The **rsa.encrypt()** function is used to encrypt the plaintext message using the public key. The plaintext message must be passed as bytes, and the public key is passed as the second argument. The function returns the ciphertext, which is the encrypted version of the plaintext message."
   ]
  },
  {
   "cell_type": "code",
   "execution_count": 264,
   "id": "7b20344c",
   "metadata": {},
   "outputs": [
    {
     "name": "stdout",
     "output_type": "stream",
     "text": [
      "b'Hello, World!'\n",
      "b\"\\xbd\\x97\\xcb\\xcc\\x9b:\\x0f\\xb4\\x13\\xbc.\\x9c\\xf8&\\xbaP\\x93\\xdc\\x88\\x96)\\xaco\\x11\\x0cTWM\\xa6Q\\xe2n\\xa2\\xdc~\\x13\\xf4\\xa8(b\\x19\\xcc\\xad\\xf7\\xb6=^\\xc3U\\x9e\\x0b\\xee\\x84\\xdf%\\xb9\\xd7\\x1b\\xcf\\x90Q\\x97*\\xb8\\x05,pT\\xc2(\\x96e\\xfb\\x98k\\xe0\\xc49\\x8a{[W\\x94\\x06S\\x8f\\xb9t\\xa6d\\xf8g\\xe3\\xa1d\\x966\\xa1\\xeb\\xe2V\\xa7\\x86E\\x91\\x82\\xa8\\xcc\\x14\\xf4\\xc6h\\xdd)\\x88\\xb2:-\\x16\\xe2\\xe5\\xac\\xb4g:T\\xa8Z\\x84it\\xb6\\xbd\\xcf\\x18\\x08\\x98\\x05z\\xea\\x86\\xcc#~\\x97\\n\\x0c\\xc3\\xce\\xb9\\x8e\\xcbr\\x8d]\\x1c\\xc4\\xa1\\x96\\x0b\\xa3KG\\xc1:\\x9d\\xb7\\x04\\xbat%O\\xf0;\\xcbpe\\xd7I\\x032\\xd8\\x17]\\xf6$\\xb2\\xac\\nr#\\xe7&>Q\\xcc\\x823\\x879\\x18\\xee&}\\xb7~_\\xa6T\\xdb\\xdd\\x7f\\xbc\\x1d\\\\\\xd9\\xf8\\x11\\x19'|\\xd2\\xcd\\xe5L)\\xce\\xdbaK+\\x99\\xaa\\xc8\\xb7\\x97\\xda\\x9bdD\\xb0\\x98\\xdeQ\\xe1\\xce\\xf5\\xf2\\x86/aAj8\\xa0\\xce\"\n"
     ]
    }
   ],
   "source": [
    "# Define the message to be encrypted\n",
    "message = \"Hello, World!\"\n",
    "\n",
    "# Encode the message as a byte string\n",
    "message = message.encode()\n",
    "print(message)\n",
    "\n",
    "# Encrypt the message using the public key\n",
    "ciphertext = rsa.encrypt(message, pubkey)\n",
    "\n",
    "print(ciphertext)\n",
    "# print(len(ciphertext))"
   ]
  },
  {
   "cell_type": "markdown",
   "id": "ba60d6f4",
   "metadata": {},
   "source": [
    "The output is a binary string, which represents the encrypted message. It is generated by applying the RSA encryption algorithm to the original message, using the public key of the recipient. The output is unreadable, as it has been transformed into a sequence of seemingly random bytes through the encryption process. To decrypt the message, the recipient would use their private key."
   ]
  },
  {
   "cell_type": "markdown",
   "id": "5b86530c",
   "metadata": {},
   "source": [
    "###  Decryption:\n",
    "\n",
    "The **rsa.decrypt()** function is used to decrypt the ciphertext using the private key. The ciphertext and the private key are passed as arguments. The function returns the decrypted plaintext message as bytes, which can then be decoded to a string using the .decode() method."
   ]
  },
  {
   "cell_type": "code",
   "execution_count": 265,
   "id": "e106ef89",
   "metadata": {},
   "outputs": [
    {
     "name": "stdout",
     "output_type": "stream",
     "text": [
      "Hello, World!\n"
     ]
    }
   ],
   "source": [
    "plaintext = rsa.decrypt(ciphertext, privkey).decode()\n",
    "\n",
    "print(plaintext)"
   ]
  },
  {
   "cell_type": "markdown",
   "id": "c65cbb97",
   "metadata": {},
   "source": [
    "###  Signing:\n",
    "\n",
    "The rsa.sign() function is used to sign the message using the private key. The message must be passed as bytes, and the private key and a hash function such as 'SHA-1' are passed as arguments. The function returns the signature, which is a digital signature of the message.  The SHA-1 argument specifies the hashing algorithm to use when generating the signature.\n",
    "\n",
    "In this case, the SHA-1 algorithm is used to hash the message, and the resulting hash is then signed using the private key. The signature acts as a digital signature, verifying that the message came from the owner of the private key and has not been tampered with."
   ]
  },
  {
   "cell_type": "code",
   "execution_count": 266,
   "id": "8d70df90",
   "metadata": {},
   "outputs": [
    {
     "name": "stdout",
     "output_type": "stream",
     "text": [
      "b'\\r\\x90\\x0fU%\\x19\\xe3\\xd6N\\xe3H\\xb2\\x15\\xd7\\xe3\\x13\\xc5\\xe8\\x90G$\\xe7Z\\xde\\xcc\\xa1\\xeb\\xcf\\xad\\x1a1\\x94\\xc2\\xf0K\\xd2;\\x9a`\\xcc\\xe2\\x85i\\xae\\rt\\x9a\\xe7]\\x17f\\xe4\\xfej\\xd4S\\xba\\x06>\\x9b\\x8b\\x9dc\\x9bg{\\x89\\x8e\\x8e\\xfc\\x90\\x08T\\xb7\\r\\x1c\\xe8\\xa2\\xd0\\xc0\\x16+\\x8e\\x16\\xeb\\xe7r@kRV\\xb1\\xd2\\xc8\\x910\\xaeK\\x90\\x97\\x1d\\xd6\\x19\\xa5\\xa3\\x81\\xd2\\x12\\x95\\x9f_|\\xb0\\xbd^N\\xc2~\\xbd\\xbf\\x90\\x9f\\x9e{\\xd0\\xdf\\x87ST\\xd41\\xe0\\xf5\\xfa\\x87\\xaa|\\xf0&\\xa0\\x99\\xe7\\xd8\\xe4d\\xd4\\x86\\x85]\\xc2\\xd3\\xed\\xba\\x0b+\\xd4C\\xad\\x11\\x0fK\\xa3\\xed\\x0ev\\xb9\\xa8\\t\\x8c$\\xc1!+H\\xc5\\xfbEy\\xf21Iw\\x8a\\xf2\\\\\\x90M\\xe9\\xd7\\xb7\\xadc\\xaa\\xb9\\xbe\\xf9\\xb7\\t\\xc1\\xde\\x9e\\xa5\\xf5\\xd9J\\xfa\\r\\xb6\\xfd\\xd6.\\xf5D~\\x972\\x04a_3\\xa1\\xca\\x81\\x94:5\\xf2\\xb8)\\xbeE\\x00\\xe8eM\\xff\\xc3Fp\\x91\\xbc\\xd2@\\xbfN<2\\xfb\\xb4\\xb9.\\x9e\\x92\\xcdUq'\n"
     ]
    }
   ],
   "source": [
    "message = \"Hello, World!\"\n",
    "signature = rsa.sign(message.encode(), privkey, 'SHA-1')\n",
    "\n",
    "print(signature)"
   ]
  },
  {
   "cell_type": "markdown",
   "id": "886e0abd",
   "metadata": {},
   "source": [
    "### Verifying:\n",
    "\n",
    "The rsa.verify() function is used to verify the signature of a message. The message, signature, and public key are passed as arguments. If the signature is valid, the function returns True, otherwise it raises a rsa.pkcs1.VerificationError exception."
   ]
  },
  {
   "cell_type": "code",
   "execution_count": 267,
   "id": "ca6bf39a",
   "metadata": {},
   "outputs": [
    {
     "data": {
      "text/plain": [
       "'SHA-1'"
      ]
     },
     "execution_count": 267,
     "metadata": {},
     "output_type": "execute_result"
    }
   ],
   "source": [
    "rsa.verify(message.encode(), signature, pubkey)"
   ]
  },
  {
   "cell_type": "code",
   "execution_count": 268,
   "id": "3107d6fc",
   "metadata": {},
   "outputs": [
    {
     "name": "stdout",
     "output_type": "stream",
     "text": [
      "Signature is valid.\n"
     ]
    }
   ],
   "source": [
    "import rsa\n",
    "\n",
    "# Generate a new RSA key pair\n",
    "(pubkey, privkey) = rsa.newkeys(1024)\n",
    "\n",
    "# Define the message to be signed\n",
    "message = \"Hello, World!\"\n",
    "message = message.encode()\n",
    "\n",
    "# Sign the message using the private key\n",
    "signature = rsa.sign(message, privkey, 'SHA-256')\n",
    "\n",
    "# Verify the signature using the public key\n",
    "try:\n",
    "    rsa.verify(message, signature, pubkey)\n",
    "    print(\"Signature is valid.\")\n",
    "except rsa.pkcs1.VerificationError:\n",
    "    print(\"Signature is invalid.\")\n"
   ]
  },
  {
   "cell_type": "markdown",
   "id": "9782024f",
   "metadata": {},
   "source": [
    "## Implementing RSA without using rsa library"
   ]
  },
  {
   "cell_type": "markdown",
   "id": "d7501fdb",
   "metadata": {},
   "source": [
    "In this part, we plan to forget rsa library and try to implement RSA algorithm step by step. We want to cover the following topics:\n",
    "\n",
    "- Generating RSA keys: We will learn how to generate a public and private key using Python.\n",
    "\n",
    "- Encryption and Decryption: We will learn how to encrypt and decrypt a message using the RSA method.\n",
    "\n",
    "\n",
    "Let's get started!"
   ]
  },
  {
   "cell_type": "markdown",
   "id": "177a87d9",
   "metadata": {},
   "source": [
    "## Step1: Generating RSA keys:\n",
    "\n",
    "The process of generating RSA keys involves the following steps:\n",
    "\n",
    "- Select two large prime numbers, p and q.\n",
    "- Compute n = p * q. n is used as the modulus for both the public and private keys.\n",
    "- Compute the totient of n, denoted as φ(n) = (p-1)*(q-1).\n",
    "- Choose a public exponent, e, such that 1 < e < φ(n) and e is coprime to φ(n).\n",
    "- Determine the private exponent, d, such that d * e ≡ 1 (mod φ(n)). d can be calculated using the extended Euclidean algorithm.\n",
    "\n",
    "To generate RSA keys in Python, we will need to import the following libraries:"
   ]
  },
  {
   "cell_type": "code",
   "execution_count": 269,
   "id": "229a389d",
   "metadata": {},
   "outputs": [],
   "source": [
    "import random\n",
    "import math\n",
    "import sympy"
   ]
  },
  {
   "cell_type": "markdown",
   "id": "44f5b716",
   "metadata": {},
   "source": [
    "###  generate_large_prime() function:\n",
    "\n",
    "This function has been used to generate two large prime numbers, p and q."
   ]
  },
  {
   "cell_type": "markdown",
   "id": "a8f79c70",
   "metadata": {},
   "source": [
    "## Question:\n",
    "Complete the following function to generate p and q:"
   ]
  },
  {
   "cell_type": "code",
   "execution_count": 315,
   "id": "90775e51",
   "metadata": {},
   "outputs": [],
   "source": [
    "def isPrime(n):\n",
    "    \"\"\"\n",
    "    This function is to verify whether a number is prime or not\n",
    "    using Miller_Rabin primality test (because it is more fast to check whether a number is prime from probability perspective, it's not perfect but useful)\n",
    "    see: https://en.wikipedia.org/wiki/Miller%E2%80%93Rabin_primality_test\n",
    "\n",
    "    Minimum number of rounds of M-R testing when generating primes using an error probability of 2^(-100)\n",
    "    see: https://nvlpubs.nist.gov/nistpubs/FIPS/NIST.FIPS.186-4.pdf, page 71, Appendix C, Table C.3\n",
    "\n",
    "    Args:\n",
    "        n: the decimal number\n",
    "\n",
    "    Returns:\n",
    "        True/False\n",
    "    \"\"\"\n",
    "    if n <= 3:\n",
    "        return n == 2 or n == 3\n",
    "\n",
    "    numberOfBits = len(str(bin(n)))-2\n",
    "    if numberOfBits >= 1536:\n",
    "        k = 3\n",
    "    elif numberOfBits >= 1024:\n",
    "        k = 4\n",
    "    elif numberOfBits >= 512:\n",
    "        k = 7\n",
    "    else:\n",
    "        k = 14\n",
    "    \n",
    "    # Miller_Rabin primality test\n",
    "    # initiate d and s, make the equation n − 1 = 2^(s) * d hold\n",
    "    d = n-1\n",
    "    s = 0\n",
    "\n",
    "    # when d is a even number, we need to process it to an odd number\n",
    "    while d % 2 == 0:\n",
    "        d >>= 1\n",
    "        s += 1\n",
    "\n",
    "    for i in range(k):\n",
    "        a = random.randint(2, n-2)\n",
    "        # print(\"d now is {}\".format(d))\n",
    "        x = pow(a, int(d), n)\n",
    "\n",
    "        for j in range(s):\n",
    "            y = pow(x, 2, n)\n",
    "            if y == 1 and x != 1 and x != n - 1:\n",
    "                return False\n",
    "            x = y\n",
    "        if y != 1:\n",
    "            return False\n",
    "    return True"
   ]
  },
  {
   "cell_type": "code",
   "execution_count": 329,
   "id": "8f7a436f",
   "metadata": {},
   "outputs": [],
   "source": [
    "def generate_large_prime(nbits):\n",
    "    \"\"\"\n",
    "    This function is to generate two random prime number (p,q) with the given number of bits.\n",
    "    To make factoring harder, p and q should be chosen at random, be similar in magnitude, but differ in length.\n",
    "\n",
    "    Args:\n",
    "        nbits: The number of bits (which we want for modulus).\n",
    "\n",
    "    Returns:\n",
    "        (p,q)\n",
    "    \"\"\"\n",
    "\n",
    "    bitDifference = nbits // 32\n",
    "\n",
    "    while True:\n",
    "        # genetate a random bits which have nbits//2 bits\n",
    "        p = random.getrandbits(nbits//2 + bitDifference)\n",
    "        # make sure n is an odd number, because all prime number is odd, except 2, which we don't consider it.\n",
    "        p = p|1\n",
    "        if isPrime(p):\n",
    "            break\n",
    "    \n",
    "    while True:\n",
    "        q = random.getrandbits(nbits//2 - bitDifference)\n",
    "        q = q|1\n",
    "        if isPrime(q) & (q!=p):\n",
    "            break\n",
    "    \n",
    "    return (p,q)"
   ]
  },
  {
   "cell_type": "code",
   "execution_count": 330,
   "id": "a1bbd48c",
   "metadata": {},
   "outputs": [
    {
     "name": "stdout",
     "output_type": "stream",
     "text": [
      "(37226225443400218887600801714878132336324840767254250414583047109964151904528513, 26917164407136580051531108989034362083872152595282302996413402258415287)\n",
      "267\n",
      "236\n",
      "501\n"
     ]
    }
   ],
   "source": [
    "(p,q) = generate_large_prime(500)\n",
    "print((p,q))\n",
    "print(len(str(bin(p))))\n",
    "print(len(str(bin(q))))\n",
    "print(len(str(bin(p*q))))"
   ]
  },
  {
   "cell_type": "markdown",
   "id": "231d5687",
   "metadata": {},
   "source": [
    "### Step 2: Selecting the public exponent e using generate_public_exponent function \n",
    "\n",
    "generate_public_exponent function will generate a random number between 2 and phi-1, then check if that number is relatively prime to phi (i.e. their greatest common divisor is 1). If it is not relatively prime, it will generate a new random number and repeat this process until it finds a relatively prime number."
   ]
  },
  {
   "cell_type": "markdown",
   "id": "3a9d4c05",
   "metadata": {},
   "source": [
    "## Question:\n",
    "Based on the above description,complete the following function to generate public key exponent e:"
   ]
  },
  {
   "cell_type": "code",
   "execution_count": 323,
   "id": "75b85b5c",
   "metadata": {},
   "outputs": [],
   "source": [
    "def is_relatively_prime(x, y):\n",
    "    # Determining if two numbers are relatively prime\n",
    "    gcd = math.gcd(x,y)\n",
    "    return gcd == 1\n",
    "\n",
    "def generate_public_exponent(phi):\n",
    "    # modulus - n\n",
    "    # publicExponent - e\n",
    "    # privateExponent - d\n",
    "    # prime1 - p\n",
    "    # prime2 - q\n",
    "\n",
    "    while True:\n",
    "        e = random.randint(2, phi-1)\n",
    "        if math.gcd(e,phi) == 1:\n",
    "            return e"
   ]
  },
  {
   "cell_type": "markdown",
   "id": "00aabab8",
   "metadata": {},
   "source": [
    "### Step 3 : Selecting the private exponent d using  calculate_private_exponent(phi, e) function\n",
    "\n",
    "This function will calculate the modular inverse of e mod phi. The modular inverse of a number is a number such that when it is multiplied by the original number, the result is 1 mod some other number. In this case, the result should be 1 mod phi.\n",
    "\n",
    "The function mod_inverse(a,m) is used to find the modular inverse of a number. It returns the number x such that a*x = 1 mod m."
   ]
  },
  {
   "cell_type": "markdown",
   "id": "20b454f0",
   "metadata": {},
   "source": [
    "## Question:\n",
    "Based on the above description,complete the following function by writing the code for the mod_inverse(e, phi) function in order to generate public key exponent e:"
   ]
  },
  {
   "cell_type": "code",
   "execution_count": 338,
   "id": "ee438e05",
   "metadata": {},
   "outputs": [],
   "source": [
    "def extended_euclidean_algorithm(a,b):\n",
    "    # Use Extended Euclidean Algorithm\n",
    "    # see: https://en.wikipedia.org/wiki/Modular_multiplicative_inverse\n",
    "    # see: https://www.educative.io/answers/what-is-extended-euclidean-algorithm\n",
    "    # a*x + b*y = gcd(a,b) = r, given a and b, the Extended Euclidean Algorithm can get x, y and r\n",
    "    # in our case, ed + y*phi = 1 = gcd(e,phi), we need to calculate d. \n",
    "\n",
    "    if a == 0: \n",
    "        return b, 0, 1        \n",
    "    gcd, x, y = extended_euclidean_algorithm(b%a, a)\n",
    "    x,y = y - (b//a) * x, x \n",
    "    return gcd, x, y\n",
    "\n",
    "def mod_inverse(a,b):\n",
    "    gcd,x,y = extended_euclidean_algorithm(a,b)\n",
    "    return x"
   ]
  },
  {
   "cell_type": "code",
   "execution_count": 341,
   "id": "246a3f2e",
   "metadata": {},
   "outputs": [
    {
     "name": "stdout",
     "output_type": "stream",
     "text": [
      "A:1,B:-16,C:1\n"
     ]
    }
   ],
   "source": [
    "A,B,C = extended_euclidean_algorithm(3,49)\n",
    "print('A:{},B:{},C:{}'.format(A,B,C))"
   ]
  },
  {
   "cell_type": "code",
   "execution_count": null,
   "id": "3e55285b",
   "metadata": {},
   "outputs": [],
   "source": [
    "def calculate_private_exponent(phi, e):\n",
    "    # Calculating the modular inverse of e mod phi\n",
    "    d = mod_inverse(e, phi)\n",
    "    if(d < 0):\n",
    "        d += phi\n",
    "    return d"
   ]
  },
  {
   "cell_type": "markdown",
   "id": "a2f0bdf7",
   "metadata": {},
   "source": [
    "## Writing encryption and decryption functions\n",
    "\n"
   ]
  },
  {
   "cell_type": "markdown",
   "id": "f0e2c475",
   "metadata": {},
   "source": [
    "### Encryption\n",
    "\n",
    "The encrypt function takes the plaintext and the public key as input, and returns the ciphertext. The encryption is done by raising the plaintext to the power of the public exponent (e) and then taking the remainder when divided by n."
   ]
  },
  {
   "cell_type": "markdown",
   "id": "1fa22e1e",
   "metadata": {},
   "source": [
    "## Question:\n",
    "Write a function to do the encryption:"
   ]
  },
  {
   "cell_type": "code",
   "execution_count": null,
   "id": "8d44fa6a",
   "metadata": {},
   "outputs": [],
   "source": [
    "def encrypt(message, e, n):\n",
    "    message = message.encode()\n",
    "    ciphertext = \n"
   ]
  },
  {
   "attachments": {},
   "cell_type": "markdown",
   "id": "20943ad3",
   "metadata": {},
   "source": [
    "### Decryption\n",
    "The decrypt function takes the ciphertext and the private key as input, and returns the original plaintext. The decryption is done by raising the ciphertext to the power of the private exponent (d) and then taking the remainder when divided by n."
   ]
  },
  {
   "cell_type": "markdown",
   "id": "fc1912f5",
   "metadata": {},
   "source": [
    "## Question:\n",
    "Write a function to do the decryption:"
   ]
  },
  {
   "cell_type": "code",
   "execution_count": null,
   "id": "a414b1ed",
   "metadata": {},
   "outputs": [],
   "source": [
    "def decrypt...\n",
    "\n"
   ]
  },
  {
   "cell_type": "markdown",
   "id": "b3fbcc54",
   "metadata": {},
   "source": [
    "## Question:\n",
    "\n",
    "based on the functions you implemented above, calculate p, q, n, phi,e, and d for a rather small amount of n. Then consider a specefic message and do the encrytion and decryption and provide the output. What will hapen for large values of n and why? "
   ]
  },
  {
   "cell_type": "code",
   "execution_count": null,
   "id": "241eee64",
   "metadata": {},
   "outputs": [],
   "source": []
  },
  {
   "cell_type": "markdown",
   "id": "d12e1b72",
   "metadata": {},
   "source": [
    "# Denial of Service (DoS) attack"
   ]
  },
  {
   "cell_type": "markdown",
   "id": "3604d502",
   "metadata": {},
   "source": [
    "Suppose you have a Python web server that does the following:\n",
    "- Receives a file over HTTP \n",
    "- Perform the processing of the file\n",
    "- sends back a response via HTTP\n",
    "\n",
    "For each HTTP request, the server uses a dedicated thread to allow multiple users to access the server simultaneously. In addition, in order to reduce the size of data transmitted through the network, this server utilizes the latest compression technology  (that's a joke). \n",
    "\n",
    "Files contain substitution rules along with payloads. At the beginning of every file, these rules are listed.Each line in the file that begins with \"*\" is considered a rule. As an example, consider the following document:\n",
    "\n",
    "\"\"\"\n",
    "\n",
    "$*$ DoS==Denial of Service \n",
    "\n",
    "$*$ nt==network\n",
    "\n",
    "$*$ ac==attack\n",
    "\n",
    "A DoS ac is an ac meant to shut down a machine or nt, making it inaccessible to its intended users.\n",
    "\n",
    "\"\"\"\n",
    "\n",
    "This text can be can be decompressed to:\n",
    "\n",
    "\"\"\"\n",
    "\n",
    "A Denial of Service attack is an attack meant to shut down a machine or network, making it inaccessible to its intended users.\n",
    "\n",
    "\"\"\"\n",
    "\n",
    "Following is the decompression function responsible for decoding the original text from the compressed text: \n"
   ]
  },
  {
   "cell_type": "markdown",
   "id": "7eb68c60",
   "metadata": {},
   "source": [
    "## Decompression"
   ]
  },
  {
   "cell_type": "code",
   "execution_count": null,
   "id": "8107002b",
   "metadata": {},
   "outputs": [],
   "source": [
    "def decompress(compressed_text):\n",
    "    # Initialize an empty dictionary to store the substitution rules\n",
    "    substitution_rules = {}\n",
    "    # Initialize an empty string to store the final result\n",
    "    decompressed_text = \"\"\n",
    "    # Iterate over each line of the input text\n",
    "    for line in compressed_text.split(\"\\n\"):\n",
    "        # Check if the line starts with \"*\"\n",
    "        if line.startswith(\"*\"):\n",
    "            # If so, split the line into key and value, remove leading/trailing whitespaces, and store the rule in the dictionary\n",
    "            key, value = map(str.strip, line[1:].split(\"=\"))\n",
    "            substitution_rules[key] = value\n",
    "            # Continue to the next line\n",
    "            continue\n",
    "        # If the line does not start with \"*\", add the line to the final result\n",
    "        decompressed_text += line + \"\\n\"\n",
    "    # Keep looping until no more rules are applied\n",
    "    while True:\n",
    "        # Initialize a flag to check if a rule is applied\n",
    "        rule_applied = False\n",
    "        # Iterate over each key in the dictionary\n",
    "        for key in substitution_rules:\n",
    "            # Check if the key is present in the final result\n",
    "            if key in decompressed_text:\n",
    "                # If so, replace the key with the corresponding value and set the flag to True\n",
    "                decompressed_text = decompressed_text.replace(key, substitution_rules[key])\n",
    "                rule_applied = True\n",
    "        # If no rule is applied, exit the loop\n",
    "        if not rule_applied:\n",
    "            break\n",
    "    # Return the final result\n",
    "    return decompressed_text"
   ]
  },
  {
   "cell_type": "markdown",
   "id": "61341941",
   "metadata": {},
   "source": [
    "### Example for decompress function:"
   ]
  },
  {
   "cell_type": "code",
   "execution_count": null,
   "id": "65f0ce15",
   "metadata": {},
   "outputs": [],
   "source": [
    "if __name__ == '__main__':\n",
    "    res = decompress(\"\"\"\n",
    "* ds = Denial of service attack\n",
    "* p_ = Denial of service attacks\n",
    "* A = attacks\n",
    "* U=users\n",
    "* S=server\n",
    "* N=network\n",
    "* sm=system\n",
    "\n",
    "a ds is an attack meant to shut down a machine or N, making it inaccessible to its intended U.\n",
    "\n",
    "This can be accomplished by overwhelming the targeted sm with excessive traffic or requests,\n",
    "causing it to crash or become unavailable to U.\n",
    "\n",
    "There are several different types of p_, including network-level A,\n",
    "application-level A, and distributed p_ . \n",
    "    \"\"\")\n",
    "    \n",
    "    print(res)"
   ]
  },
  {
   "cell_type": "markdown",
   "id": "5ae7aac0",
   "metadata": {},
   "source": [
    "## Vulnerability in this system"
   ]
  },
  {
   "cell_type": "markdown",
   "id": "21d370f1",
   "metadata": {},
   "source": [
    "### Issue:\n",
    "\n",
    "An issue of the implemmented decompress function is that the function does not have any protections against infinite looping. An attacker could craft a file with a rule that replaces a string with itself, which would cause the function to loop infinitely and consume a large amount of processing power. In other words, the problem will happen in the case:\n",
    "\n",
    "key= key\n",
    "Here, the rule is that \"key\" should be replaced with \"key\". When the decompress function encounters the word \"key\" in the input, it will replace it with \"key\", and the next time it will replace it with \"key\" again and so on. This will cause the function to loop infinitely and consume a large amount of processing power.An attacker could craft a file with the following text to cause the function to loop infinitely and consume a large amount of processing power:"
   ]
  },
  {
   "cell_type": "code",
   "execution_count": null,
   "id": "1aeafc83",
   "metadata": {},
   "outputs": [],
   "source": [
    "if __name__ == '__main__':\n",
    "    res_ = decompress(\"\"\"\n",
    "* ds = Denial of service attack\n",
    "* p_ = Denial of service attacks\n",
    "* A = A\n",
    "* U=users\n",
    "* S=server\n",
    "* N=network\n",
    "* sm=system\n",
    "\n",
    "a ds is an attack meant to shut down a machine or N, making it inaccessible to its intended U.\n",
    "\n",
    "This can be accomplished by overwhelming the targeted sm with excessive traffic or requests,\n",
    "causing it to crash or become unavailable to U.\n",
    "\n",
    "There are several different types of p_, including network-level A,\n",
    "application-level A, and distributed p_ . \n",
    "    \"\"\")\n",
    "    \n",
    "    print(res_)"
   ]
  },
  {
   "cell_type": "markdown",
   "id": "77f7032f",
   "metadata": {},
   "source": [
    "The substitution rule \"A = A\" would replace the string \"A\" with itself, causing the function to keep looping and replacing the string \"A\" with itself, without making any progress. This would consume a large amount of processing power and could cause the program to crash."
   ]
  },
  {
   "cell_type": "markdown",
   "id": "a6b58e30",
   "metadata": {},
   "source": [
    "## Question"
   ]
  },
  {
   "cell_type": "markdown",
   "id": "245c2330",
   "metadata": {},
   "source": [
    "Find the section of code within the provided decompression function that caused this vulnerability and explain your selection by detailing the rationale behind it."
   ]
  },
  {
   "cell_type": "code",
   "execution_count": null,
   "id": "eb68fac3",
   "metadata": {},
   "outputs": [],
   "source": []
  },
  {
   "cell_type": "markdown",
   "id": "881230ee",
   "metadata": {},
   "source": [
    "# Solve the vulnerability:"
   ]
  },
  {
   "cell_type": "markdown",
   "id": "12c7216d",
   "metadata": {},
   "source": [
    "## Question :\n",
    "\n",
    "- Find a piece of code to be added to decompression function in order to prevent this vulnerability.\n",
    "\n",
    "- Test the functionality of your code by testing it on the given example."
   ]
  },
  {
   "cell_type": "code",
   "execution_count": null,
   "id": "7d672726",
   "metadata": {},
   "outputs": [],
   "source": []
  },
  {
   "cell_type": "code",
   "execution_count": null,
   "id": "66802197",
   "metadata": {},
   "outputs": [],
   "source": []
  }
 ],
 "metadata": {
  "kernelspec": {
   "display_name": "Python 3 (ipykernel)",
   "language": "python",
   "name": "python3"
  },
  "language_info": {
   "codemirror_mode": {
    "name": "ipython",
    "version": 3
   },
   "file_extension": ".py",
   "mimetype": "text/x-python",
   "name": "python",
   "nbconvert_exporter": "python",
   "pygments_lexer": "ipython3",
   "version": "3.9.12"
  }
 },
 "nbformat": 4,
 "nbformat_minor": 5
}
