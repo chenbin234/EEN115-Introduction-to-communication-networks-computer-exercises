{
 "cells": [
  {
   "cell_type": "markdown",
   "id": "b20a46ed",
   "metadata": {},
   "source": [
    "# RSA cryptography method\n",
    "## Introduction:\n",
    "\n",
    "RSA (Rivest-Shamir-Adleman) is a widely-used method of public-key cryptography. It is named after its inventors, Ron Rivest, Adi Shamir, and Leonard Adleman, who first published it in 1977. RSA is used to encrypt and decrypt messages, as well as to create digital signatures.\n"
   ]
  },
  {
   "cell_type": "markdown",
   "id": "12089524",
   "metadata": {},
   "source": [
    "## Use python library \n",
    "\n",
    "\n",
    "The rsa library (https://stuvel.eu/python-rsa-doc/usage.html) is a Python library for implementing the RSA algorithm. It provides a simple and easy-to-use implementation of RSA, including key generation, encryption, decryption, and signing/verifying. \n",
    "\n",
    "Here are a few examples of how you can use the rsa library:"
   ]
  },
  {
   "cell_type": "markdown",
   "id": "29206386",
   "metadata": {},
   "source": [
    "### Key Generation:\n",
    "\n",
    "The **\"rsa.newkeys()\"** function is a part of the \"rsa\" library in Python and generates a new RSA key pair. The function takes one optional argument which is the size of the key in bits. If the argument is not specified, the default key size is 2048 bits. The function returns a tuple containing the public and private keys. The public key can be shared with anyone for encryption, while the private key must be kept secure for decryption and signing."
   ]
  },
  {
   "cell_type": "code",
   "execution_count": 1,
   "id": "10d67a5b",
   "metadata": {},
   "outputs": [],
   "source": [
    "import rsa\n",
    "(pubkey, privkey) = rsa.newkeys(1024)\n"
   ]
  },
  {
   "cell_type": "markdown",
   "id": "d6dc6239",
   "metadata": {},
   "source": [
    "In RSA cryptography, the public key is composed of two components:\n",
    "\n",
    "- n: The modulus, which is the product of two large prime numbers and forms the foundation of the encryption and decryption process. \n",
    "\n",
    "- e: The public exponent, which is a small odd integer used to encrypt messages. It is typically chosen to be 65537.\n",
    "These two components of public key, can be used by others to encrypt messages that can only be decrypted using the corresponding private key. Here the **public key** is printed:"
   ]
  },
  {
   "cell_type": "code",
   "execution_count": 2,
   "id": "df2ede62",
   "metadata": {},
   "outputs": [
    {
     "name": "stdout",
     "output_type": "stream",
     "text": [
      "PublicKey(144389740213896134417199635846833250941375996735553528566635481409575484435237065570119328219006344667626436813880150861310759118198712648710542343514726003014283106940101152006604493733670717857996140641364346481306749092388721948762539065588138372969743594412503075248596119266249233710908652243055543924177, 65537)\n"
     ]
    }
   ],
   "source": [
    "print(pubkey)"
   ]
  },
  {
   "cell_type": "markdown",
   "id": "eb14becf",
   "metadata": {},
   "source": [
    "The private key is kept secret and should not be shared with others. In RSA cryptography, the private key is composed of five components:\n",
    "\n",
    "- n: The modulus, which is the product of two large prime numbers and forms the foundation of the encryption and decryption process. \n",
    "\n",
    "- e: The public exponent, which is a small odd integer used to encrypt messages. It is typically chosen to be 65537. \n",
    "\n",
    "- d: The private exponent, which is used to decrypt messages and create digital signatures. It is kept secret and derived from the public exponent and other information, including the modulus and prime factors used to generate the key. \n",
    "- p: One of the prime factors of n. \n",
    "\n",
    "- q: The other prime factor of n. \n",
    "\n",
    "The **private key** is printed here:"
   ]
  },
  {
   "cell_type": "code",
   "execution_count": 3,
   "id": "66995a27",
   "metadata": {},
   "outputs": [
    {
     "name": "stdout",
     "output_type": "stream",
     "text": [
      "PrivateKey(144389740213896134417199635846833250941375996735553528566635481409575484435237065570119328219006344667626436813880150861310759118198712648710542343514726003014283106940101152006604493733670717857996140641364346481306749092388721948762539065588138372969743594412503075248596119266249233710908652243055543924177, 65537, 105933251277363228940107006588452879621637253384178170507361753164398865413660506076605238863943468030407469595571744414812150692299472077991062976016532540260220179630745795892488672098507148595760647582600541641786558071592790076494002324281136749833670394994104391915882790336471145127144803726077963492873, 56189001343244846518694661247126548677990158415424907826402526947928394414356105812252547123327156991464053500454299303727206314420427269475442123004587773855074151, 2569715367102799667843677374653038283861130737066747748064805502698936029890787270631435080612000212793136262597506229260406847937040166437957127)\n"
     ]
    }
   ],
   "source": [
    "print(privkey)"
   ]
  },
  {
   "cell_type": "markdown",
   "id": "1ccf1dc7",
   "metadata": {},
   "source": [
    "### Encryption:\n",
    "\n",
    "The **rsa.encrypt()** function is used to encrypt the plaintext message using the public key. The plaintext message must be passed as bytes, and the public key is passed as the second argument. The function returns the ciphertext, which is the encrypted version of the plaintext message."
   ]
  },
  {
   "cell_type": "code",
   "execution_count": 4,
   "id": "7b20344c",
   "metadata": {},
   "outputs": [
    {
     "name": "stdout",
     "output_type": "stream",
     "text": [
      "b'\\x8eQ\\xd7\\'\\x13\\xbc\\'>\\xfcjv\\xa3\\xc9Wd\\x1b\\xa3\\xf9\\xd3\\xef\\xe1(\\xab\\x92n5r\\x8b\\xe2\\xa9\\xed\\xef\\xfc\\x08@\\xf1\\x989g\\xb4\\x9a\\xb6\\xd0qT2\\x91\\xf1z\\x1eO\\x9fGJ$\\xa4\\xd4i([\\x90D\\xdc\\xf4\\x80/\\x90\\xf6+.\\xd6\\xcab\\x8f=Mf\\xe5a\\x18z\"\\x19Ch`\\x00\\xf6p\\xb6\\xd1\\x87\\x12\\xcc\\xbc\\xc3\\xd2rv\\xa0\\x1fb\\xe2\\xf9\\xc7\\x98\\xaf0\\xa5&4\\n\\x90h\\x19(b!Kj\\xe9qW*(\\xb29$'\n"
     ]
    }
   ],
   "source": [
    "# Define the message to be encrypted\n",
    "message = \"Hello, World!\"\n",
    "\n",
    "# Encode the message as a byte string\n",
    "message = message.encode()\n",
    "\n",
    "# Encrypt the message using the public key\n",
    "ciphertext = rsa.encrypt(message, pubkey)\n",
    "\n",
    "print(ciphertext)"
   ]
  },
  {
   "cell_type": "markdown",
   "id": "ba60d6f4",
   "metadata": {},
   "source": [
    "The output is a binary string, which represents the encrypted message. It is generated by applying the RSA encryption algorithm to the original message, using the public key of the recipient. The output is unreadable, as it has been transformed into a sequence of seemingly random bytes through the encryption process. To decrypt the message, the recipient would use their private key."
   ]
  },
  {
   "cell_type": "markdown",
   "id": "5b86530c",
   "metadata": {},
   "source": [
    "###  Decryption:\n",
    "\n",
    "The **rsa.decrypt()** function is used to decrypt the ciphertext using the private key. The ciphertext and the private key are passed as arguments. The function returns the decrypted plaintext message as bytes, which can then be decoded to a string using the .decode() method."
   ]
  },
  {
   "cell_type": "code",
   "execution_count": 5,
   "id": "e106ef89",
   "metadata": {},
   "outputs": [
    {
     "name": "stdout",
     "output_type": "stream",
     "text": [
      "Hello, World!\n"
     ]
    }
   ],
   "source": [
    "plaintext = rsa.decrypt(ciphertext, privkey).decode()\n",
    "\n",
    "print(plaintext)"
   ]
  },
  {
   "cell_type": "markdown",
   "id": "c65cbb97",
   "metadata": {},
   "source": [
    "###  Signing:\n",
    "\n",
    "The rsa.sign() function is used to sign the message using the private key. The message must be passed as bytes, and the private key and a hash function such as 'SHA-1' are passed as arguments. The function returns the signature, which is a digital signature of the message.  The SHA-1 argument specifies the hashing algorithm to use when generating the signature.\n",
    "\n",
    "In this case, the SHA-1 algorithm is used to hash the message, and the resulting hash is then signed using the private key. The signature acts as a digital signature, verifying that the message came from the owner of the private key and has not been tampered with."
   ]
  },
  {
   "cell_type": "code",
   "execution_count": 6,
   "id": "8d70df90",
   "metadata": {},
   "outputs": [
    {
     "name": "stdout",
     "output_type": "stream",
     "text": [
      "b'x\\x0b\\xeav\\x1b\\xea\\xa9\\x1dl0\\x0b\\xab;/\\xea\\x10(\\x84{ 6exx\\xca\\xd8\\x12y\\x8a\\xcd\\xdcu\\x98\\x7f\\xd9\\x80\\xc5\\x1by\\xaf\\x07\\xcf\\xf6O\\xe3\\x89\\x0el\\x931\\xc4\\xb5\\xd0OH\\xea4\\xc9\\xbb\\x82\\xb4\\xd4~\\x9dDr\\xee\\xd7\\x019\\xe6_?\\x91t\\xeb\\x91\\x95\\x05}b\\x87\\xa5\\x19\\xb4\\xfa\\xb1\\xfd\\xe9\\x8d\\xc7\\xc8q\\xf5Li\\x01\\xc8\\x8e\\xde\\xe9\\x97\\xd6+\\xbb>4\\xc4\\x9e\\x1a\\x8dN\\xc4\\x0618\\x92\\xd7\\x042\\xe5\\x0e\\ne\\xb6&y}'\n"
     ]
    }
   ],
   "source": [
    "message = \"Hello, World!\"\n",
    "signature = rsa.sign(message.encode(), privkey, 'SHA-1')\n",
    "\n",
    "print(signature)"
   ]
  },
  {
   "cell_type": "markdown",
   "id": "886e0abd",
   "metadata": {},
   "source": [
    "### Verifying:\n",
    "\n",
    "The rsa.verify() function is used to verify the signature of a message. The message, signature, and public key are passed as arguments. If the signature is valid, the function returns True, otherwise it raises a rsa.pkcs1.VerificationError exception."
   ]
  },
  {
   "cell_type": "code",
   "execution_count": 7,
   "id": "ca6bf39a",
   "metadata": {},
   "outputs": [
    {
     "data": {
      "text/plain": [
       "'SHA-1'"
      ]
     },
     "execution_count": 7,
     "metadata": {},
     "output_type": "execute_result"
    }
   ],
   "source": [
    "rsa.verify(message.encode(), signature, pubkey)"
   ]
  },
  {
   "cell_type": "code",
   "execution_count": 8,
   "id": "3107d6fc",
   "metadata": {},
   "outputs": [
    {
     "name": "stdout",
     "output_type": "stream",
     "text": [
      "Signature is valid.\n"
     ]
    }
   ],
   "source": [
    "import rsa\n",
    "\n",
    "# Generate a new RSA key pair\n",
    "(pubkey, privkey) = rsa.newkeys(1024)\n",
    "\n",
    "# Define the message to be signed\n",
    "message = \"Hello, World!\"\n",
    "message = message.encode()\n",
    "\n",
    "# Sign the message using the private key\n",
    "signature = rsa.sign(message, privkey, 'SHA-256')\n",
    "\n",
    "# Verify the signature using the public key\n",
    "try:\n",
    "    rsa.verify(message, signature, pubkey)\n",
    "    print(\"Signature is valid.\")\n",
    "except rsa.pkcs1.VerificationError:\n",
    "    print(\"Signature is invalid.\")\n"
   ]
  },
  {
   "cell_type": "markdown",
   "id": "9782024f",
   "metadata": {},
   "source": [
    "## Implementing RSA without using rsa library"
   ]
  },
  {
   "cell_type": "markdown",
   "id": "d7501fdb",
   "metadata": {},
   "source": [
    "In this part, we plan to forget rsa library and try to implement RSA algorithm step by step. We want to cover the following topics:\n",
    "\n",
    "- Generating RSA keys: We will learn how to generate a public and private key using Python.\n",
    "\n",
    "- Encryption and Decryption: We will learn how to encrypt and decrypt a message using the RSA method.\n",
    "\n",
    "\n",
    "Let's get started!"
   ]
  },
  {
   "cell_type": "markdown",
   "id": "177a87d9",
   "metadata": {},
   "source": [
    "## Step1: Generating RSA keys:\n",
    "\n",
    "The process of generating RSA keys involves the following steps:\n",
    "\n",
    "- Select two large prime numbers, p and q.\n",
    "- Compute n = p * q. n is used as the modulus for both the public and private keys.\n",
    "- Compute the totient of n, denoted as φ(n) = (p-1)*(q-1).\n",
    "- Choose a public exponent, e, such that 1 < e < φ(n) and e is coprime to φ(n).\n",
    "- Determine the private exponent, d, such that d * e ≡ 1 (mod φ(n)). d can be calculated using the extended Euclidean algorithm.\n",
    "\n",
    "To generate RSA keys in Python, we will need to import the following libraries:"
   ]
  },
  {
   "cell_type": "code",
   "execution_count": 9,
   "id": "229a389d",
   "metadata": {},
   "outputs": [],
   "source": [
    "import random\n",
    "import math\n",
    "import sympy"
   ]
  },
  {
   "cell_type": "markdown",
   "id": "44f5b716",
   "metadata": {},
   "source": [
    "###  generate_large_prime() function:\n",
    "\n",
    "This function has been used to generate two large prime numbers, p and q."
   ]
  },
  {
   "cell_type": "markdown",
   "id": "a8f79c70",
   "metadata": {},
   "source": [
    "## Question:\n",
    "Complete the following function to generate p and q:"
   ]
  },
  {
   "cell_type": "code",
   "execution_count": 10,
   "id": "8f7a436f",
   "metadata": {},
   "outputs": [],
   "source": [
    "def generate_large_prime():\n",
    "      # To do  \n",
    "    return ..."
   ]
  },
  {
   "cell_type": "markdown",
   "id": "231d5687",
   "metadata": {},
   "source": [
    "### Step 2: Selecting the public exponent e using generate_public_exponent function \n",
    "\n",
    "generate_public_exponent function will generate a random number between 2 and phi-1, then check if that number is relatively prime to phi (i.e. their greatest common divisor is 1). If it is not relatively prime, it will generate a new random number and repeat this process until it finds a relatively prime number."
   ]
  },
  {
   "cell_type": "markdown",
   "id": "3a9d4c05",
   "metadata": {},
   "source": [
    "## Question:\n",
    "Based on the above description,complete the following function to generate public key exponent e:"
   ]
  },
  {
   "cell_type": "code",
   "execution_count": 11,
   "id": "75b85b5c",
   "metadata": {},
   "outputs": [],
   "source": [
    "def is_relatively_prime(x, y):\n",
    "    # Determining if two numbers are relatively prime\n",
    "    return ...\n",
    "\n",
    "\n",
    "\n",
    "\n",
    "def generate_public_exponent(phi):\n",
    "    ...\n",
    "    return e\n"
   ]
  },
  {
   "cell_type": "markdown",
   "id": "00aabab8",
   "metadata": {},
   "source": [
    "### Step 3 : Selecting the private exponent d using  calculate_private_exponent(phi, e) function\n",
    "\n",
    "This function will calculate the modular inverse of e mod phi. The modular inverse of a number is a number such that when it is multiplied by the original number, the result is 1 mod some other number. In this case, the result should be 1 mod phi.\n",
    "\n",
    "The function mod_inverse(a,m) is used to find the modular inverse of a number. It returns the number x such that a*x = 1 mod m."
   ]
  },
  {
   "cell_type": "markdown",
   "id": "20b454f0",
   "metadata": {},
   "source": [
    "## Question:\n",
    "Based on the above description,complete the following function by writing the code for the mod_inverse(e, phi) function in order to generate public key exponent e:"
   ]
  },
  {
   "cell_type": "code",
   "execution_count": 12,
   "id": "3e55285b",
   "metadata": {},
   "outputs": [],
   "source": [
    "def calculate_private_exponent(phi, e):\n",
    "    # Calculating the modular inverse of e mod phi\n",
    "    d = mod_inverse(e, phi)\n",
    "    return d"
   ]
  },
  {
   "cell_type": "markdown",
   "id": "a2f0bdf7",
   "metadata": {},
   "source": [
    "## Writing encryption and decryption functions\n",
    "\n"
   ]
  },
  {
   "cell_type": "markdown",
   "id": "f0e2c475",
   "metadata": {},
   "source": [
    "### Encryption\n",
    "\n",
    "The encrypt function takes the plaintext and the public key as input, and returns the ciphertext. The encryption is done by raising the plaintext to the power of the public exponent (e) and then taking the remainder when divided by n."
   ]
  },
  {
   "cell_type": "markdown",
   "id": "1fa22e1e",
   "metadata": {},
   "source": [
    "## Question:\n",
    "Write a function to do the encryption:"
   ]
  },
  {
   "cell_type": "code",
   "execution_count": 13,
   "id": "8d44fa6a",
   "metadata": {},
   "outputs": [],
   "source": [
    "def encrypt...\n"
   ]
  },
  {
   "cell_type": "markdown",
   "id": "20943ad3",
   "metadata": {},
   "source": [
    "### Dcryption\n",
    "The decrypt function takes the ciphertext and the private key as input, and returns the original plaintext. The decryption is done by raising the ciphertext to the power of the private exponent (d) and then taking the remainder when divided by n."
   ]
  },
  {
   "cell_type": "markdown",
   "id": "fc1912f5",
   "metadata": {},
   "source": [
    "## Question:\n",
    "Write a function to do the decryption:"
   ]
  },
  {
   "cell_type": "code",
   "execution_count": 14,
   "id": "a414b1ed",
   "metadata": {},
   "outputs": [],
   "source": [
    "def decrypt...\n",
    "\n"
   ]
  },
  {
   "cell_type": "markdown",
   "id": "b3fbcc54",
   "metadata": {},
   "source": [
    "## Question:\n",
    "\n",
    "based on the functions you implemented above, calculate p, q, n, phi,e, and d for a rather small amount of n. Then consider a specefic message and do the encrytion and decryption and provide the output. What will hapen for large values of n and why? "
   ]
  },
  {
   "cell_type": "code",
   "execution_count": null,
   "id": "241eee64",
   "metadata": {},
   "outputs": [],
   "source": []
  },
  {
   "cell_type": "markdown",
   "id": "d12e1b72",
   "metadata": {},
   "source": [
    "# Denial of Service (DoS) attack"
   ]
  },
  {
   "cell_type": "markdown",
   "id": "3604d502",
   "metadata": {},
   "source": [
    "Suppose you have a Python web server that does the following:\n",
    "- Receives a file over HTTP \n",
    "- Perform the processing of the file\n",
    "- sends back a response via HTTP\n",
    "\n",
    "For each HTTP request, the server uses a dedicated thread to allow multiple users to access the server simultaneously. In addition, in order to reduce the size of data transmitted through the network, this server utilizes the latest compression technology  (that's a joke). \n",
    "\n",
    "Files contain substitution rules along with payloads. At the beginning of every file, these rules are listed.Each line in the file that begins with \"*\" is considered a rule. As an example, consider the following document:\n",
    "\n",
    "\"\"\"\n",
    "\n",
    "$*$ DoS==Denial of Service \n",
    "\n",
    "$*$ nt==network\n",
    "\n",
    "$*$ ac==attack\n",
    "\n",
    "A DoS ac is an ac meant to shut down a machine or nt, making it inaccessible to its intended users.\n",
    "\n",
    "\"\"\"\n",
    "\n",
    "This text can be can be decompressed to:\n",
    "\n",
    "\"\"\"\n",
    "\n",
    "A Denial of Service attack is an attack meant to shut down a machine or network, making it inaccessible to its intended users.\n",
    "\n",
    "\"\"\"\n",
    "\n",
    "Following is the decompression function responsible for decoding the original text from the compressed text: \n"
   ]
  },
  {
   "cell_type": "markdown",
   "id": "7eb68c60",
   "metadata": {},
   "source": [
    "## Decompression"
   ]
  },
  {
   "cell_type": "code",
   "execution_count": 2,
   "id": "8107002b",
   "metadata": {},
   "outputs": [],
   "source": [
    "def decompress(compressed_text):\n",
    "    # Initialize an empty dictionary to store the substitution rules\n",
    "    substitution_rules = {}\n",
    "    # Initialize an empty string to store the final result\n",
    "    decompressed_text = \"\"\n",
    "    # Iterate over each line of the input text\n",
    "    for line in compressed_text.split(\"\\n\"):\n",
    "        # Check if the line starts with \"*\"\n",
    "        if line.startswith(\"*\"):\n",
    "            # If so, split the line into key and value, remove leading/trailing whitespaces, and store the rule in the dictionary\n",
    "            key, value = map(str.strip, line[1:].split(\"=\"))\n",
    "            substitution_rules[key] = value\n",
    "            # Continue to the next line\n",
    "            continue\n",
    "        # If the line does not start with \"*\", add the line to the final result\n",
    "        decompressed_text += line + \"\\n\"\n",
    "    # Keep looping until no more rules are applied\n",
    "    while True:\n",
    "        # Initialize a flag to check if a rule is applied\n",
    "        rule_applied = False\n",
    "        # Iterate over each key in the dictionary\n",
    "        for key in substitution_rules:\n",
    "            # Check if the key is present in the final result\n",
    "            if key in decompressed_text:\n",
    "                # If so, replace the key with the corresponding value and set the flag to True\n",
    "                decompressed_text = decompressed_text.replace(key, substitution_rules[key])\n",
    "                rule_applied = True\n",
    "        # If no rule is applied, exit the loop\n",
    "        if not rule_applied:\n",
    "            break\n",
    "    # Return the final result\n",
    "    return decompressed_text"
   ]
  },
  {
   "cell_type": "markdown",
   "id": "61341941",
   "metadata": {},
   "source": [
    "### Example for decompress function:"
   ]
  },
  {
   "cell_type": "code",
   "execution_count": 3,
   "id": "65f0ce15",
   "metadata": {},
   "outputs": [
    {
     "name": "stdout",
     "output_type": "stream",
     "text": [
      "\n",
      "\n",
      "a Denial of service attack is an attack meant to shut down a machine or network, making it inaccessible to its intended users.\n",
      "\n",
      "This can be accomplished by overwhelming the targeted system with excessive traffic or requests,\n",
      "causing it to crash or become unavailable to users.\n",
      "\n",
      "There are several different types of Denial of service attacks, including network-level attacks,\n",
      "application-level attacks, and distributed Denial of service attacks . \n",
      "    \n",
      "\n"
     ]
    }
   ],
   "source": [
    "if __name__ == '__main__':\n",
    "    res = decompress(\"\"\"\n",
    "* ds = Denial of service attack\n",
    "* p_ = Denial of service attacks\n",
    "* A = attacks\n",
    "* U=users\n",
    "* S=server\n",
    "* N=network\n",
    "* sm=system\n",
    "\n",
    "a ds is an attack meant to shut down a machine or N, making it inaccessible to its intended U.\n",
    "\n",
    "This can be accomplished by overwhelming the targeted sm with excessive traffic or requests,\n",
    "causing it to crash or become unavailable to U.\n",
    "\n",
    "There are several different types of p_, including network-level A,\n",
    "application-level A, and distributed p_ . \n",
    "    \"\"\")\n",
    "    \n",
    "    print(res)"
   ]
  },
  {
   "cell_type": "markdown",
   "id": "5ae7aac0",
   "metadata": {},
   "source": [
    "## Vulnerability in this system"
   ]
  },
  {
   "cell_type": "markdown",
   "id": "21d370f1",
   "metadata": {},
   "source": [
    "### Issue:\n",
    "\n",
    "An issue of the implemmented decompress function is that the function does not have any protections against infinite looping. An attacker could craft a file with a rule that replaces a string with itself, which would cause the function to loop infinitely and consume a large amount of processing power. In other words, the problem will happen in the case:\n",
    "\n",
    "key= key\n",
    "Here, the rule is that \"key\" should be replaced with \"key\". When the decompress function encounters the word \"key\" in the input, it will replace it with \"key\", and the next time it will replace it with \"key\" again and so on. This will cause the function to loop infinitely and consume a large amount of processing power.An attacker could craft a file with the following text to cause the function to loop infinitely and consume a large amount of processing power:"
   ]
  },
  {
   "cell_type": "code",
   "execution_count": 4,
   "id": "1aeafc83",
   "metadata": {},
   "outputs": [
    {
     "ename": "KeyboardInterrupt",
     "evalue": "",
     "output_type": "error",
     "traceback": [
      "\u001b[0;31m---------------------------------------------------------------------------\u001b[0m",
      "\u001b[0;31mKeyboardInterrupt\u001b[0m                         Traceback (most recent call last)",
      "Input \u001b[0;32mIn [4]\u001b[0m, in \u001b[0;36m<cell line: 1>\u001b[0;34m()\u001b[0m\n\u001b[1;32m      1\u001b[0m \u001b[38;5;28;01mif\u001b[39;00m \u001b[38;5;18m__name__\u001b[39m \u001b[38;5;241m==\u001b[39m \u001b[38;5;124m'\u001b[39m\u001b[38;5;124m__main__\u001b[39m\u001b[38;5;124m'\u001b[39m:\n\u001b[0;32m----> 2\u001b[0m     res_ \u001b[38;5;241m=\u001b[39m \u001b[43mdecompress\u001b[49m\u001b[43m(\u001b[49m\u001b[38;5;124;43m\"\"\"\u001b[39;49m\n\u001b[1;32m      3\u001b[0m \u001b[38;5;124;43m* ds = Denial of service attack\u001b[39;49m\n\u001b[1;32m      4\u001b[0m \u001b[38;5;124;43m* p_ = Denial of service attacks\u001b[39;49m\n\u001b[1;32m      5\u001b[0m \u001b[38;5;124;43m* A = A\u001b[39;49m\n\u001b[1;32m      6\u001b[0m \u001b[38;5;124;43m* U=users\u001b[39;49m\n\u001b[1;32m      7\u001b[0m \u001b[38;5;124;43m* S=server\u001b[39;49m\n\u001b[1;32m      8\u001b[0m \u001b[38;5;124;43m* N=network\u001b[39;49m\n\u001b[1;32m      9\u001b[0m \u001b[38;5;124;43m* sm=system\u001b[39;49m\n\u001b[1;32m     10\u001b[0m \n\u001b[1;32m     11\u001b[0m \u001b[38;5;124;43ma ds is an attack meant to shut down a machine or N, making it inaccessible to its intended U.\u001b[39;49m\n\u001b[1;32m     12\u001b[0m \n\u001b[1;32m     13\u001b[0m \u001b[38;5;124;43mThis can be accomplished by overwhelming the targeted sm with excessive traffic or requests,\u001b[39;49m\n\u001b[1;32m     14\u001b[0m \u001b[38;5;124;43mcausing it to crash or become unavailable to U.\u001b[39;49m\n\u001b[1;32m     15\u001b[0m \n\u001b[1;32m     16\u001b[0m \u001b[38;5;124;43mThere are several different types of p_, including network-level A,\u001b[39;49m\n\u001b[1;32m     17\u001b[0m \u001b[38;5;124;43mapplication-level A, and distributed p_ . \u001b[39;49m\n\u001b[1;32m     18\u001b[0m \u001b[38;5;124;43m    \u001b[39;49m\u001b[38;5;124;43m\"\"\"\u001b[39;49m\u001b[43m)\u001b[49m\n\u001b[1;32m     20\u001b[0m     \u001b[38;5;28mprint\u001b[39m(res_)\n",
      "Input \u001b[0;32mIn [2]\u001b[0m, in \u001b[0;36mdecompress\u001b[0;34m(compressed_text)\u001b[0m\n\u001b[1;32m     20\u001b[0m rule_applied \u001b[38;5;241m=\u001b[39m \u001b[38;5;28;01mFalse\u001b[39;00m\n\u001b[1;32m     21\u001b[0m \u001b[38;5;66;03m# Iterate over each key in the dictionary\u001b[39;00m\n\u001b[0;32m---> 22\u001b[0m \u001b[38;5;28;01mfor\u001b[39;00m key \u001b[38;5;129;01min\u001b[39;00m substitution_rules:\n\u001b[1;32m     23\u001b[0m     \u001b[38;5;66;03m# Check if the key is present in the final result\u001b[39;00m\n\u001b[1;32m     24\u001b[0m     \u001b[38;5;28;01mif\u001b[39;00m key \u001b[38;5;129;01min\u001b[39;00m decompressed_text:\n\u001b[1;32m     25\u001b[0m         \u001b[38;5;66;03m# If so, replace the key with the corresponding value and set the flag to True\u001b[39;00m\n\u001b[1;32m     26\u001b[0m         decompressed_text \u001b[38;5;241m=\u001b[39m decompressed_text\u001b[38;5;241m.\u001b[39mreplace(key, substitution_rules[key])\n",
      "\u001b[0;31mKeyboardInterrupt\u001b[0m: "
     ]
    }
   ],
   "source": [
    "if __name__ == '__main__':\n",
    "    res_ = decompress(\"\"\"\n",
    "* ds = Denial of service attack\n",
    "* p_ = Denial of service attacks\n",
    "* A = A\n",
    "* U=users\n",
    "* S=server\n",
    "* N=network\n",
    "* sm=system\n",
    "\n",
    "a ds is an attack meant to shut down a machine or N, making it inaccessible to its intended U.\n",
    "\n",
    "This can be accomplished by overwhelming the targeted sm with excessive traffic or requests,\n",
    "causing it to crash or become unavailable to U.\n",
    "\n",
    "There are several different types of p_, including network-level A,\n",
    "application-level A, and distributed p_ . \n",
    "    \"\"\")\n",
    "    \n",
    "    print(res_)"
   ]
  },
  {
   "cell_type": "markdown",
   "id": "77f7032f",
   "metadata": {},
   "source": [
    "The substitution rule \"A = A\" would replace the string \"A\" with itself, causing the function to keep looping and replacing the string \"A\" with itself, without making any progress. This would consume a large amount of processing power and could cause the program to crash."
   ]
  },
  {
   "cell_type": "markdown",
   "id": "a6b58e30",
   "metadata": {},
   "source": [
    "## Question"
   ]
  },
  {
   "cell_type": "markdown",
   "id": "245c2330",
   "metadata": {},
   "source": [
    "Find the section of code within the provided decompression function that caused this vulnerability and explain your selection by detailing the rationale behind it."
   ]
  },
  {
   "cell_type": "code",
   "execution_count": null,
   "id": "eb68fac3",
   "metadata": {},
   "outputs": [],
   "source": []
  },
  {
   "cell_type": "markdown",
   "id": "881230ee",
   "metadata": {},
   "source": [
    "# Solve the vulnerability:"
   ]
  },
  {
   "cell_type": "markdown",
   "id": "12c7216d",
   "metadata": {},
   "source": [
    "## Question :\n",
    "\n",
    "- Find a piece of code to be added to decompression function in order to prevent this vulnerability.\n",
    "\n",
    "- Test the functionality of your code by testing it on the given example."
   ]
  },
  {
   "cell_type": "code",
   "execution_count": null,
   "id": "7d672726",
   "metadata": {},
   "outputs": [],
   "source": []
  },
  {
   "cell_type": "code",
   "execution_count": null,
   "id": "66802197",
   "metadata": {},
   "outputs": [],
   "source": []
  }
 ],
 "metadata": {
  "kernelspec": {
   "display_name": "Python 3 (ipykernel)",
   "language": "python",
   "name": "python3"
  },
  "language_info": {
   "codemirror_mode": {
    "name": "ipython",
    "version": 3
   },
   "file_extension": ".py",
   "mimetype": "text/x-python",
   "name": "python",
   "nbconvert_exporter": "python",
   "pygments_lexer": "ipython3",
   "version": "3.9.12"
  }
 },
 "nbformat": 4,
 "nbformat_minor": 5
}
