{
 "cells": [
  {
   "cell_type": "markdown",
   "id": "b20a46ed",
   "metadata": {},
   "source": [
    "# RSA cryptography method\n",
    "## Introduction:\n",
    "\n",
    "RSA (Rivest-Shamir-Adleman) is a widely-used method of public-key cryptography. It is named after its inventors, Ron Rivest, Adi Shamir, and Leonard Adleman, who first published it in 1977. RSA is used to encrypt and decrypt messages, as well as to create digital signatures.\n"
   ]
  },
  {
   "cell_type": "markdown",
   "id": "12089524",
   "metadata": {},
   "source": [
    "## Use python library \n",
    "\n",
    "\n",
    "The rsa library (https://stuvel.eu/python-rsa-doc/usage.html) is a Python library for implementing the RSA algorithm. It provides a simple and easy-to-use implementation of RSA, including key generation, encryption, decryption, and signing/verifying. \n",
    "\n",
    "Here are a few examples of how you can use the rsa library:"
   ]
  },
  {
   "cell_type": "markdown",
   "id": "29206386",
   "metadata": {},
   "source": [
    "### Key Generation:\n",
    "\n",
    "The **\"rsa.newkeys()\"** function is a part of the \"rsa\" library in Python and generates a new RSA key pair. The function takes one optional argument which is the size of the key in bits. If the argument is not specified, the default key size is 2048 bits. The function returns a tuple containing the public and private keys. The public key can be shared with anyone for encryption, while the private key must be kept secure for decryption and signing."
   ]
  },
  {
   "cell_type": "code",
   "execution_count": 2,
   "id": "10d67a5b",
   "metadata": {},
   "outputs": [],
   "source": [
    "import rsa\n",
    "(pubkey, privkey) = rsa.newkeys(512,accurate = True)"
   ]
  },
  {
   "cell_type": "markdown",
   "id": "d6dc6239",
   "metadata": {},
   "source": [
    "In RSA cryptography, the public key is composed of two components:\n",
    "\n",
    "- n: The modulus, which is the product of two large prime numbers and forms the foundation of the encryption and decryption process. \n",
    "\n",
    "- e: The public exponent, which is a small odd integer used to encrypt messages. It is typically chosen to be 65537.\n",
    "These two components of public key, can be used by others to encrypt messages that can only be decrypted using the corresponding private key. Here the **public key** is printed:"
   ]
  },
  {
   "cell_type": "code",
   "execution_count": 3,
   "id": "df2ede62",
   "metadata": {},
   "outputs": [
    {
     "name": "stdout",
     "output_type": "stream",
     "text": [
      "PublicKey(6911823074171693866309772897921596741357687075069850097267809012621228333494052208909299958427648004767867468203487219029023664688205548226454753686278183, 65537)\n",
      "154\n",
      "514\n"
     ]
    }
   ],
   "source": [
    "print(pubkey)\n",
    "\n",
    "# A typical size for n is 1024 bits, or 309 decimal digits. That is why we got len(str(pubkey.n) = 309 here.\n",
    "print(len(str(pubkey.n)))\n",
    "\n",
    "# if we transfer it to binary, it should be 1024 bits, but why it is 1026 bits?\n",
    "# 0b indicates that it number is binary representation. we can ignore the first 2 bits, 1026-2 = 1024. correctly!\n",
    "print(len(str(bin(pubkey.n))))"
   ]
  },
  {
   "cell_type": "markdown",
   "id": "eb14becf",
   "metadata": {},
   "source": [
    "The private key is kept secret and should not be shared with others. In RSA cryptography, the private key is composed of five components:\n",
    "\n",
    "- n: The modulus, which is the product of two large prime numbers and forms the foundation of the encryption and decryption process. \n",
    "\n",
    "- e: The public exponent, which is a small odd integer used to encrypt messages. It is typically chosen to be 65537. \n",
    "\n",
    "- d: The private exponent, which is used to decrypt messages and create digital signatures. It is kept secret and derived from the public exponent and other information, including the modulus and prime factors used to generate the key. \n",
    "- p: One of the prime factors of n. \n",
    "\n",
    "- q: The other prime factor of n. \n",
    "\n",
    "The **private key** is printed here:"
   ]
  },
  {
   "cell_type": "code",
   "execution_count": 4,
   "id": "66995a27",
   "metadata": {},
   "outputs": [
    {
     "name": "stdout",
     "output_type": "stream",
     "text": [
      "PrivateKey(6911823074171693866309772897921596741357687075069850097267809012621228333494052208909299958427648004767867468203487219029023664688205548226454753686278183, 65537, 4739255588202899236619959178996639955542523827645663576619673369244245806124981496073407827805024283043932818036757398554892237011763996171164150493181401, 5033921083781595474423445562929281483664992444742423882546887121677547998016407427, 1373049549076239372700676798440736365200724611635054612385309165023596429)\n",
      "True\n"
     ]
    }
   ],
   "source": [
    "print(privkey)\n",
    "\n",
    "# check whether p*q==n, since it returned True, correctly! \n",
    "print(privkey.p*privkey.q ==privkey.n)"
   ]
  },
  {
   "cell_type": "markdown",
   "id": "1ccf1dc7",
   "metadata": {},
   "source": [
    "### Encryption:\n",
    "\n",
    "The **rsa.encrypt()** function is used to encrypt the plaintext message using the public key. The plaintext message must be passed as bytes, and the public key is passed as the second argument. The function returns the ciphertext, which is the encrypted version of the plaintext message."
   ]
  },
  {
   "cell_type": "code",
   "execution_count": 5,
   "id": "7b20344c",
   "metadata": {},
   "outputs": [
    {
     "name": "stdout",
     "output_type": "stream",
     "text": [
      "b'Hello World!'\n",
      "b':v\\xc3\\x86vR\\xbeN\\xda\\xff_mV\\xafY=\\xc8^\\xfeh\\xbb%\\xbf\\xdf\\xdf\\xe7RS6\\xb0\\x0cgy|\\xc4\\x11\\xb0\\xc1g\\xb0\\x06\\x9a\\x8e\\x1d\\xa4%\\xe0de\\xdcr\\xe6\\xb9#^nK<Zy\\xf8\\xb7-\\xaf'\n"
     ]
    }
   ],
   "source": [
    "# Define the message to be encrypted\n",
    "message = \"Hello World!\"\n",
    "\n",
    "# Encode the message as a byte string\n",
    "message = message.encode()\n",
    "print(message)\n",
    "\n",
    "# Encrypt the message using the public key\n",
    "ciphertext = rsa.encrypt(message, pubkey)\n",
    "\n",
    "print(ciphertext)\n",
    "# print(len(ciphertext))"
   ]
  },
  {
   "cell_type": "markdown",
   "id": "ba60d6f4",
   "metadata": {},
   "source": [
    "The output is a binary string, which represents the encrypted message. It is generated by applying the RSA encryption algorithm to the original message, using the public key of the recipient. The output is unreadable, as it has been transformed into a sequence of seemingly random bytes through the encryption process. To decrypt the message, the recipient would use their private key."
   ]
  },
  {
   "cell_type": "markdown",
   "id": "5b86530c",
   "metadata": {},
   "source": [
    "###  Decryption:\n",
    "\n",
    "The **rsa.decrypt()** function is used to decrypt the ciphertext using the private key. The ciphertext and the private key are passed as arguments. The function returns the decrypted plaintext message as bytes, which can then be decoded to a string using the .decode() method."
   ]
  },
  {
   "cell_type": "code",
   "execution_count": 6,
   "id": "e106ef89",
   "metadata": {},
   "outputs": [
    {
     "name": "stdout",
     "output_type": "stream",
     "text": [
      "Hello World!\n"
     ]
    }
   ],
   "source": [
    "plaintext = rsa.decrypt(ciphertext, privkey).decode()\n",
    "print(plaintext)"
   ]
  },
  {
   "cell_type": "markdown",
   "id": "c65cbb97",
   "metadata": {},
   "source": [
    "###  Signing:\n",
    "\n",
    "The rsa.sign() function is used to sign the message using the private key. The message must be passed as bytes, and the private key and a hash function such as 'SHA-1' are passed as arguments. The function returns the signature, which is a digital signature of the message.  The SHA-1 argument specifies the hashing algorithm to use when generating the signature.\n",
    "\n",
    "In this case, the SHA-1 algorithm is used to hash the message, and the resulting hash is then signed using the private key. The signature acts as a digital signature, verifying that the message came from the owner of the private key and has not been tampered with."
   ]
  },
  {
   "cell_type": "code",
   "execution_count": 7,
   "id": "8d70df90",
   "metadata": {},
   "outputs": [
    {
     "name": "stdout",
     "output_type": "stream",
     "text": [
      "b'2LC\\xa2Vf\\xd3nc\\x1e\\xe7\\x96\\xc2\\x81\\xce\\xa1&\\xc0<~\\xe7\\xcdE\\xd3\\x1c\\t\\xe2)\\xe5\\xcb4\\xc3\\xb4TX(\\xf2kD\\xf9\\xfe\\x81b\\t\\xec\\xbeef\\xa0\\\\,\\x19\\xa7\\x99\\x0e\\x0b\\xcc]\\xdb\\xdf\\xdd)h+'\n"
     ]
    }
   ],
   "source": [
    "message = \"Hello, World!\"\n",
    "signature = rsa.sign(message.encode(), privkey, 'SHA-1')\n",
    "\n",
    "print(signature)"
   ]
  },
  {
   "cell_type": "markdown",
   "id": "886e0abd",
   "metadata": {},
   "source": [
    "### Verifying:\n",
    "\n",
    "The rsa.verify() function is used to verify the signature of a message. The message, signature, and public key are passed as arguments. If the signature is valid, the function returns True, otherwise it raises a rsa.pkcs1.VerificationError exception."
   ]
  },
  {
   "cell_type": "code",
   "execution_count": 8,
   "id": "ca6bf39a",
   "metadata": {},
   "outputs": [
    {
     "data": {
      "text/plain": [
       "'SHA-1'"
      ]
     },
     "execution_count": 8,
     "metadata": {},
     "output_type": "execute_result"
    }
   ],
   "source": [
    "rsa.verify(message.encode(), signature, pubkey)"
   ]
  },
  {
   "cell_type": "code",
   "execution_count": 9,
   "id": "3107d6fc",
   "metadata": {},
   "outputs": [
    {
     "name": "stdout",
     "output_type": "stream",
     "text": [
      "Signature is valid.\n"
     ]
    }
   ],
   "source": [
    "import rsa\n",
    "\n",
    "# Generate a new RSA key pair\n",
    "(pubkey, privkey) = rsa.newkeys(1024)\n",
    "\n",
    "# Define the message to be signed\n",
    "message = \"Hello, World!\"\n",
    "message = message.encode()\n",
    "\n",
    "# Sign the message using the private key\n",
    "signature = rsa.sign(message, privkey, 'SHA-256')\n",
    "\n",
    "# Verify the signature using the public key\n",
    "try:\n",
    "    rsa.verify(message, signature, pubkey)\n",
    "    print(\"Signature is valid.\")\n",
    "except rsa.pkcs1.VerificationError:\n",
    "    print(\"Signature is invalid.\")\n"
   ]
  },
  {
   "cell_type": "markdown",
   "id": "9782024f",
   "metadata": {},
   "source": [
    "## Implementing RSA without using rsa library"
   ]
  },
  {
   "cell_type": "markdown",
   "id": "d7501fdb",
   "metadata": {},
   "source": [
    "In this part, we plan to forget rsa library and try to implement RSA algorithm step by step. We want to cover the following topics:\n",
    "\n",
    "- Generating RSA keys: We will learn how to generate a public and private key using Python.\n",
    "\n",
    "- Encryption and Decryption: We will learn how to encrypt and decrypt a message using the RSA method.\n",
    "\n",
    "\n",
    "Let's get started!"
   ]
  },
  {
   "cell_type": "markdown",
   "id": "177a87d9",
   "metadata": {},
   "source": [
    "## Step1: Generating RSA keys:\n",
    "\n",
    "The process of generating RSA keys involves the following steps:\n",
    "\n",
    "- Select two large prime numbers, p and q.\n",
    "- Compute n = p * q. n is used as the modulus for both the public and private keys.\n",
    "- Compute the totient of n, denoted as φ(n) = (p-1)*(q-1).\n",
    "- Choose a public exponent, e, such that 1 < e < φ(n) and e is coprime to φ(n).\n",
    "- Determine the private exponent, d, such that d * e ≡ 1 (mod φ(n)). d can be calculated using the extended Euclidean algorithm.\n",
    "\n",
    "To generate RSA keys in Python, we will need to import the following libraries:"
   ]
  },
  {
   "cell_type": "code",
   "execution_count": 10,
   "id": "229a389d",
   "metadata": {},
   "outputs": [],
   "source": [
    "import random\n",
    "import math\n",
    "import sympy"
   ]
  },
  {
   "cell_type": "markdown",
   "id": "44f5b716",
   "metadata": {},
   "source": [
    "###  generate_large_prime() function:\n",
    "\n",
    "This function has been used to generate two large prime numbers, p and q."
   ]
  },
  {
   "cell_type": "markdown",
   "id": "a8f79c70",
   "metadata": {},
   "source": [
    "## Question:\n",
    "Complete the following function to generate p and q:"
   ]
  },
  {
   "cell_type": "code",
   "execution_count": 11,
   "id": "90775e51",
   "metadata": {},
   "outputs": [],
   "source": [
    "def isPrime(n):\n",
    "    \"\"\"\n",
    "    This function is to verify whether a number is prime or not\n",
    "    using Miller_Rabin primality test (because it is more fast to check whether a number is prime from probability perspective, it's not perfect but useful)\n",
    "    see: https://en.wikipedia.org/wiki/Miller%E2%80%93Rabin_primality_test\n",
    "\n",
    "    Minimum number of rounds of M-R testing when generating primes using an error probability of 2^(-100)\n",
    "    see: https://nvlpubs.nist.gov/nistpubs/FIPS/NIST.FIPS.186-4.pdf, page 71, Appendix C, Table C.3\n",
    "\n",
    "    Args:\n",
    "        n: the decimal number\n",
    "\n",
    "    Returns:\n",
    "        True/False\n",
    "    \"\"\"\n",
    "    if n <= 3:\n",
    "        return n == 2 or n == 3\n",
    "\n",
    "    numberOfBits = len(str(bin(n)))-2\n",
    "    if numberOfBits >= 1536:\n",
    "        k = 3\n",
    "    elif numberOfBits >= 1024:\n",
    "        k = 4\n",
    "    elif numberOfBits >= 512:\n",
    "        k = 7\n",
    "    else:\n",
    "        k = 14\n",
    "    \n",
    "    # Miller_Rabin primality test\n",
    "    # initiate d and s, make the equation n − 1 = 2^(s) * d hold\n",
    "    d = n-1\n",
    "    s = 0\n",
    "\n",
    "    # when d is a even number, we need to process it to an odd number\n",
    "    while d % 2 == 0:\n",
    "        d >>= 1\n",
    "        s += 1\n",
    "\n",
    "    for i in range(k):\n",
    "        a = random.randint(2, n-2)\n",
    "        # print(\"d now is {}\".format(d))\n",
    "        x = pow(a, int(d), n)\n",
    "\n",
    "        for j in range(s):\n",
    "            y = pow(x, 2, n)\n",
    "            if y == 1 and x != 1 and x != n - 1:\n",
    "                return False\n",
    "            x = y\n",
    "        if y != 1:\n",
    "            return False\n",
    "    return True"
   ]
  },
  {
   "cell_type": "code",
   "execution_count": 12,
   "id": "8f7a436f",
   "metadata": {},
   "outputs": [],
   "source": [
    "def generate_large_prime(nbits):\n",
    "    \"\"\"\n",
    "    This function is to generate two random prime number (p,q) with the given number of bits.\n",
    "    To make factoring harder, p and q should be chosen at random, be similar in magnitude, but differ in length.\n",
    "\n",
    "    Args:\n",
    "        nbits: The number of bits (which we want for modulus - n).\n",
    "\n",
    "    Returns:\n",
    "        (p,q)\n",
    "    \"\"\"\n",
    "\n",
    "    bitDifference = nbits // 32\n",
    "\n",
    "    while True:\n",
    "        # genetate a random bits which have nbits//2 bits\n",
    "        p = random.getrandbits(nbits//2 + bitDifference)\n",
    "        # make sure n is an odd number, because all prime number is odd, except 2, which we don't consider it.\n",
    "        p = p|1\n",
    "        if isPrime(p):\n",
    "            break\n",
    "    \n",
    "    while True:\n",
    "        q = random.getrandbits(nbits//2 - bitDifference)\n",
    "        q = q|1\n",
    "        if isPrime(q) & (q!=p):\n",
    "            break\n",
    "    \n",
    "    return (p,q)"
   ]
  },
  {
   "cell_type": "code",
   "execution_count": 13,
   "id": "a1bbd48c",
   "metadata": {},
   "outputs": [
    {
     "name": "stdout",
     "output_type": "stream",
     "text": [
      "(29873369869282296157765916904494012642110139417789870893501132706950936494712768786821373663108271953602159473255050125962261417274637714920086851426299479129323487, 245713845733519691210212536965760056209097786093240235523559108595355511894606063023221257576191709855288350959007476592360322277001182267323789)\n",
      "546\n",
      "479\n",
      "1022\n",
      "True\n",
      "True\n"
     ]
    }
   ],
   "source": [
    "(p,q) = generate_large_prime(1024)\n",
    "print((p,q))\n",
    "print(len(str(bin(p))))\n",
    "print(len(str(bin(q))))\n",
    "print(len(str(bin(p*q))))\n",
    "\n",
    "# check if (p,q) are prime numbers\n",
    "print(rsa.prime.is_prime(p))\n",
    "print(rsa.prime.is_prime(q))"
   ]
  },
  {
   "cell_type": "markdown",
   "id": "231d5687",
   "metadata": {},
   "source": [
    "### Step 2: Selecting the public exponent e using generate_public_exponent function \n",
    "\n",
    "generate_public_exponent function will generate a random number between 2 and phi-1, then check if that number is relatively prime to phi (i.e. their greatest common divisor is 1). If it is not relatively prime, it will generate a new random number and repeat this process until it finds a relatively prime number."
   ]
  },
  {
   "cell_type": "markdown",
   "id": "3a9d4c05",
   "metadata": {},
   "source": [
    "## Question:\n",
    "Based on the above description,complete the following function to generate public key exponent e:"
   ]
  },
  {
   "cell_type": "code",
   "execution_count": 14,
   "id": "75b85b5c",
   "metadata": {},
   "outputs": [],
   "source": [
    "def is_relatively_prime(x, y):\n",
    "    # Determining if two numbers are relatively prime\n",
    "    gcd = math.gcd(x,y)\n",
    "    return gcd == 1\n",
    "\n",
    "def generate_public_exponent(phi):\n",
    "    # modulus - n\n",
    "    # publicExponent - e\n",
    "    # privateExponent - d\n",
    "    while True:\n",
    "        e = random.randint(2, phi-1)\n",
    "        # if math.gcd(e,phi) == 1:\n",
    "        if is_relatively_prime(e,phi):\n",
    "            return e"
   ]
  },
  {
   "cell_type": "markdown",
   "id": "00aabab8",
   "metadata": {},
   "source": [
    "### Step 3 : Selecting the private exponent d using  calculate_private_exponent(phi, e) function\n",
    "\n",
    "This function will calculate the modular inverse of e mod phi. The modular inverse of a number is a number such that when it is multiplied by the original number, the result is 1 mod some other number. In this case, the result should be 1 mod phi.\n",
    "\n",
    "The function mod_inverse(a,m) is used to find the modular inverse of a number. It returns the number x such that a*x = 1 mod m."
   ]
  },
  {
   "cell_type": "markdown",
   "id": "20b454f0",
   "metadata": {},
   "source": [
    "## Question:\n",
    "Based on the above description,complete the following function by writing the code for the mod_inverse(e, phi) function in order to generate public key exponent e:"
   ]
  },
  {
   "cell_type": "code",
   "execution_count": 15,
   "id": "ee438e05",
   "metadata": {},
   "outputs": [],
   "source": [
    "def extended_euclidean_algorithm(a,b):\n",
    "    # Use Extended Euclidean Algorithm\n",
    "    # see: https://en.wikipedia.org/wiki/Modular_multiplicative_inverse\n",
    "    # see: https://www.educative.io/answers/what-is-extended-euclidean-algorithm\n",
    "    # a*x + b*y = gcd(a,b) = r, given a and b, the Extended Euclidean Algorithm can get x, y and r\n",
    "    # in our case, ed + y*phi = 1 = gcd(e,phi), we need to calculate d. \n",
    "\n",
    "    if a == 0: \n",
    "        return b, 0, 1        \n",
    "    gcd, x, y = extended_euclidean_algorithm(b%a, a)\n",
    "    x,y = y - (b//a) * x, x \n",
    "    return gcd, x, y\n",
    "\n",
    "def mod_inverse(a,b):\n",
    "    gcd,x,y = extended_euclidean_algorithm(a,b)\n",
    "    return x"
   ]
  },
  {
   "cell_type": "code",
   "execution_count": 16,
   "id": "3e55285b",
   "metadata": {},
   "outputs": [],
   "source": [
    "def calculate_private_exponent(phi, e):\n",
    "    # Calculating the modular inverse of e mod phi\n",
    "    d = mod_inverse(e, phi)\n",
    "    if(d < 0):\n",
    "        d += phi\n",
    "    return d"
   ]
  },
  {
   "cell_type": "code",
   "execution_count": 17,
   "id": "246a3f2e",
   "metadata": {},
   "outputs": [
    {
     "name": "stdout",
     "output_type": "stream",
     "text": [
      "A:23\n"
     ]
    }
   ],
   "source": [
    "A = calculate_private_exponent(160,7)\n",
    "print('A:{}'.format(A))"
   ]
  },
  {
   "cell_type": "markdown",
   "id": "a2f0bdf7",
   "metadata": {},
   "source": [
    "## Writing encryption and decryption functions\n",
    "\n"
   ]
  },
  {
   "cell_type": "markdown",
   "id": "f0e2c475",
   "metadata": {},
   "source": [
    "### Encryption\n",
    "\n",
    "The encrypt function takes the plaintext and the public key as input, and returns the ciphertext. The encryption is done by raising the plaintext to the power of the public exponent (e) and then taking the remainder when divided by n."
   ]
  },
  {
   "cell_type": "markdown",
   "id": "1fa22e1e",
   "metadata": {},
   "source": [
    "## Question:\n",
    "Write a function to do the encryption:"
   ]
  },
  {
   "cell_type": "code",
   "execution_count": 18,
   "id": "8d44fa6a",
   "metadata": {},
   "outputs": [],
   "source": [
    "def encrypt(message, e, n):\n",
    "    # byte value can be interchanged to an int value by using the int.from_bytes() method.\n",
    "    length_n = len(str(bin(n)))\n",
    "    message = int.from_bytes(message, \"big\", signed=False)\n",
    "    ciphertext = pow(message,e,n)\n",
    "    # transform ciphertext from a number to bytes\n",
    "    ciphertext = ciphertext.to_bytes(length_n,\"big\",signed=False)\n",
    "    return ciphertext"
   ]
  },
  {
   "attachments": {},
   "cell_type": "markdown",
   "id": "20943ad3",
   "metadata": {},
   "source": [
    "### Decryption\n",
    "The decrypt function takes the ciphertext and the private key as input, and returns the original plaintext. The decryption is done by raising the ciphertext to the power of the private exponent (d) and then taking the remainder when divided by n."
   ]
  },
  {
   "cell_type": "markdown",
   "id": "fc1912f5",
   "metadata": {},
   "source": [
    "## Question:\n",
    "Write a function to do the decryption:"
   ]
  },
  {
   "cell_type": "code",
   "execution_count": 19,
   "id": "a414b1ed",
   "metadata": {},
   "outputs": [],
   "source": [
    "def decrypt(ciphertext,d,n):\n",
    "    length_n = len(str(bin(n)))\n",
    "    ciphertext = int.from_bytes(ciphertext, \"big\", signed=False)\n",
    "    message = pow(ciphertext,d,n)\n",
    "\n",
    "    message = message.to_bytes(length_n,\"big\",signed=False)\n",
    "    message = message.decode()\n",
    "    return message"
   ]
  },
  {
   "cell_type": "markdown",
   "id": "b3fbcc54",
   "metadata": {},
   "source": [
    "## Question:\n",
    "\n",
    "based on the functions you implemented above, calculate p, q, n, phi,e, and d for a rather small amount of n. Then consider a specefic message and do the encrytion and decryption and provide the output. What will hapen for large values of n and why? "
   ]
  },
  {
   "cell_type": "code",
   "execution_count": 20,
   "id": "241eee64",
   "metadata": {},
   "outputs": [
    {
     "name": "stdout",
     "output_type": "stream",
     "text": [
      "2306151755069516269034596517485050055640908692040693168365480389174178326817386266459329497814166162046706911338447574408505332629238592089305596338365689355095343054379749592125237846017107660087315781066403078165237793576156327499734776180083084962244110632803625693007850157188599204481565788833701181995661948513802310733842034004268090026349339774373141397489791292058058629677223523558557175718426030671259424586265076734674947020647195829963999786949915195066425139164673357938362860114367995819613497199487437273264664868655212093615804881611053314375639715306716502432296494181259022972895249991560713507777964804058704730293781084078149687930631 36437190428459575647460627538122914839508528811532992470450340290817451625729700508988242070490787312167971093576335558575429607573547199922075350687193275410152249328296967254742296570913407483246424345103186502551066328575792580026743031764064910759153437049644030814323824683345093586221484883781802650514560102528441984150353606425207396218486385070594663271500893588033583449223718877379213707773298996169114365637106357276149668615765022524082990563400160600155182640045138540129778156798911524708124287587428747292726581526941771866805673332905076366078612874581620580109 84029690656394229858636208502542511851119957758904708039782679185499208717145597015176176120981164945998366476443951063165005579995620838172117869456671046169444807479033259088186157718783463087989972123765217764468355845901982748962769398431408730688320845438920387634035298650338800475533018855387485772687516029727065392824581184868771189212864951366793988758667176492213252055556556724008537698376869112737239408793622387453501973792108822762151622312198051403501165473681340606273362671439104828552200006068732198032434817666250425146355188155859917382585791587818675483618288521566541303602485838837708888375160702835787654541166331834989816327201425078022252754990319839735731365205295404696366750719499243028924138093826035917031205438943159702560876002146970656585503201813031123302380753384568557594813510981146802909343996850519668757522905673973242280338289977706794908706591251633004534138699681126010694566784040031673287477695217011503021287945830105361622456026719169711650995756397194088430312677526214614571272999004060633097744257903871716607949213433759911739196709085305680489039690390875167379104752972335335670954381372837974468883062471341990769474568760207448355344067200459611893253960340529044917970418779 84029690656394229858636208502542511851119957758904708039782679185499208717145597015176176120981164945998366476443951063165005579995620838172117869456671046169444807479033259088186157718783463087989972123765217764468355845901982748962769398431408730688320845438920387634035298650338800475533018855387485772687516029727065392824581184868771189212864951366793988758667176492213252055556556724008537698376869112737239408793622387453501973792108822762151622312198051403501165473681340606273362671439104828552200006068732198032434817666250425146355188155859917382585791587818675483615982369811471787333451242320223838319519794143746961372800851445815638000384002374372494797600506217061486330952008321759049885097790200599327724303834616861426874142492919323123470185036286660939611991139054497937220884457725036819668582551735420979845143921145129657031809092439539889354173122544517934130902560087438158494098493684692960509620376432616800986619204234561180855618092021700536838324142785433966363773913630968684770993607517891019239628604921719153939905031425059673417238953754809562307062217202478193250942531656555124888792908084237218038611879374459054926057852873144317754380783634360700064422429982220283447300480832092186661908040 45447114617695302408632483984759529877972645989418977593912196368525503946291431457703844978535924703812973098685941339047424425684388181107093997571086347984543684728587517622572608442726538485821266327570026721397352797382423152694661918021053383346418870254124614191512165791129375243719360515438498661291727539711269961334999009841842638811923283778536110934051819619853882433547151536016496909818014293851988453807202514719827570096198376307054220448206371988256757861297361800731700626410866043184175864429979575068575801584706608041604953203197265672152671019619582131688899512666124700469235925186106618615659527254036525986959720345227111376024212129571806507796437886310771266246920509666483760219538516118744709688144460707589236124102417610161265757397742710511749253458476223163728403484881467610165361635526312421728499975151351350854468290311646383128593777466525004398281293421140070367736803739662475508608750650964022950918719596953836664294880023605489645379760996788581249927191150375642893236005737880033103495272460032491546735848646320412972178207021106382074007029147753161799424442539083450809422413714135156964493116649219675043355815608211327519085426173818258008942003464071297127324817237095489014174617 68708281886145519230194241780520100161099093815428852509497760574859335410121167150292628819980051802369004638197057029897376153213637746911087793708006986416504564306359757339028298328416154693685186058463897150479768698394902222485440364639022003827050290338974737676448535263833205164351665487468644999222316172939340910740492909246868453726955010020076622058954817807316926595943526142384325028619878144956367090001772481785769097736626863080008644776293221916253054873755713567795025566315214456522195718712695835526285653323585232525187334377000662264367420163760207670205963179077097493546865581793395568216637742047906562702990517750680755167309625662352953276510930555415604122410899203150761601259741478909919762807673677251410091716069850463355130879820966471172612008986555142791438325190242852673528231708959786917097021349987134197251000008314464857887931920028639165991561282235744359680675060827917222444399683068508636328955632019089735826362134361823024925083537197637920923065933094712961454860825521896473433336334718573502283303121986811519457222973533325478618858250115931116473962028265521868296459458328477532437354125166101002172283217136566602827346429901724756258553871183159608523421616265232674946807553\n",
      "b'The Short Answer: Suppose you have a list of the first billion prime numbers.'\n",
      "ciphertext: b'\\x00\\x00\\x00\\x00\\x00\\x00\\x00\\x00\\x00\\x00\\x00\\x00\\x00\\x00\\x00\\x00\\x00\\x00\\x00\\x00\\x00\\x00\\x00\\x00\\x00\\x00\\x00\\x00\\x00\\x00\\x00\\x00\\x00\\x00\\x00\\x00\\x00\\x00\\x00\\x00\\x00\\x00\\x00\\x00\\x00\\x00\\x00\\x00\\x00\\x00\\x00\\x00\\x00\\x00\\x00\\x00\\x00\\x00\\x00\\x00\\x00\\x00\\x00\\x00\\x00\\x00\\x00\\x00\\x00\\x00\\x00\\x00\\x00\\x00\\x00\\x00\\x00\\x00\\x00\\x00\\x00\\x00\\x00\\x00\\x00\\x00\\x00\\x00\\x00\\x00\\x00\\x00\\x00\\x00\\x00\\x00\\x00\\x00\\x00\\x00\\x00\\x00\\x00\\x00\\x00\\x00\\x00\\x00\\x00\\x00\\x00\\x00\\x00\\x00\\x00\\x00\\x00\\x00\\x00\\x00\\x00\\x00\\x00\\x00\\x00\\x00\\x00\\x00\\x00\\x00\\x00\\x00\\x00\\x00\\x00\\x00\\x00\\x00\\x00\\x00\\x00\\x00\\x00\\x00\\x00\\x00\\x00\\x00\\x00\\x00\\x00\\x00\\x00\\x00\\x00\\x00\\x00\\x00\\x00\\x00\\x00\\x00\\x00\\x00\\x00\\x00\\x00\\x00\\x00\\x00\\x00\\x00\\x00\\x00\\x00\\x00\\x00\\x00\\x00\\x00\\x00\\x00\\x00\\x00\\x00\\x00\\x00\\x00\\x00\\x00\\x00\\x00\\x00\\x00\\x00\\x00\\x00\\x00\\x00\\x00\\x00\\x00\\x00\\x00\\x00\\x00\\x00\\x00\\x00\\x00\\x00\\x00\\x00\\x00\\x00\\x00\\x00\\x00\\x00\\x00\\x00\\x00\\x00\\x00\\x00\\x00\\x00\\x00\\x00\\x00\\x00\\x00\\x00\\x00\\x00\\x00\\x00\\x00\\x00\\x00\\x00\\x00\\x00\\x00\\x00\\x00\\x00\\x00\\x00\\x00\\x00\\x00\\x00\\x00\\x00\\x00\\x00\\x00\\x00\\x00\\x00\\x00\\x00\\x00\\x00\\x00\\x00\\x00\\x00\\x00\\x00\\x00\\x00\\x00\\x00\\x00\\x00\\x00\\x00\\x00\\x00\\x00\\x00\\x00\\x00\\x00\\x00\\x00\\x00\\x00\\x00\\x00\\x00\\x00\\x00\\x00\\x00\\x00\\x00\\x00\\x00\\x00\\x00\\x00\\x00\\x00\\x00\\x00\\x00\\x00\\x00\\x00\\x00\\x00\\x00\\x00\\x00\\x00\\x00\\x00\\x00\\x00\\x00\\x00\\x00\\x00\\x00\\x00\\x00\\x00\\x00\\x00\\x00\\x00\\x00\\x00\\x00\\x00\\x00\\x00\\x00\\x00\\x00\\x00\\x00\\x00\\x00\\x00\\x00\\x00\\x00\\x00\\x00\\x00\\x00\\x00\\x00\\x00\\x00\\x00\\x00\\x00\\x00\\x00\\x00\\x00\\x00\\x00\\x00\\x00\\x00\\x00\\x00\\x00\\x00\\x00\\x00\\x00\\x00\\x00\\x00\\x00\\x00\\x00\\x00\\x00\\x00\\x00\\x00\\x00\\x00\\x00\\x00\\x00\\x00\\x00\\x00\\x00\\x00\\x00\\x00\\x00\\x00\\x00\\x00\\x00\\x00\\x00\\x00\\x00\\x00\\x00\\x00\\x00\\x00\\x00\\x00\\x00\\x00\\x00\\x00\\x00\\x00\\x00\\x00\\x00\\x00\\x00\\x00\\x00\\x00\\x00\\x00\\x00\\x00\\x00\\x00\\x00\\x00\\x00\\x00\\x00\\x00\\x00\\x00\\x00\\x00\\x00\\x00\\x00\\x00\\x00\\x00\\x00\\x00\\x00\\x00\\x00\\x00\\x00\\x00\\x00\\x00\\x00\\x00\\x00\\x00\\x00\\x00\\x00\\x00\\x00\\x00\\x00\\x00\\x00\\x00\\x00\\x00\\x00\\x00\\x00\\x00\\x00\\x00\\x00\\x00\\x00\\x00\\x00\\x00\\x00\\x00\\x00\\x00\\x00\\x00\\x00\\x00\\x00\\x00\\x00\\x00\\x00\\x00\\x00\\x00\\x00\\x00\\x00\\x00\\x00\\x00\\x00\\x00\\x00\\x00\\x00\\x00\\x00\\x00\\x00\\x00\\x00\\x00\\x00\\x00\\x00\\x00\\x00\\x00\\x00\\x00\\x00\\x00\\x00\\x00\\x00\\x00\\x00\\x00\\x00\\x00\\x00\\x00\\x00\\x00\\x00\\x00\\x00\\x00\\x00\\x00\\x00\\x00\\x00\\x00\\x00\\x00\\x00\\x00\\x00\\x00\\x00\\x00\\x00\\x00\\x00\\x00\\x00\\x00\\x00\\x00\\x00\\x00\\x00\\x00\\x00\\x00\\x00\\x00\\x00\\x00\\x00\\x00\\x00\\x00\\x00\\x00\\x00\\x00\\x00\\x00\\x00\\x00\\x00\\x00\\x00\\x00\\x00\\x00\\x00\\x00\\x00\\x00\\x00\\x00\\x00\\x00\\x00\\x00\\x00\\x00\\x00\\x00\\x00\\x00\\x00\\x00\\x00\\x00\\x00\\x00\\x00\\x00\\x00\\x00\\x00\\x00\\x00\\x00\\x00\\x00\\x00\\x00\\x00\\x00\\x00\\x00\\x00\\x00\\x00\\x00\\x00\\x00\\x00\\x00\\x00\\x00\\x00\\x00\\x00\\x00\\x00\\x00\\x00\\x00\\x00\\x00\\x00\\x00\\x00\\x00\\x00\\x00\\x00\\x00\\x00\\x00\\x00\\x00\\x00\\x00\\x00\\x00\\x00\\x00\\x00\\x00\\x00\\x00\\x00\\x00\\x00\\x00\\x00\\x00\\x00\\x00\\x00\\x00\\x00\\x00\\x00\\x00\\x00\\x00\\x00\\x00\\x00\\x00\\x00\\x00\\x00\\x00\\x00\\x00\\x00\\x00\\x00\\x00\\x00\\x00\\x00\\x00\\x00\\x00\\x00\\x00\\x00\\x00\\x00\\x00\\x00\\x00\\x00\\x00\\x00\\x00\\x00\\x00\\x00\\x00\\x00\\x00\\x00\\x00\\x00\\x00\\x00\\x00\\x00\\x00\\x00\\x00\\x00\\x00\\x00\\x00\\x00\\x00\\x00\\x00\\x00\\x00\\x00\\x00\\x00\\x00\\x00\\x00\\x00\\x00\\x00\\x00\\x00\\x00\\x00\\x00\\x00\\x00\\x00\\x00\\x00\\x00\\x00\\x00\\x00\\x00\\x00\\x00\\x00\\x00\\x00\\x00\\x00\\x00\\x00\\x00\\x00\\x00\\x00\\x00\\x00\\x00\\x00\\x00\\x00\\x00\\x00\\x00\\x00\\x00\\x00\\x00\\x00\\x00\\x00\\x00\\x00\\x00\\x00\\x00\\x00\\x00\\x00\\x00\\x00\\x00\\x00\\x00\\x00\\x00\\x00\\x00\\x00\\x00\\x00\\x00\\x00\\x00\\x00\\x00\\x00\\x00\\x00\\x00\\x00\\x00\\x00\\x00\\x00\\x00\\x00\\x00\\x00\\x00\\x00\\x00\\x00\\x00\\x00\\x00\\x00\\x00\\x00\\x00\\x00\\x00\\x00\\x00\\x00\\x00\\x00\\x00\\x00\\x00\\x00\\x00\\x00\\x00\\x00\\x00\\x00\\x00\\x00\\x00\\x00\\x00\\x00\\x00\\x00\\x00\\x00\\x00\\x00\\x00\\x00\\x00\\x00\\x00\\x00\\x00\\x00\\x00\\x00\\x00\\x00\\x00\\x00\\x00\\x00\\x00\\x00\\x00\\x00\\x00\\x00\\x00\\x00\\x00\\x00\\x00\\x00\\x00\\x00\\x00\\x00\\x00\\x00\\x00\\x00\\x00\\x00\\x00\\x00\\x00\\x00\\x00\\x00\\x00\\x00\\x00\\x00\\x00\\x00\\x00\\x00\\x00\\x00\\x00\\x00\\x00\\x00\\x00\\x00\\x00\\x00\\x00\\x00\\x00\\x00\\x00\\x00\\x00\\x00\\x00\\x00\\x00\\x00\\x00\\x00\\x00\\x00\\x00\\x00\\x00\\x00\\x00\\x00\\x00\\x00\\x00\\x00\\x00\\x00\\x00\\x00\\x00\\x00\\x00\\x00\\x00\\x00\\x00\\x00\\x00\\x00\\x00\\x00\\x00\\x00\\x00\\x00\\x00\\x00\\x00\\x00\\x00\\x00\\x00\\x00\\x00\\x00\\x00\\x00\\x00\\x00\\x00\\x00\\x00\\x00\\x00\\x00\\x00\\x00\\x00\\x00\\x00\\x00\\x00\\x00\\x00\\x00\\x00\\x00\\x00\\x00\\x00\\x00\\x00\\x00\\x00\\x00\\x00\\x00\\x00\\x00\\x00\\x00\\x00\\x00\\x00\\x00\\x00\\x00\\x00\\x00\\x00\\x00\\x00\\x00\\x00\\x00\\x00\\x00\\x00\\x00\\x00\\x00\\x00\\x00\\x00\\x00\\x00\\x00\\x00\\x00\\x00\\x00\\x00\\x00\\x00\\x00\\x00\\x00\\x00\\x00\\x00\\x00\\x00\\x00\\x00\\x00\\x00\\x00\\x00\\x00\\x00\\x00\\x00\\x00\\x00\\x00\\x00\\x00\\x00\\x00\\x00\\x00\\x00\\x00\\x00\\x00\\x00\\x00\\x00\\x00\\x00\\x00\\x00\\x00\\x00\\x00\\x00\\x00\\x00\\x00\\x00\\x00\\x00\\x00\\x00\\x00\\x00\\x00\\x00\\x00\\x00\\x00\\x00\\x00\\x00\\x00\\x00\\x00\\x00\\x00\\x00\\x00\\x00\\x00\\x00\\x00\\x00\\x00\\x00\\x00\\x00\\x00\\x00\\x00\\x00\\x00\\x00\\x00\\x00\\x00\\x00\\x00\\x00\\x00\\x00\\x00\\x00\\x00\\x00\\x00\\x00\\x00\\x00\\x00\\x00\\x00\\x00\\x00\\x00\\x00\\x00\\x00\\x00\\x00\\x00\\x00\\x00\\x00\\x00\\x00\\x00\\x00\\x00\\x00\\x00\\x00\\x00\\x00\\x00\\x00\\x00\\x00\\x00\\x00\\x00\\x00\\x00\\x00\\x00\\x00\\x00\\x00\\x00\\x00\\x00\\x00\\x00\\x00\\x00\\x00\\x00\\x00\\x00\\x00\\x00\\x00\\x00\\x00\\x00\\x00\\x00\\x00\\x00\\x00\\x00\\x00\\x00\\x00\\x00\\x00\\x00\\x00\\x00\\x00\\x00\\x00\\x00\\x00\\x00\\x00\\x00\\x00\\x00\\x00\\x00\\x00\\x00\\x00\\x00\\x00\\x00\\x00\\x00\\x00\\x00\\x00\\x00\\x00\\x00\\x00\\x00\\x00\\x00\\x00\\x00\\x00\\x00\\x00\\x00\\x00\\x00\\x00\\x00\\x00\\x00\\x00\\x00\\x00\\x00\\x00\\x00\\x00\\x00\\x00\\x00\\x00\\x00\\x00\\x00\\x00\\x00\\x00\\x00\\x00\\x00\\x00\\x00\\x00\\x00\\x00\\x00\\x00\\x00\\x00\\x00\\x00\\x00\\x00\\x00\\x00\\x00\\x00\\x00\\x00\\x00\\x00\\x00\\x00\\x00\\x00\\x00\\x00\\x00\\x00\\x00\\x00\\x00\\x00\\x00\\x00\\x00\\x00\\x00\\x00\\x00\\x00\\x00\\x00\\x00\\x00\\x00\\x00\\x00\\x00\\x00\\x00\\x00\\x00\\x00\\x00\\x00\\x00\\x00\\x00\\x00\\x00\\x00\\x00\\x00\\x00\\x00\\x00\\x00\\x00\\x00\\x00\\x00\\x00\\x00\\x00\\x00\\x00\\x00\\x00\\x00\\x00\\x00\\x00\\x00\\x00\\x00\\x00\\x00\\x00\\x00\\x00\\x00\\x00\\x00\\x00\\x00\\x00\\x00\\x00\\x00\\x00\\x00\\x00\\x00\\x00\\x00\\x00\\x00\\x00\\x00\\x00\\x00\\x00\\x00\\x00\\x00\\x00\\x00\\x00\\x00\\x00\\x00\\x00\\x00\\x00\\x00\\x00\\x00\\x00\\x00\\x00\\x00\\x00\\x00\\x00\\x00\\x00\\x00\\x00\\x00\\x00\\x00\\x00\\x00\\x00\\x00\\x00\\x00\\x00\\x00\\x00\\x00\\x00\\x00\\x00\\x00\\x00\\x00\\x00\\x00\\x00\\x00\\x00\\x00\\x00\\x00\\x00\\x00\\x00\\x00\\x00\\x00\\x00\\x00\\x00\\x00\\x00\\x00\\x00\\x00\\x00\\x00\\x00\\x00\\x00\\x00\\x00\\x00\\x00\\x00\\x00\\x00\\x00\\x00\\x00\\x00\\x00\\x00\\x00\\x00\\x00\\x00\\x00\\x00\\x00\\x00\\x00\\x00\\x00\\x00\\x00\\x00\\x00\\x00\\x00\\x00\\x00\\x00\\x00\\x00\\x00\\x00\\x00\\x00\\x00\\x00\\x00\\x00\\x00\\x00\\x00\\x00\\x00\\x00\\x00\\x00\\x00\\x00\\x00\\x00\\x00\\x00\\x00\\x00\\x00\\x00\\x00\\x00\\x00\\x00\\x00\\x00\\x00\\x00\\x00\\x00\\x00\\x00\\x00\\x00\\x00\\x00\\x00\\x00\\x00\\x00\\x00\\x00\\x00\\x00\\x00\\x00\\x00\\x00\\x00\\x00\\x00\\x00\\x00\\x00\\x00\\x00\\x00\\x00\\x00\\x00\\x00\\x00\\x00\\x00\\x00\\x00\\x00\\x00\\x00\\x00\\x00\\x00\\x00\\x00\\x00\\x00\\x00\\x00\\x00\\x00\\x00\\x00\\x00\\x00\\x00\\x00\\x00\\x00\\x00\\x00\\x00\\x00\\x00\\x00\\x00\\x00\\x00\\x00\\x00\\x00\\x00\\x00\\x00\\x00\\x00\\x00\\x00\\x00\\x00\\x00\\x00\\x00\\x00\\x00\\x00\\x00\\x00\\x00\\x00\\x00\\x00\\x00\\x00\\x00\\x00\\x00\\x00\\x00\\x00\\x00\\x00\\x00\\x00\\x00\\x00\\x00\\x00\\x00\\x00\\x00\\x00\\x00\\x00\\x00\\x00\\x00\\x00\\x00\\x00\\x00\\x00\\x00\\x00\\x00\\x00\\x00\\x00\\x00\\x00\\x00\\x00\\x00\\x00\\x00\\x00\\x00\\x00\\x00\\x00\\x00\\x00\\x00\\x00\\x00\\x00\\x00\\x00\\x00\\x00\\x00\\x00\\x00\\x00\\x00\\x00\\x00\\x00\\x00\\x00\\x00\\x00\\x00\\x00\\x00\\x00\\x00\\x00\\x00\\x00\\x00\\x00\\x00\\x00\\x00\\x00\\x00\\x00\\x00\\x00\\x00\\x00\\x00\\x00\\x00\\x00\\x00\\x00\\x00\\x00\\x00\\x00\\x00\\x00\\x00\\x00\\x00\\x00\\x00\\x00\\x00\\x00\\x00\\x00\\x00\\x00\\x00\\x00\\x00\\x00\\x00\\x00\\x00\\x00\\x00\\x00\\x00\\x00\\x00\\x00\\x00\\x00\\x00\\x00\\x00\\x00\\x00\\x00\\x00\\x00\\x00\\x00\\x00\\x00\\x00\\x00\\x00\\x00\\x00\\x00\\x00\\x00\\x00\\x00\\x00\\x00\\x00\\x00\\x00\\x00\\x00\\x00\\x00\\x00\\x00\\x00\\x00\\x00\\x00\\x00\\x00\\x00\\x00\\x00\\x00\\x00\\x00\\x00\\x00\\x00\\x00\\x00\\x00\\x00\\x00\\x00\\x00\\x00\\x00\\x00\\x00\\x00\\x00\\x00\\x00\\x00\\x00\\x00\\x00\\x00\\x00\\x00\\x00\\x00\\x00\\x00\\x00\\x00\\x00\\x00\\x00\\x00\\x00\\x00\\x00\\x00\\x00\\x00\\x00\\x00\\x00\\x00\\x00\\x00\\x00\\x00\\x00\\x00\\x00\\x00\\x00\\x00\\x00\\x00\\x00\\x00\\x00\\x00\\x00\\x00\\x00\\x00\\x00\\x00\\x00\\x00\\x00\\x00\\x00\\x00\\x00\\x00\\x00\\x00\\x00\\x00\\x00\\x00\\x00\\x00\\x00\\x00\\x00\\x00\\x00\\x00\\x00\\x00\\x00\\x00\\x00\\x00\\x00\\x00\\x00\\x00\\x00\\x00\\x00\\x00\\x00\\x00\\x00\\x00\\x00\\x00\\x00\\x00\\x00\\x00\\x00\\x00\\x00\\x00\\x00\\x00\\x00\\x00\\x00\\x00\\x00\\x00\\x00\\x00\\x00\\x00\\x00\\x00\\x00\\x00\\x00\\x00\\x00\\x00\\x00\\x00\\x00\\x00\\x00\\x00\\x00\\x00\\x00\\x00\\x00\\x00\\x00\\x00\\x00\\x00\\x00\\x00\\x00\\x00\\x00\\x00\\x00\\x00\\x00\\x00\\x00\\x00\\x00\\x00\\x00\\x00\\x00\\x00\\x00\\x00\\x00\\x00\\x00\\x00\\x00\\x00\\x00\\x00\\x00\\x00\\x00\\x00\\x00\\x00\\x00\\x00\\x00\\x00\\x00\\x00\\x00\\x00\\x00\\x00\\x00\\x00\\x00\\x00\\x00\\x00\\x00\\x00\\x00\\x00\\x00\\x00\\x00\\x00\\x00\\x00\\x00\\x00\\x00\\x00\\x00\\x00\\x00\\x00\\x00\\x00\\x00\\x00\\x00\\x00\\x00\\x00\\x00\\x00\\x00\\x00\\x00\\x00\\x00\\x00\\x00\\x00\\x00\\x00\\x00\\x00\\x00\\x00\\x00\\x00\\x00\\x00\\x00\\x00\\x00\\x00\\x00\\x00\\x00\\x00\\x00\\x00\\x00\\x00\\x00\\x00\\x00\\x00\\x00\\x00\\x00\\x00\\x00\\x00\\x00\\x00\\x00\\x00\\x00\\x00\\x00\\x00\\x00\\x00\\x00\\x00\\x00\\x00\\x00\\x00\\x00\\x00\\x00\\x00\\x00\\x00\\x00\\x00\\x00\\x00\\x00\\x00\\x00\\x00\\x00\\x00\\x00\\x00\\x00\\x00\\x00\\x00\\x00\\x00\\x00\\x00\\x00\\x00\\x00\\x00\\x00\\x00\\x00\\x00\\x00\\x00\\x00\\x00\\x00\\x00\\x00\\x00\\x00\\x00\\x00\\x00\\x00\\x00\\x00\\x00\\x00\\x00\\x00\\x00\\x00\\x00\\x00\\x00\\x00\\x00\\x00\\x00\\x00\\x00\\x00\\x00\\x00\\x00\\x00\\x00\\x00\\x00\\x00\\x00\\x00\\x00\\x00\\x00\\x00\\x00\\x00\\x00\\x00\\x00\\x00\\x00\\x00\\x00\\x00\\x00\\x00\\x00\\x00\\x00\\x00\\x00\\x00\\x00\\x00\\x00\\x00\\x00\\x00\\x00\\x00\\x00\\x00\\x00\\x00\\x00\\x00\\x00\\x00\\x00\\x00\\x00\\x00\\x00\\x00\\x00\\x00\\x00\\x00\\x00\\x00\\x00\\x00\\x00\\x00\\x00\\x00\\x00\\x00\\x00\\x00\\x00\\x00\\x00\\x00\\x00\\x00\\x00\\x00\\x00\\x00\\x00\\x00\\x00\\x00\\x00\\x00\\x00\\x00\\x00\\x00\\x00\\x00\\x00\\x00\\x00\\x00\\x00\\x00\\x00\\x00\\x00\\x00\\x00\\x00\\x00\\x00\\x00\\x00\\x00\\x00\\x00\\x00\\x00\\x00\\x00\\x00\\x00\\x00\\x00\\x00\\x00\\x00\\x00\\x00\\x00\\x00\\x00\\x00\\x00\\x00\\x00\\x00\\x00\\x00\\x00\\x00\\x00\\x00\\x00\\x00\\x00\\x00\\x00\\x00\\x00\\x00\\x00\\x00\\x00\\x00\\x00\\x00\\x00\\x00\\x00\\x00\\x00\\x00\\x00\\x00\\x00\\x00\\x00\\x00\\x00\\x00\\x00\\x00\\x00\\x00\\x00\\x00\\x00\\x00\\x00\\x00\\x00\\x00\\x00\\x00\\x00\\x00\\x00\\x00\\x00\\x00\\x00\\x00\\x00\\x00\\x00\\x00\\x00\\x00\\x00\\x00\\x00\\x00\\x00\\x00\\x00\\x00\\x00\\x00\\x00\\x00\\x00\\x00\\x00\\x00\\x00\\x00\\x00\\x00\\x00\\x00\\x00\\x00\\x00\\x00\\x00\\x00\\x00\\x00\\x00\\x00\\x00\\x00\\x00\\x00\\x00\\x00\\x00\\x00\\x00\\x00\\x00\\x00\\x00\\x00\\x00\\x00\\x00\\x00\\x00\\x00\\x00\\x00\\x00\\x00\\x00\\x00\\x00\\x00\\x00\\x00\\x00\\x00\\x00\\x00\\x00\\x00\\x00\\x00\\x00\\x00\\x00\\x00\\x00\\x00\\x00\\x00\\x00\\x00\\x00\\x00\\x00\\x00\\x00\\x00\\x00\\x00\\x00\\x00\\x00\\x00\\x00\\x00\\x00\\x00\\x00\\x00\\x00\\x00\\x00\\x00\\x00\\x00\\x00\\x00\\x00\\x00\\x00\\x00\\x00\\x00\\x00\\x00\\x00\\x00\\x00\\x00\\x00\\x00\\x00\\x00\\x00\\x00\\x00\\x00\\x00\\x00\\x00\\x00\\x00\\x00\\x00\\x00\\x00\\x00\\x00\\x00\\x00\\x00\\x00\\x00\\x00\\x00\\x00\\x00\\x00\\x00\\x00\\x00\\x00\\x00\\x00\\x00\\x00\\x00\\x00\\x00\\x00\\x00\\x00\\x00\\x00\\x00\\x00\\x00\\x00\\x00\\x00\\x00\\x00\\x00\\x00\\x00\\x00\\x00\\x00\\x00\\x00\\x00\\x00\\x00\\x00\\x00\\x00\\x00\\x00\\x00\\x00\\x00\\x00\\x00\\x00\\x00\\x00\\x00\\x00\\x00\\x00\\x00\\x00\\x00\\x00\\x00\\x00\\x00\\x00\\x00\\x00\\x00\\x00\\x00\\x00\\x00\\x00\\x00\\x00\\x00\\x00\\x00\\x00\\x00\\x00\\x00\\x00\\x00\\x00\\x00\\x00\\x00\\x00\\x00\\x00\\x00\\x00\\x00\\x00\\x00\\x00\\x00\\x00\\x00\\x00\\x00\\x00\\x00\\x00\\x00\\x00\\x00\\x00\\x00\\x00\\x00\\x00\\x00\\x00\\x00\\x00\\x00\\x00\\x00\\x00\\x00\\x00\\x00\\x00\\x00\\x00\\x00\\x00\\x00\\x00\\x00\\x00\\x00\\x00\\x00\\x00\\x00\\x00\\x00\\x00\\x00\\x00\\x00\\x00\\x00\\x00\\x00\\x00\\x00\\x00\\x00\\x00\\x00\\x00\\x00\\x00\\x00\\x00\\x00\\x00\\x00\\x00\\x00\\x00\\x00\\x00\\x00\\x00\\x00\\x00\\x00\\x00\\x00\\x00\\x00\\x00\\x00\\x00\\x00\\x00\\x00\\x00\\x00\\x00\\x00\\x00\\x00\\x00\\x00\\x00\\x00\\x00\\x00\\x00\\x00\\x00\\x00\\x00\\x00\\x00\\x00\\x00\\x00\\x00\\x00\\x00\\x00\\x00\\x00\\x00\\x00\\x00\\x00\\x00\\x00\\x00\\x00\\x00\\x00\\x00\\x00\\x00\\x00\\x00\\x00\\x00\\x00\\x00\\x00\\x00\\x00\\x00\\x00\\x00\\x00\\x00\\x00\\x00\\x00\\x00\\x00\\x00\\x00\\x00\\x00\\x00\\x00\\x00\\x00\\x00\\x00\\x00\\x00\\x00\\x00\\x00\\x00\\x00\\x00\\x00\\x00\\x00\\x00\\x00\\x00\\x00\\x00\\x00\\x00\\x00\\x00\\x00\\x00\\x00\\x00\\x00\\x00\\x00\\x00\\x00\\x00\\x00\\x00\\x00\\x00\\x00\\x00\\x00\\x00\\x00\\x00\\x00\\x00\\x00\\x00\\x00\\x00\\x00\\x00\\x00\\x00\\x00\\x00\\x00\\x00\\x00\\x00\\x00\\x00\\x00\\x00\\x00\\x00\\x00\\x00\\x00\\x00\\x00\\x00\\x00\\x00\\x00\\x00\\x00\\x00\\x00\\x00\\x00\\x00\\x00\\x00\\x00\\x00\\x00\\x00\\x00\\x00\\x00\\x00\\x00\\x00\\x00\\x00\\x00\\x00\\x00\\x00\\x00\\x00\\x00\\x00\\x00\\x00\\x00\\x00\\x00\\x00\\x00\\x00\\x00\\x00\\x00\\x00\\x00\\x00\\x00\\x00\\x00\\x00\\x00\\x00\\x00\\x00\\x00\\x00\\x00\\x00\\x00\\x00\\x00\\x00\\x00\\x00\\x00\\x00\\x00\\x00\\x00\\x00\\x00\\x00\\x00\\x00\\x00\\x00\\x00\\x00\\x00\\x00\\x00\\x00\\x00\\x00\\x00\\x00\\x00\\x00\\x00\\x00\\x00\\x00\\x00\\x00\\x00\\x00\\x00\\x00\\x00\\x00\\x00\\x00\\x00\\x00\\x00\\x00\\x00\\x00\\x00\\x00\\x00\\x00\\x00\\x00\\x00\\x00\\x00\\x00\\x00\\x00\\x00\\x00\\x00\\x00\\x00\\x00\\x00\\x00\\x00\\x00\\x00\\x00\\x00\\x00\\x00\\x00\\x00\\x00\\x00\\x00\\x00\\x00\\x00\\x00\\x00\\x00\\x00\\x00\\x00\\x00\\x00\\x00\\x00\\x00\\x00\\x00\\x00\\x00\\x00\\x00\\x00\\x00\\x00\\x00\\x00\\x00\\x00\\x00\\x00\\x00\\x00\\x00\\x00\\x00\\x00\\x00\\x00\\x00\\x00\\x00\\x00\\x00\\x00\\x00\\x00\\x00\\x00\\x00\\x00\\x00\\x00\\x00\\x00\\x00\\x00\\x00\\x00\\x00\\x00\\x00\\x00\\x00\\x00\\x00\\x00\\x00\\x00\\x00\\x00\\x00\\x00\\x00\\x00\\x00\\x00\\x00\\x00\\x00\\x00\\x00\\x00\\x00\\x00\\x00\\x00\\x00\\x00\\x00\\x00\\x00\\x00\\x00\\x00\\x00\\x00\\x00\\x00\\x00\\x00\\x00\\x00\\x00\\x00\\x00\\x00\\x00\\x00\\x00\\x00\\x00\\x00\\x00\\x00\\x00\\x00\\x00\\x00\\x00\\x00\\x00\\x00\\x00\\x00\\x00\\x00\\x00\\x00\\x00\\x00\\x00\\x00\\x00\\x00\\x00\\x00\\x00\\x00\\x00\\x00\\x00\\x00\\x00\\x00\\x00\\x00\\x00\\x00\\x00\\x00\\x00\\x00\\x00\\x00\\x00\\x00\\x00\\x00\\x00\\x00\\x00\\x00\\x00\\x00\\x00\\x00\\x00\\x00\\x00\\x00\\x00\\x00\\x00\\x00\\x00\\x00\\x00\\x00\\x00\\x00\\x00\\x00\\x00\\x00\\x00\\x00\\x00\\x00\\x00\\x00\\x00\\x00\\x00\\x00\\x00\\x00\\x00\\x00\\x00\\x00\\x00\\x00\\x00\\x00\\x00\\x00\\x00\\x00\\x00\\x00\\x00\\x00\\x00\\x00\\x00\\x00\\x00\\x00\\x00\\x00\\x00\\x00\\x00\\x00\\x00\\x00\\x00\\x00\\x00\\x00\\x00\\x00\\x00\\x00\\x00\\x00\\x00\\x00\\x00\\x00\\x00\\x00\\x00\\x00\\x00\\x00\\x00\\x00\\x00\\x00\\x00\\x00\\x00\\x00\\x00\\x00\\x00\\x00\\x00\\x00\\x00\\x00\\x00\\x00\\x00\\x00\\x00\\x00\\x00\\x00\\x00\\x00\\x00\\x00\\x00\\x00\\x00\\x00\\x00\\x00\\x00\\x00\\x00\\x00\\x00\\x00\\x00\\x00\\x00\\x00\\x00\\x00\\x00\\x00\\x00\\x00\\x00\\x00\\x00\\x00\\x00\\x00\\x00\\x00\\x00\\x00\\x00\\x00\\x00\\x00\\x00\\x00\\x00\\x00\\x00\\x00\\x00\\x00\\x00\\x00\\x00\\x00\\x00\\x00\\x00\\x00\\x00\\x00\\x00\\x00\\x00\\x00\\x00\\x00\\x00\\x00\\x00\\x00\\x00\\x00\\x00\\x00\\x00\\x00\\x00\\x00\\x00\\x00\\x00\\x00\\x00\\x00\\x00\\x00\\x00\\x00\\x00\\x00\\x00\\x00\\x00\\x00\\x00\\x00\\x00\\x00\\x00\\x00\\x00\\x00\\x00\\x00\\x00\\x00\\x00\\x00\\x00\\x00\\x00\\x00\\x00\\x00\\x00\\x00\\x00\\x00\\x00\\x00\\x00\\x00\\x00\\x00\\x00\\x00\\x00\\x00\\x00\\x00\\x00\\x00\\x00\\x00\\x00\\x00\\x00\\x00\\x00\\x00\\x00\\x00\\x00\\x00\\x00\\x00\\x00\\x00\\x00\\x00\\x00\\x00\\x00\\x00\\x00\\x00\\x00\\x00\\x00\\x00\\x00\\x00\\x00\\x00\\x00\\x00\\x00\\x00\\x00\\x00\\x00\\x00\\x00\\x00\\x00\\x00\\x00\\x00\\x00\\x00\\x00\\x00\\x00\\x00\\x00\\x00\\x00\\x00\\x00\\x00\\x00\\x00\\x00\\x00\\x00\\x00\\x00\\x00\\x00\\x00\\x00\\x00\\x00\\x00\\x00\\x00\\x00\\x00\\x00\\x00\\x00\\x00\\x00\\x00\\x00\\x00\\x00\\x00\\x00\\x00\\x00\\x00\\x00\\x00\\x00\\x00\\x00\\x00\\x00\\x00\\x00\\x00\\x00\\x00\\x00\\x00\\x00\\x00\\x00\\x00\\x00\\x00\\x00\\x00\\x00\\x00\\x00\\x00\\x00\\x00\\x00\\x00\\x00\\x00\\x00\\x00\\x00\\x00\\x00\\x00\\x00\\x00\\x00\\x00\\x00\\x00\\x00\\x00\\x00\\x00\\x00\\x00\\x00\\x00\\x00\\x00\\x00\\x00\\x00\\x00\\x00\\x00\\x00\\x00\\x00\\x00\\x00\\x00\\x00\\x00\\x00\\x00\\x00\\x00\\x00\\x00\\x00\\x00\\x00\\x00\\x00\\x00\\x00\\x00\\x00\\x00\\x00\\x00\\x00\\x00\\x00\\x00\\x00\\x00\\x00\\x00\\x00\\x00\\x00\\x00\\x00\\x00\\x00\\x00\\x00\\x00\\x00\\x00\\x00\\x00\\x00\\x00\\x00\\x00\\x00\\x00\\x00\\x00\\x00\\x00\\x00\\x00\\x00\\x03\\x8f\\xcc\\x1a\\xee\\xce3\\x97\\xcc\\xd2\\xfa\\r>\\x1b(\\xe7\\x7fmN\\x16U\\xb91>\\x0f\\x0fH\\xea\\xceE\\x8f\\xa7\\xa3\\xf2 \\xb0\\xfd.txi\\x13\\x8a~Q\\x9f\\xc2\\xbd\\x80\\x05\\xfd\\xd8\\xaf\\xddG\\xc10\\x114\\x98C\\xb8\\xe1\\xd9EM\\x07\\xeb\\x13\\x02\\xe5\\xea<-\\x15\\xed9s\\xf92\\x83Su\\xaa\\xa87\\xb7\\xf5\\xe9M%,\\x7f\\x11\\tM4\\xb0\\x98a\\x05\\x8e\\x82D(O\\xd6\\xf0\\xbd\\xe8\\x9f\\x9b\\xf9N\\xb9\\xd7P4\\x8a\\x02\\xf3\\x1b]T\\x0b\\xdd\\xd2^\\xb0\\xd3D=\\xe0\\x0b\\x9a\\x1c\\xae\\xaf\"\\x02\\x8d\\x97+\\xb6\\\\\\xa2I\\x19\\x9b\\xa6\\xb5\\xdbn\\xcd\\x87\\x8bTl\\t\\x81F\\'\\x87\\x90\\xba@W7\\x1b\\xef\\xba\\xedN\\x19\\xd9\\x7f\\xa3fk\\xdd\\x0b \\x05A\\xb0\\xc1\\xb9\\xa6\\x92\\xf8M\\xc0\\x06E\\x1d\\x86\\xa6V\\xe2F\\r\\x05\\xa0\\xea\\x11\\x8c\\xfe\\xbe]\\x05\\xef|sJ\\xf6\\x8eB\\x17\\x15\\x11\\xcf\\xc3r\\x16\\x95\\x1c\\xab \\xa6\\x99\\x1e\\x87\\x9f\\x84\"\\xa3\\x11\\xcb\\xef\\xdd\\x82\\xc1Ux\\x80\\x83z8\\xf2\\x0b\\xc5[\\xd0\\xfe=\\xdc\\xa8\\xcf\\x13\\xfb\\xfd\\x17mx\\t\\xadj\\xf3j\\x01u\\xb6\\xb0m\\xb0EI\\x9e?]\\xff\\xf1k\\xfex))\\x12\\xef\\xeb)\\x81\\xce=\\xaa\\x84;R(temT\\x1b[\\xbd\\xb8\\x03\\xfeI\\xda\\x18}\\xf5\\x00%\\xbd\\x1a\\x17\\xf8\\xce\\xael\\x01 \\x04\\x97h\\x03\\x8fCLG\\x1d\\xe2O18\\xe1\\xf0L\\xc6\\xc3\\xef\\x10\\xd1\\x8fx\\xb1\\x86\\xc8\\x99\\xa3\\xf2\\xe2\\x10\\x94\\x8d\\xafG}\\x05\\xfa\\xaf\\xa7\\x93\\x95\\xdf\\xd7\\xe9\\x08\\x11\\xcf\\xe6\\x1dlj\\x03\\xd3fk8Z\\x8a\\xf1\\xc4\\xf4\\x94\\x9c\\x19\\xb3\\xdc\\xe4\\x13\\xdeo &\\x13\\x1cM\\\\\\x91\\xef\\xdc\\xd0A\\xb0T\\xba\\xa6$]i\\x94\\xd2\\x1f\\xc6\\x15\\x05\\xa9\\xad]\\x8bU\\xed\\x8a6Z\\x19.?b]_\\x077\\xfe\\xf2e\\r\\x03\\xec\\xc9\\xe4z\\xfe\\x98\\x01\\xa0\\xf2(\\xf6\\xda\\xe6\\xd5O{1\\xaa\\x83\\x0bx\\xd6\\xe5\\x1c\\xc4\\xe7\\x97\\xa7Cn\\xd5\\xa5\\xdc\\x08\\x84uw\\xd5\\xeb{\\n\\x89+\\\\\\xc6\\x04\\xf0\\x89\\xd2\\xa8|\\xd7\\x9e\\xf5\\xc9J\\xa1\\xc8\\xad\\xfa\\xa7\\xd7lC)\\xed\\xe4\\xf9\\xd0\\xe9'\n",
      "\u0000\u0000\u0000\u0000\u0000\u0000\u0000\u0000\u0000\u0000\u0000\u0000\u0000\u0000\u0000\u0000\u0000\u0000\u0000\u0000\u0000\u0000\u0000\u0000\u0000\u0000\u0000\u0000\u0000\u0000\u0000\u0000\u0000\u0000\u0000\u0000\u0000\u0000\u0000\u0000\u0000\u0000\u0000\u0000\u0000\u0000\u0000\u0000\u0000\u0000\u0000\u0000\u0000\u0000\u0000\u0000\u0000\u0000\u0000\u0000\u0000\u0000\u0000\u0000\u0000\u0000\u0000\u0000\u0000\u0000\u0000\u0000\u0000\u0000\u0000\u0000\u0000\u0000\u0000\u0000\u0000\u0000\u0000\u0000\u0000\u0000\u0000\u0000\u0000\u0000\u0000\u0000\u0000\u0000\u0000\u0000\u0000\u0000\u0000\u0000\u0000\u0000\u0000\u0000\u0000\u0000\u0000\u0000\u0000\u0000\u0000\u0000\u0000\u0000\u0000\u0000\u0000\u0000\u0000\u0000\u0000\u0000\u0000\u0000\u0000\u0000\u0000\u0000\u0000\u0000\u0000\u0000\u0000\u0000\u0000\u0000\u0000\u0000\u0000\u0000\u0000\u0000\u0000\u0000\u0000\u0000\u0000\u0000\u0000\u0000\u0000\u0000\u0000\u0000\u0000\u0000\u0000\u0000\u0000\u0000\u0000\u0000\u0000\u0000\u0000\u0000\u0000\u0000\u0000\u0000\u0000\u0000\u0000\u0000\u0000\u0000\u0000\u0000\u0000\u0000\u0000\u0000\u0000\u0000\u0000\u0000\u0000\u0000\u0000\u0000\u0000\u0000\u0000\u0000\u0000\u0000\u0000\u0000\u0000\u0000\u0000\u0000\u0000\u0000\u0000\u0000\u0000\u0000\u0000\u0000\u0000\u0000\u0000\u0000\u0000\u0000\u0000\u0000\u0000\u0000\u0000\u0000\u0000\u0000\u0000\u0000\u0000\u0000\u0000\u0000\u0000\u0000\u0000\u0000\u0000\u0000\u0000\u0000\u0000\u0000\u0000\u0000\u0000\u0000\u0000\u0000\u0000\u0000\u0000\u0000\u0000\u0000\u0000\u0000\u0000\u0000\u0000\u0000\u0000\u0000\u0000\u0000\u0000\u0000\u0000\u0000\u0000\u0000\u0000\u0000\u0000\u0000\u0000\u0000\u0000\u0000\u0000\u0000\u0000\u0000\u0000\u0000\u0000\u0000\u0000\u0000\u0000\u0000\u0000\u0000\u0000\u0000\u0000\u0000\u0000\u0000\u0000\u0000\u0000\u0000\u0000\u0000\u0000\u0000\u0000\u0000\u0000\u0000\u0000\u0000\u0000\u0000\u0000\u0000\u0000\u0000\u0000\u0000\u0000\u0000\u0000\u0000\u0000\u0000\u0000\u0000\u0000\u0000\u0000\u0000\u0000\u0000\u0000\u0000\u0000\u0000\u0000\u0000\u0000\u0000\u0000\u0000\u0000\u0000\u0000\u0000\u0000\u0000\u0000\u0000\u0000\u0000\u0000\u0000\u0000\u0000\u0000\u0000\u0000\u0000\u0000\u0000\u0000\u0000\u0000\u0000\u0000\u0000\u0000\u0000\u0000\u0000\u0000\u0000\u0000\u0000\u0000\u0000\u0000\u0000\u0000\u0000\u0000\u0000\u0000\u0000\u0000\u0000\u0000\u0000\u0000\u0000\u0000\u0000\u0000\u0000\u0000\u0000\u0000\u0000\u0000\u0000\u0000\u0000\u0000\u0000\u0000\u0000\u0000\u0000\u0000\u0000\u0000\u0000\u0000\u0000\u0000\u0000\u0000\u0000\u0000\u0000\u0000\u0000\u0000\u0000\u0000\u0000\u0000\u0000\u0000\u0000\u0000\u0000\u0000\u0000\u0000\u0000\u0000\u0000\u0000\u0000\u0000\u0000\u0000\u0000\u0000\u0000\u0000\u0000\u0000\u0000\u0000\u0000\u0000\u0000\u0000\u0000\u0000\u0000\u0000\u0000\u0000\u0000\u0000\u0000\u0000\u0000\u0000\u0000\u0000\u0000\u0000\u0000\u0000\u0000\u0000\u0000\u0000\u0000\u0000\u0000\u0000\u0000\u0000\u0000\u0000\u0000\u0000\u0000\u0000\u0000\u0000\u0000\u0000\u0000\u0000\u0000\u0000\u0000\u0000\u0000\u0000\u0000\u0000\u0000\u0000\u0000\u0000\u0000\u0000\u0000\u0000\u0000\u0000\u0000\u0000\u0000\u0000\u0000\u0000\u0000\u0000\u0000\u0000\u0000\u0000\u0000\u0000\u0000\u0000\u0000\u0000\u0000\u0000\u0000\u0000\u0000\u0000\u0000\u0000\u0000\u0000\u0000\u0000\u0000\u0000\u0000\u0000\u0000\u0000\u0000\u0000\u0000\u0000\u0000\u0000\u0000\u0000\u0000\u0000\u0000\u0000\u0000\u0000\u0000\u0000\u0000\u0000\u0000\u0000\u0000\u0000\u0000\u0000\u0000\u0000\u0000\u0000\u0000\u0000\u0000\u0000\u0000\u0000\u0000\u0000\u0000\u0000\u0000\u0000\u0000\u0000\u0000\u0000\u0000\u0000\u0000\u0000\u0000\u0000\u0000\u0000\u0000\u0000\u0000\u0000\u0000\u0000\u0000\u0000\u0000\u0000\u0000\u0000\u0000\u0000\u0000\u0000\u0000\u0000\u0000\u0000\u0000\u0000\u0000\u0000\u0000\u0000\u0000\u0000\u0000\u0000\u0000\u0000\u0000\u0000\u0000\u0000\u0000\u0000\u0000\u0000\u0000\u0000\u0000\u0000\u0000\u0000\u0000\u0000\u0000\u0000\u0000\u0000\u0000\u0000\u0000\u0000\u0000\u0000\u0000\u0000\u0000\u0000\u0000\u0000\u0000\u0000\u0000\u0000\u0000\u0000\u0000\u0000\u0000\u0000\u0000\u0000\u0000\u0000\u0000\u0000\u0000\u0000\u0000\u0000\u0000\u0000\u0000\u0000\u0000\u0000\u0000\u0000\u0000\u0000\u0000\u0000\u0000\u0000\u0000\u0000\u0000\u0000\u0000\u0000\u0000\u0000\u0000\u0000\u0000\u0000\u0000\u0000\u0000\u0000\u0000\u0000\u0000\u0000\u0000\u0000\u0000\u0000\u0000\u0000\u0000\u0000\u0000\u0000\u0000\u0000\u0000\u0000\u0000\u0000\u0000\u0000\u0000\u0000\u0000\u0000\u0000\u0000\u0000\u0000\u0000\u0000\u0000\u0000\u0000\u0000\u0000\u0000\u0000\u0000\u0000\u0000\u0000\u0000\u0000\u0000\u0000\u0000\u0000\u0000\u0000\u0000\u0000\u0000\u0000\u0000\u0000\u0000\u0000\u0000\u0000\u0000\u0000\u0000\u0000\u0000\u0000\u0000\u0000\u0000\u0000\u0000\u0000\u0000\u0000\u0000\u0000\u0000\u0000\u0000\u0000\u0000\u0000\u0000\u0000\u0000\u0000\u0000\u0000\u0000\u0000\u0000\u0000\u0000\u0000\u0000\u0000\u0000\u0000\u0000\u0000\u0000\u0000\u0000\u0000\u0000\u0000\u0000\u0000\u0000\u0000\u0000\u0000\u0000\u0000\u0000\u0000\u0000\u0000\u0000\u0000\u0000\u0000\u0000\u0000\u0000\u0000\u0000\u0000\u0000\u0000\u0000\u0000\u0000\u0000\u0000\u0000\u0000\u0000\u0000\u0000\u0000\u0000\u0000\u0000\u0000\u0000\u0000\u0000\u0000\u0000\u0000\u0000\u0000\u0000\u0000\u0000\u0000\u0000\u0000\u0000\u0000\u0000\u0000\u0000\u0000\u0000\u0000\u0000\u0000\u0000\u0000\u0000\u0000\u0000\u0000\u0000\u0000\u0000\u0000\u0000\u0000\u0000\u0000\u0000\u0000\u0000\u0000\u0000\u0000\u0000\u0000\u0000\u0000\u0000\u0000\u0000\u0000\u0000\u0000\u0000\u0000\u0000\u0000\u0000\u0000\u0000\u0000\u0000\u0000\u0000\u0000\u0000\u0000\u0000\u0000\u0000\u0000\u0000\u0000\u0000\u0000\u0000\u0000\u0000\u0000\u0000\u0000\u0000\u0000\u0000\u0000\u0000\u0000\u0000\u0000\u0000\u0000\u0000\u0000\u0000\u0000\u0000\u0000\u0000\u0000\u0000\u0000\u0000\u0000\u0000\u0000\u0000\u0000\u0000\u0000\u0000\u0000\u0000\u0000\u0000\u0000\u0000\u0000\u0000\u0000\u0000\u0000\u0000\u0000\u0000\u0000\u0000\u0000\u0000\u0000\u0000\u0000\u0000\u0000\u0000\u0000\u0000\u0000\u0000\u0000\u0000\u0000\u0000\u0000\u0000\u0000\u0000\u0000\u0000\u0000\u0000\u0000\u0000\u0000\u0000\u0000\u0000\u0000\u0000\u0000\u0000\u0000\u0000\u0000\u0000\u0000\u0000\u0000\u0000\u0000\u0000\u0000\u0000\u0000\u0000\u0000\u0000\u0000\u0000\u0000\u0000\u0000\u0000\u0000\u0000\u0000\u0000\u0000\u0000\u0000\u0000\u0000\u0000\u0000\u0000\u0000\u0000\u0000\u0000\u0000\u0000\u0000\u0000\u0000\u0000\u0000\u0000\u0000\u0000\u0000\u0000\u0000\u0000\u0000\u0000\u0000\u0000\u0000\u0000\u0000\u0000\u0000\u0000\u0000\u0000\u0000\u0000\u0000\u0000\u0000\u0000\u0000\u0000\u0000\u0000\u0000\u0000\u0000\u0000\u0000\u0000\u0000\u0000\u0000\u0000\u0000\u0000\u0000\u0000\u0000\u0000\u0000\u0000\u0000\u0000\u0000\u0000\u0000\u0000\u0000\u0000\u0000\u0000\u0000\u0000\u0000\u0000\u0000\u0000\u0000\u0000\u0000\u0000\u0000\u0000\u0000\u0000\u0000\u0000\u0000\u0000\u0000\u0000\u0000\u0000\u0000\u0000\u0000\u0000\u0000\u0000\u0000\u0000\u0000\u0000\u0000\u0000\u0000\u0000\u0000\u0000\u0000\u0000\u0000\u0000\u0000\u0000\u0000\u0000\u0000\u0000\u0000\u0000\u0000\u0000\u0000\u0000\u0000\u0000\u0000\u0000\u0000\u0000\u0000\u0000\u0000\u0000\u0000\u0000\u0000\u0000\u0000\u0000\u0000\u0000\u0000\u0000\u0000\u0000\u0000\u0000\u0000\u0000\u0000\u0000\u0000\u0000\u0000\u0000\u0000\u0000\u0000\u0000\u0000\u0000\u0000\u0000\u0000\u0000\u0000\u0000\u0000\u0000\u0000\u0000\u0000\u0000\u0000\u0000\u0000\u0000\u0000\u0000\u0000\u0000\u0000\u0000\u0000\u0000\u0000\u0000\u0000\u0000\u0000\u0000\u0000\u0000\u0000\u0000\u0000\u0000\u0000\u0000\u0000\u0000\u0000\u0000\u0000\u0000\u0000\u0000\u0000\u0000\u0000\u0000\u0000\u0000\u0000\u0000\u0000\u0000\u0000\u0000\u0000\u0000\u0000\u0000\u0000\u0000\u0000\u0000\u0000\u0000\u0000\u0000\u0000\u0000\u0000\u0000\u0000\u0000\u0000\u0000\u0000\u0000\u0000\u0000\u0000\u0000\u0000\u0000\u0000\u0000\u0000\u0000\u0000\u0000\u0000\u0000\u0000\u0000\u0000\u0000\u0000\u0000\u0000\u0000\u0000\u0000\u0000\u0000\u0000\u0000\u0000\u0000\u0000\u0000\u0000\u0000\u0000\u0000\u0000\u0000\u0000\u0000\u0000\u0000\u0000\u0000\u0000\u0000\u0000\u0000\u0000\u0000\u0000\u0000\u0000\u0000\u0000\u0000\u0000\u0000\u0000\u0000\u0000\u0000\u0000\u0000\u0000\u0000\u0000\u0000\u0000\u0000\u0000\u0000\u0000\u0000\u0000\u0000\u0000\u0000\u0000\u0000\u0000\u0000\u0000\u0000\u0000\u0000\u0000\u0000\u0000\u0000\u0000\u0000\u0000\u0000\u0000\u0000\u0000\u0000\u0000\u0000\u0000\u0000\u0000\u0000\u0000\u0000\u0000\u0000\u0000\u0000\u0000\u0000\u0000\u0000\u0000\u0000\u0000\u0000\u0000\u0000\u0000\u0000\u0000\u0000\u0000\u0000\u0000\u0000\u0000\u0000\u0000\u0000\u0000\u0000\u0000\u0000\u0000\u0000\u0000\u0000\u0000\u0000\u0000\u0000\u0000\u0000\u0000\u0000\u0000\u0000\u0000\u0000\u0000\u0000\u0000\u0000\u0000\u0000\u0000\u0000\u0000\u0000\u0000\u0000\u0000\u0000\u0000\u0000\u0000\u0000\u0000\u0000\u0000\u0000\u0000\u0000\u0000\u0000\u0000\u0000\u0000\u0000\u0000\u0000\u0000\u0000\u0000\u0000\u0000\u0000\u0000\u0000\u0000\u0000\u0000\u0000\u0000\u0000\u0000\u0000\u0000\u0000\u0000\u0000\u0000\u0000\u0000\u0000\u0000\u0000\u0000\u0000\u0000\u0000\u0000\u0000\u0000\u0000\u0000\u0000\u0000\u0000\u0000\u0000\u0000\u0000\u0000\u0000\u0000\u0000\u0000\u0000\u0000\u0000\u0000\u0000\u0000\u0000\u0000\u0000\u0000\u0000\u0000\u0000\u0000\u0000\u0000\u0000\u0000\u0000\u0000\u0000\u0000\u0000\u0000\u0000\u0000\u0000\u0000\u0000\u0000\u0000\u0000\u0000\u0000\u0000\u0000\u0000\u0000\u0000\u0000\u0000\u0000\u0000\u0000\u0000\u0000\u0000\u0000\u0000\u0000\u0000\u0000\u0000\u0000\u0000\u0000\u0000\u0000\u0000\u0000\u0000\u0000\u0000\u0000\u0000\u0000\u0000\u0000\u0000\u0000\u0000\u0000\u0000\u0000\u0000\u0000\u0000\u0000\u0000\u0000\u0000\u0000\u0000\u0000\u0000\u0000\u0000\u0000\u0000\u0000\u0000\u0000\u0000\u0000\u0000\u0000\u0000\u0000\u0000\u0000\u0000\u0000\u0000\u0000\u0000\u0000\u0000\u0000\u0000\u0000\u0000\u0000\u0000\u0000\u0000\u0000\u0000\u0000\u0000\u0000\u0000\u0000\u0000\u0000\u0000\u0000\u0000\u0000\u0000\u0000\u0000\u0000\u0000\u0000\u0000\u0000\u0000\u0000\u0000\u0000\u0000\u0000\u0000\u0000\u0000\u0000\u0000\u0000\u0000\u0000\u0000\u0000\u0000\u0000\u0000\u0000\u0000\u0000\u0000\u0000\u0000\u0000\u0000\u0000\u0000\u0000\u0000\u0000\u0000\u0000\u0000\u0000\u0000\u0000\u0000\u0000\u0000\u0000\u0000\u0000\u0000\u0000\u0000\u0000\u0000\u0000\u0000\u0000\u0000\u0000\u0000\u0000\u0000\u0000\u0000\u0000\u0000\u0000\u0000\u0000\u0000\u0000\u0000\u0000\u0000\u0000\u0000\u0000\u0000\u0000\u0000\u0000\u0000\u0000\u0000\u0000\u0000\u0000\u0000\u0000\u0000\u0000\u0000\u0000\u0000\u0000\u0000\u0000\u0000\u0000\u0000\u0000\u0000\u0000\u0000\u0000\u0000\u0000\u0000\u0000\u0000\u0000\u0000\u0000\u0000\u0000\u0000\u0000\u0000\u0000\u0000\u0000\u0000\u0000\u0000\u0000\u0000\u0000\u0000\u0000\u0000\u0000\u0000\u0000\u0000\u0000\u0000\u0000\u0000\u0000\u0000\u0000\u0000\u0000\u0000\u0000\u0000\u0000\u0000\u0000\u0000\u0000\u0000\u0000\u0000\u0000\u0000\u0000\u0000\u0000\u0000\u0000\u0000\u0000\u0000\u0000\u0000\u0000\u0000\u0000\u0000\u0000\u0000\u0000\u0000\u0000\u0000\u0000\u0000\u0000\u0000\u0000\u0000\u0000\u0000\u0000\u0000\u0000\u0000\u0000\u0000\u0000\u0000\u0000\u0000\u0000\u0000\u0000\u0000\u0000\u0000\u0000\u0000\u0000\u0000\u0000\u0000\u0000\u0000\u0000\u0000\u0000\u0000\u0000\u0000\u0000\u0000\u0000\u0000\u0000\u0000\u0000\u0000\u0000\u0000\u0000\u0000\u0000\u0000\u0000\u0000\u0000\u0000\u0000\u0000\u0000\u0000\u0000\u0000\u0000\u0000\u0000\u0000\u0000\u0000\u0000\u0000\u0000\u0000\u0000\u0000\u0000\u0000\u0000\u0000\u0000\u0000\u0000\u0000\u0000\u0000\u0000\u0000\u0000\u0000\u0000\u0000\u0000\u0000\u0000\u0000\u0000\u0000\u0000\u0000\u0000\u0000\u0000\u0000\u0000\u0000\u0000\u0000\u0000\u0000\u0000\u0000\u0000\u0000\u0000\u0000\u0000\u0000\u0000\u0000\u0000\u0000\u0000\u0000\u0000\u0000\u0000\u0000\u0000\u0000\u0000\u0000\u0000\u0000\u0000\u0000\u0000\u0000\u0000\u0000\u0000\u0000\u0000\u0000\u0000\u0000\u0000\u0000\u0000\u0000\u0000\u0000\u0000\u0000\u0000\u0000\u0000\u0000\u0000\u0000\u0000\u0000\u0000\u0000\u0000\u0000\u0000\u0000\u0000\u0000\u0000\u0000\u0000\u0000\u0000\u0000\u0000\u0000\u0000\u0000\u0000\u0000\u0000\u0000\u0000\u0000\u0000\u0000\u0000\u0000\u0000\u0000\u0000\u0000\u0000\u0000\u0000\u0000\u0000\u0000\u0000\u0000\u0000\u0000\u0000\u0000\u0000\u0000\u0000\u0000\u0000\u0000\u0000\u0000\u0000\u0000\u0000\u0000\u0000\u0000\u0000\u0000\u0000\u0000\u0000\u0000\u0000\u0000\u0000\u0000\u0000\u0000\u0000\u0000\u0000\u0000\u0000\u0000\u0000\u0000\u0000\u0000\u0000\u0000\u0000\u0000\u0000\u0000\u0000\u0000\u0000\u0000\u0000\u0000\u0000\u0000\u0000\u0000\u0000\u0000\u0000\u0000\u0000\u0000\u0000\u0000\u0000\u0000\u0000\u0000\u0000\u0000\u0000\u0000\u0000\u0000\u0000\u0000\u0000\u0000\u0000\u0000\u0000\u0000\u0000\u0000\u0000\u0000\u0000\u0000\u0000\u0000\u0000\u0000\u0000\u0000\u0000\u0000\u0000\u0000\u0000\u0000\u0000\u0000\u0000\u0000\u0000\u0000\u0000\u0000\u0000\u0000\u0000\u0000\u0000\u0000\u0000\u0000\u0000\u0000\u0000\u0000\u0000\u0000\u0000\u0000\u0000\u0000\u0000\u0000\u0000\u0000\u0000\u0000\u0000\u0000\u0000\u0000\u0000\u0000\u0000\u0000\u0000\u0000\u0000\u0000\u0000\u0000\u0000\u0000\u0000\u0000\u0000\u0000\u0000\u0000\u0000\u0000\u0000\u0000\u0000\u0000\u0000\u0000\u0000\u0000\u0000\u0000\u0000\u0000\u0000\u0000\u0000\u0000\u0000\u0000\u0000\u0000\u0000\u0000\u0000\u0000\u0000\u0000\u0000\u0000\u0000\u0000\u0000\u0000\u0000\u0000\u0000\u0000\u0000\u0000\u0000\u0000\u0000\u0000\u0000\u0000\u0000\u0000\u0000\u0000\u0000\u0000\u0000\u0000\u0000\u0000\u0000\u0000\u0000\u0000\u0000\u0000\u0000\u0000\u0000\u0000\u0000\u0000\u0000\u0000\u0000\u0000\u0000\u0000\u0000\u0000\u0000\u0000\u0000\u0000\u0000\u0000\u0000\u0000\u0000\u0000\u0000\u0000\u0000\u0000\u0000\u0000\u0000\u0000\u0000\u0000\u0000\u0000\u0000\u0000\u0000\u0000\u0000\u0000\u0000\u0000\u0000\u0000\u0000\u0000\u0000\u0000\u0000\u0000\u0000\u0000\u0000\u0000\u0000\u0000\u0000\u0000\u0000\u0000\u0000\u0000\u0000\u0000\u0000\u0000\u0000\u0000\u0000\u0000\u0000\u0000\u0000\u0000\u0000\u0000\u0000\u0000\u0000\u0000\u0000\u0000\u0000\u0000\u0000\u0000\u0000\u0000\u0000\u0000\u0000\u0000\u0000\u0000\u0000\u0000\u0000\u0000\u0000\u0000\u0000\u0000\u0000\u0000\u0000\u0000\u0000\u0000\u0000\u0000\u0000\u0000\u0000\u0000\u0000\u0000\u0000\u0000\u0000\u0000\u0000\u0000\u0000\u0000\u0000\u0000\u0000\u0000\u0000\u0000\u0000\u0000\u0000\u0000\u0000\u0000\u0000\u0000\u0000\u0000\u0000\u0000\u0000\u0000\u0000\u0000\u0000\u0000\u0000\u0000\u0000\u0000\u0000\u0000\u0000\u0000\u0000\u0000\u0000\u0000\u0000\u0000\u0000\u0000\u0000\u0000\u0000\u0000\u0000\u0000\u0000\u0000\u0000\u0000\u0000\u0000\u0000\u0000\u0000\u0000\u0000\u0000\u0000\u0000\u0000\u0000\u0000\u0000\u0000\u0000\u0000\u0000\u0000\u0000\u0000\u0000\u0000\u0000\u0000\u0000\u0000\u0000\u0000\u0000\u0000\u0000\u0000\u0000\u0000\u0000\u0000\u0000\u0000\u0000\u0000\u0000\u0000\u0000\u0000\u0000\u0000\u0000\u0000\u0000\u0000\u0000\u0000\u0000\u0000\u0000\u0000\u0000\u0000\u0000\u0000\u0000\u0000\u0000\u0000\u0000\u0000\u0000\u0000\u0000\u0000\u0000\u0000\u0000\u0000\u0000\u0000\u0000\u0000\u0000\u0000\u0000\u0000\u0000\u0000\u0000\u0000\u0000\u0000\u0000\u0000\u0000\u0000\u0000\u0000\u0000\u0000\u0000\u0000\u0000\u0000\u0000\u0000\u0000\u0000\u0000\u0000\u0000\u0000\u0000\u0000\u0000\u0000\u0000\u0000\u0000\u0000\u0000\u0000\u0000\u0000\u0000\u0000\u0000\u0000\u0000\u0000\u0000\u0000\u0000\u0000\u0000\u0000\u0000\u0000\u0000\u0000\u0000\u0000\u0000\u0000\u0000\u0000\u0000\u0000\u0000\u0000\u0000\u0000\u0000\u0000\u0000\u0000\u0000\u0000\u0000\u0000\u0000\u0000\u0000\u0000\u0000\u0000\u0000\u0000\u0000\u0000\u0000\u0000\u0000\u0000\u0000\u0000\u0000\u0000\u0000\u0000\u0000\u0000\u0000\u0000\u0000\u0000\u0000\u0000\u0000\u0000\u0000\u0000\u0000\u0000\u0000\u0000\u0000\u0000\u0000\u0000\u0000\u0000\u0000\u0000\u0000\u0000\u0000\u0000\u0000\u0000\u0000\u0000\u0000\u0000\u0000\u0000\u0000\u0000\u0000\u0000\u0000\u0000\u0000\u0000\u0000\u0000\u0000\u0000\u0000\u0000\u0000\u0000\u0000\u0000\u0000\u0000\u0000\u0000\u0000\u0000\u0000\u0000\u0000\u0000\u0000\u0000\u0000\u0000\u0000\u0000\u0000\u0000\u0000\u0000\u0000\u0000\u0000\u0000\u0000\u0000\u0000\u0000\u0000\u0000\u0000\u0000\u0000\u0000\u0000\u0000\u0000\u0000\u0000\u0000\u0000\u0000\u0000\u0000\u0000\u0000\u0000\u0000\u0000\u0000\u0000\u0000\u0000\u0000\u0000\u0000\u0000\u0000\u0000\u0000\u0000\u0000\u0000\u0000\u0000\u0000\u0000\u0000\u0000\u0000\u0000\u0000\u0000\u0000\u0000\u0000\u0000\u0000\u0000\u0000\u0000\u0000\u0000\u0000\u0000\u0000\u0000\u0000\u0000\u0000\u0000\u0000\u0000\u0000\u0000\u0000\u0000\u0000\u0000\u0000\u0000\u0000\u0000\u0000\u0000\u0000\u0000\u0000\u0000\u0000\u0000\u0000\u0000\u0000\u0000\u0000\u0000\u0000\u0000\u0000\u0000\u0000\u0000\u0000\u0000\u0000\u0000\u0000\u0000\u0000\u0000\u0000\u0000\u0000\u0000\u0000\u0000\u0000\u0000\u0000\u0000\u0000\u0000\u0000\u0000\u0000\u0000\u0000\u0000\u0000\u0000\u0000\u0000\u0000\u0000\u0000\u0000\u0000\u0000\u0000\u0000\u0000\u0000\u0000\u0000\u0000\u0000\u0000\u0000\u0000\u0000\u0000\u0000\u0000\u0000\u0000\u0000\u0000\u0000\u0000\u0000\u0000\u0000\u0000\u0000\u0000\u0000\u0000\u0000\u0000\u0000\u0000\u0000\u0000\u0000\u0000\u0000\u0000\u0000\u0000\u0000\u0000\u0000\u0000\u0000\u0000\u0000\u0000\u0000\u0000\u0000\u0000\u0000\u0000\u0000\u0000\u0000\u0000\u0000\u0000\u0000\u0000\u0000\u0000\u0000\u0000\u0000\u0000\u0000\u0000\u0000\u0000\u0000\u0000\u0000\u0000\u0000\u0000\u0000\u0000\u0000\u0000\u0000\u0000\u0000\u0000\u0000\u0000\u0000\u0000\u0000\u0000\u0000\u0000\u0000\u0000\u0000\u0000\u0000\u0000\u0000\u0000\u0000\u0000\u0000\u0000\u0000\u0000\u0000\u0000\u0000\u0000\u0000\u0000\u0000\u0000\u0000\u0000\u0000\u0000\u0000\u0000\u0000\u0000\u0000\u0000\u0000\u0000\u0000\u0000\u0000\u0000\u0000\u0000\u0000\u0000\u0000\u0000\u0000\u0000\u0000\u0000\u0000\u0000\u0000\u0000\u0000\u0000\u0000\u0000\u0000\u0000\u0000\u0000\u0000\u0000\u0000\u0000\u0000\u0000\u0000\u0000\u0000\u0000\u0000\u0000\u0000\u0000\u0000\u0000\u0000\u0000\u0000\u0000\u0000\u0000\u0000\u0000\u0000\u0000\u0000\u0000\u0000\u0000\u0000\u0000\u0000\u0000\u0000\u0000\u0000\u0000\u0000\u0000\u0000\u0000\u0000\u0000\u0000\u0000\u0000\u0000\u0000\u0000\u0000\u0000\u0000\u0000\u0000\u0000\u0000\u0000\u0000\u0000\u0000\u0000\u0000\u0000\u0000\u0000\u0000\u0000\u0000\u0000\u0000\u0000\u0000\u0000\u0000\u0000\u0000\u0000\u0000\u0000\u0000\u0000\u0000\u0000\u0000\u0000\u0000\u0000\u0000\u0000\u0000\u0000\u0000\u0000\u0000\u0000\u0000\u0000\u0000\u0000\u0000\u0000\u0000\u0000\u0000\u0000\u0000\u0000\u0000\u0000\u0000\u0000\u0000\u0000\u0000\u0000\u0000\u0000\u0000\u0000\u0000\u0000\u0000\u0000\u0000\u0000\u0000\u0000\u0000\u0000\u0000\u0000\u0000\u0000\u0000\u0000\u0000\u0000\u0000\u0000\u0000\u0000\u0000\u0000\u0000\u0000\u0000\u0000\u0000\u0000\u0000\u0000\u0000\u0000\u0000\u0000\u0000\u0000\u0000\u0000\u0000\u0000\u0000\u0000\u0000\u0000\u0000\u0000\u0000\u0000\u0000\u0000\u0000\u0000\u0000\u0000\u0000\u0000\u0000\u0000\u0000\u0000\u0000\u0000\u0000\u0000\u0000\u0000\u0000\u0000\u0000\u0000\u0000\u0000\u0000\u0000\u0000\u0000\u0000\u0000\u0000\u0000\u0000\u0000\u0000\u0000\u0000\u0000\u0000\u0000\u0000\u0000\u0000\u0000\u0000\u0000\u0000\u0000\u0000\u0000\u0000\u0000\u0000\u0000\u0000\u0000\u0000\u0000\u0000\u0000\u0000\u0000\u0000\u0000\u0000\u0000\u0000\u0000\u0000\u0000\u0000\u0000\u0000\u0000\u0000\u0000\u0000\u0000\u0000\u0000\u0000\u0000\u0000\u0000\u0000\u0000\u0000\u0000\u0000\u0000\u0000\u0000\u0000\u0000\u0000\u0000\u0000\u0000\u0000\u0000\u0000\u0000\u0000\u0000\u0000\u0000\u0000\u0000\u0000\u0000\u0000\u0000\u0000\u0000\u0000\u0000\u0000\u0000\u0000\u0000\u0000\u0000\u0000\u0000\u0000\u0000\u0000\u0000\u0000\u0000\u0000\u0000\u0000\u0000\u0000\u0000\u0000\u0000\u0000\u0000\u0000\u0000\u0000\u0000\u0000\u0000\u0000\u0000\u0000\u0000\u0000\u0000\u0000\u0000\u0000\u0000\u0000\u0000\u0000\u0000\u0000\u0000\u0000\u0000\u0000\u0000\u0000\u0000\u0000\u0000\u0000\u0000\u0000\u0000\u0000\u0000\u0000\u0000\u0000\u0000\u0000\u0000\u0000\u0000\u0000\u0000\u0000\u0000\u0000\u0000\u0000\u0000\u0000\u0000\u0000\u0000\u0000\u0000\u0000\u0000\u0000\u0000\u0000\u0000\u0000\u0000\u0000\u0000\u0000\u0000\u0000\u0000\u0000\u0000\u0000\u0000\u0000\u0000\u0000\u0000\u0000\u0000\u0000\u0000\u0000\u0000\u0000\u0000\u0000\u0000\u0000\u0000\u0000\u0000\u0000\u0000\u0000\u0000\u0000\u0000\u0000\u0000\u0000\u0000\u0000\u0000\u0000\u0000\u0000\u0000\u0000\u0000\u0000\u0000\u0000\u0000\u0000\u0000\u0000\u0000\u0000\u0000\u0000\u0000\u0000\u0000\u0000\u0000\u0000\u0000\u0000\u0000\u0000\u0000\u0000\u0000\u0000\u0000\u0000\u0000\u0000\u0000\u0000\u0000\u0000\u0000\u0000\u0000\u0000\u0000\u0000\u0000\u0000\u0000\u0000\u0000\u0000\u0000\u0000\u0000\u0000\u0000\u0000\u0000\u0000\u0000\u0000\u0000\u0000\u0000\u0000\u0000\u0000\u0000\u0000\u0000\u0000\u0000\u0000\u0000\u0000\u0000\u0000\u0000\u0000\u0000\u0000\u0000\u0000\u0000\u0000\u0000\u0000\u0000\u0000\u0000\u0000\u0000\u0000\u0000\u0000\u0000\u0000\u0000\u0000\u0000\u0000\u0000\u0000\u0000\u0000\u0000\u0000\u0000\u0000\u0000\u0000\u0000\u0000\u0000\u0000\u0000\u0000\u0000\u0000\u0000\u0000\u0000\u0000\u0000\u0000\u0000\u0000\u0000\u0000\u0000\u0000\u0000\u0000\u0000\u0000\u0000\u0000\u0000\u0000\u0000\u0000\u0000\u0000\u0000\u0000\u0000\u0000\u0000\u0000\u0000\u0000\u0000\u0000\u0000\u0000\u0000\u0000\u0000\u0000\u0000\u0000\u0000\u0000\u0000\u0000\u0000\u0000\u0000\u0000\u0000\u0000\u0000\u0000\u0000\u0000\u0000\u0000\u0000\u0000\u0000\u0000\u0000\u0000\u0000\u0000\u0000\u0000\u0000\u0000\u0000\u0000\u0000\u0000\u0000\u0000\u0000\u0000\u0000\u0000\u0000\u0000\u0000\u0000\u0000\u0000\u0000\u0000\u0000\u0000\u0000\u0000\u0000\u0000\u0000\u0000\u0000\u0000\u0000\u0000\u0000\u0000\u0000\u0000\u0000\u0000\u0000\u0000\u0000\u0000\u0000\u0000\u0000\u0000\u0000\u0000\u0000\u0000\u0000\u0000\u0000\u0000\u0000\u0000\u0000\u0000\u0000\u0000\u0000\u0000\u0000\u0000\u0000\u0000\u0000\u0000\u0000\u0000\u0000\u0000\u0000\u0000\u0000\u0000\u0000\u0000\u0000\u0000\u0000\u0000\u0000\u0000\u0000\u0000\u0000\u0000\u0000\u0000\u0000\u0000\u0000\u0000\u0000\u0000\u0000\u0000\u0000\u0000\u0000\u0000\u0000\u0000\u0000\u0000\u0000\u0000\u0000\u0000\u0000\u0000\u0000\u0000\u0000\u0000\u0000\u0000\u0000\u0000\u0000\u0000\u0000\u0000\u0000\u0000\u0000\u0000\u0000\u0000\u0000\u0000\u0000\u0000\u0000\u0000\u0000\u0000\u0000\u0000\u0000\u0000\u0000\u0000\u0000\u0000\u0000\u0000\u0000\u0000\u0000\u0000\u0000\u0000\u0000\u0000\u0000\u0000\u0000\u0000\u0000\u0000\u0000\u0000\u0000\u0000\u0000\u0000\u0000\u0000\u0000\u0000\u0000\u0000\u0000\u0000\u0000\u0000\u0000\u0000\u0000\u0000\u0000\u0000\u0000\u0000\u0000\u0000\u0000\u0000\u0000\u0000\u0000\u0000\u0000\u0000\u0000\u0000\u0000\u0000\u0000\u0000\u0000\u0000\u0000\u0000\u0000\u0000\u0000\u0000\u0000\u0000\u0000\u0000\u0000\u0000\u0000\u0000\u0000\u0000\u0000\u0000\u0000\u0000\u0000\u0000\u0000\u0000\u0000\u0000\u0000\u0000\u0000\u0000\u0000\u0000\u0000\u0000\u0000\u0000\u0000\u0000\u0000\u0000\u0000\u0000\u0000\u0000\u0000\u0000\u0000\u0000\u0000\u0000\u0000\u0000\u0000\u0000\u0000\u0000\u0000\u0000\u0000\u0000\u0000\u0000\u0000\u0000\u0000\u0000\u0000\u0000\u0000\u0000\u0000\u0000\u0000\u0000\u0000\u0000\u0000\u0000\u0000\u0000\u0000\u0000\u0000\u0000\u0000\u0000\u0000\u0000\u0000\u0000\u0000\u0000\u0000\u0000\u0000\u0000\u0000\u0000\u0000\u0000\u0000\u0000\u0000\u0000\u0000\u0000\u0000\u0000\u0000\u0000\u0000\u0000\u0000\u0000\u0000\u0000\u0000\u0000\u0000\u0000\u0000\u0000\u0000\u0000\u0000\u0000\u0000\u0000\u0000\u0000\u0000\u0000\u0000\u0000\u0000\u0000\u0000\u0000\u0000\u0000\u0000\u0000\u0000\u0000\u0000\u0000\u0000\u0000\u0000\u0000\u0000\u0000\u0000\u0000\u0000\u0000\u0000\u0000\u0000\u0000\u0000\u0000\u0000\u0000\u0000\u0000\u0000\u0000\u0000\u0000\u0000\u0000\u0000\u0000\u0000\u0000\u0000\u0000\u0000\u0000\u0000\u0000\u0000\u0000\u0000\u0000\u0000\u0000\u0000\u0000\u0000\u0000\u0000\u0000\u0000\u0000\u0000\u0000\u0000\u0000\u0000\u0000\u0000\u0000\u0000\u0000\u0000\u0000\u0000\u0000\u0000\u0000\u0000\u0000\u0000\u0000\u0000\u0000\u0000\u0000\u0000\u0000\u0000\u0000\u0000\u0000\u0000\u0000\u0000\u0000\u0000\u0000\u0000\u0000\u0000\u0000\u0000\u0000The Short Answer: Suppose you have a list of the first billion prime numbers.\n"
     ]
    }
   ],
   "source": [
    "# calculate p, q, n, phi, e, and d for certain value of n (the expected number of bits of modular - n).\n",
    "(p,q) = generate_large_prime(4096)\n",
    "n = p * q\n",
    "phi = (p-1)*(q-1)\n",
    "e = generate_public_exponent(phi)\n",
    "d = calculate_private_exponent(phi, e)\n",
    "\n",
    "print(p,q,n,phi,e,d)\n",
    "\n",
    "# The message we want to transmit\n",
    "# message = \"Hello!!!\"\n",
    "message = \"The Short Answer: Suppose you have a list of the first billion prime numbers.\"\n",
    "message = message.encode()\n",
    "print(message)\n",
    "# bytes_as_bits = ''.join(format(ord(byte), '08b') for byte in \"Hello world!!!\")\n",
    "# print(\"length of message is :\",len(bytes_as_bits))\n",
    "\n",
    "# encrypt the message\n",
    "ciphertext = encrypt(message, e, n)\n",
    "print('ciphertext:',ciphertext)\n",
    "\n",
    "# decrypt the message \n",
    "decrypt_message = decrypt(ciphertext,d,n)\n",
    "print(decrypt_message)"
   ]
  },
  {
   "attachments": {},
   "cell_type": "markdown",
   "id": "b24f170c",
   "metadata": {},
   "source": [
    "**Answer:** For larger value of n, it costs more time to execute key generation, encryotion and decryption. This is because it is more difficult and it needs more computation resources to factoring large integers."
   ]
  },
  {
   "cell_type": "markdown",
   "id": "d12e1b72",
   "metadata": {},
   "source": [
    "# Denial of Service (DoS) attack"
   ]
  },
  {
   "cell_type": "markdown",
   "id": "3604d502",
   "metadata": {},
   "source": [
    "Suppose you have a Python web server that does the following:\n",
    "- Receives a file over HTTP \n",
    "- Perform the processing of the file\n",
    "- sends back a response via HTTP\n",
    "\n",
    "For each HTTP request, the server uses a dedicated thread to allow multiple users to access the server simultaneously. In addition, in order to reduce the size of data transmitted through the network, this server utilizes the latest compression technology  (that's a joke). \n",
    "\n",
    "Files contain substitution rules along with payloads. At the beginning of every file, these rules are listed.Each line in the file that begins with \"*\" is considered a rule. As an example, consider the following document:\n",
    "\n",
    "\"\"\"\n",
    "\n",
    "$*$ DoS==Denial of Service \n",
    "\n",
    "$*$ nt==network\n",
    "\n",
    "$*$ ac==attack\n",
    "\n",
    "A DoS ac is an ac meant to shut down a machine or nt, making it inaccessible to its intended users.\n",
    "\n",
    "\"\"\"\n",
    "\n",
    "This text can be can be decompressed to:\n",
    "\n",
    "\"\"\"\n",
    "\n",
    "A Denial of Service attack is an attack meant to shut down a machine or network, making it inaccessible to its intended users.\n",
    "\n",
    "\"\"\"\n",
    "\n",
    "Following is the decompression function responsible for decoding the original text from the compressed text: \n"
   ]
  },
  {
   "cell_type": "markdown",
   "id": "7eb68c60",
   "metadata": {},
   "source": [
    "## Decompression"
   ]
  },
  {
   "cell_type": "code",
   "execution_count": 28,
   "id": "8107002b",
   "metadata": {},
   "outputs": [],
   "source": [
    "def decompress(compressed_text):\n",
    "    # Initialize an empty dictionary to store the substitution rules\n",
    "    substitution_rules = {}\n",
    "    # Initialize an empty string to store the final result\n",
    "    decompressed_text = \"\"\n",
    "    # Iterate over each line of the input text\n",
    "    for line in compressed_text.split(\"\\n\"):\n",
    "        # Check if the line starts with \"*\"\n",
    "        if line.startswith(\"*\"):\n",
    "            # If so, split the line into key and value, remove leading/trailing whitespaces, and store the rule in the dictionary\n",
    "            key, value = map(str.strip, line[1:].split(\"=\"))\n",
    "            substitution_rules[key] = value\n",
    "            # Continue to the next line\n",
    "            continue\n",
    "        # If the line does not start with \"*\", add the line to the final result\n",
    "        decompressed_text += line + \"\\n\"\n",
    "    # Keep looping until no more rules are applied\n",
    "    while True:\n",
    "        # Initialize a flag to check if a rule is applied\n",
    "        rule_applied = False\n",
    "        # Iterate over each key in the dictionary\n",
    "        for key in substitution_rules:\n",
    "            # Check if the key is present in the final result\n",
    "            if key in decompressed_text:\n",
    "                # If so, replace the key with the corresponding value and set the flag to True\n",
    "                decompressed_text = decompressed_text.replace(key, substitution_rules[key])\n",
    "                rule_applied = True\n",
    "        # If no rule is applied, exit the loop\n",
    "        if not rule_applied:\n",
    "            break\n",
    "    # Return the final result\n",
    "    return decompressed_text"
   ]
  },
  {
   "cell_type": "markdown",
   "id": "61341941",
   "metadata": {},
   "source": [
    "### Example for decompress function:"
   ]
  },
  {
   "cell_type": "code",
   "execution_count": 29,
   "id": "65f0ce15",
   "metadata": {},
   "outputs": [
    {
     "name": "stdout",
     "output_type": "stream",
     "text": [
      "\n",
      "\n",
      "a Denial of service attack is an attack meant to shut down a machine or network, making it inaccessible to its intended users.\n",
      "\n",
      "This can be accomplished by overwhelming the targeted system with excessive traffic or requests,\n",
      "causing it to crash or become unavailable to users.\n",
      "\n",
      "There are several different types of Denial of service attacks, including network-level attacks,\n",
      "application-level attacks, and distributed Denial of service attacks . \n",
      "    \n",
      "\n"
     ]
    }
   ],
   "source": [
    "if __name__ == '__main__':\n",
    "    res = decompress(\"\"\"\n",
    "* ds = Denial of service attack\n",
    "* p_ = Denial of service attacks\n",
    "* A = attacks\n",
    "* U=users\n",
    "* S=server\n",
    "* N=network\n",
    "* sm=system\n",
    "\n",
    "a ds is an attack meant to shut down a machine or N, making it inaccessible to its intended U.\n",
    "\n",
    "This can be accomplished by overwhelming the targeted sm with excessive traffic or requests,\n",
    "causing it to crash or become unavailable to U.\n",
    "\n",
    "There are several different types of p_, including network-level A,\n",
    "application-level A, and distributed p_ . \n",
    "    \"\"\")\n",
    "    \n",
    "    print(res)"
   ]
  },
  {
   "cell_type": "markdown",
   "id": "5ae7aac0",
   "metadata": {},
   "source": [
    "## Vulnerability in this system"
   ]
  },
  {
   "cell_type": "markdown",
   "id": "21d370f1",
   "metadata": {},
   "source": [
    "### Issue:\n",
    "\n",
    "An issue of the implemmented decompress function is that the function does not have any protections against infinite looping. An attacker could craft a file with a rule that replaces a string with itself, which would cause the function to loop infinitely and consume a large amount of processing power. In other words, the problem will happen in the case:\n",
    "\n",
    "key= key\n",
    "Here, the rule is that \"key\" should be replaced with \"key\". When the decompress function encounters the word \"key\" in the input, it will replace it with \"key\", and the next time it will replace it with \"key\" again and so on. This will cause the function to loop infinitely and consume a large amount of processing power.An attacker could craft a file with the following text to cause the function to loop infinitely and consume a large amount of processing power:"
   ]
  },
  {
   "cell_type": "code",
   "execution_count": 418,
   "id": "1aeafc83",
   "metadata": {},
   "outputs": [
    {
     "name": "stdout",
     "output_type": "stream",
     "text": [
      "Unexpected exception formatting exception. Falling back to standard exception\n"
     ]
    },
    {
     "name": "stderr",
     "output_type": "stream",
     "text": [
      "Traceback (most recent call last):\n",
      "  File \"/Users/chenbingcheng/Library/Python/3.11/lib/python/site-packages/IPython/core/interactiveshell.py\", line 3433, in run_code\n",
      "    exec(code_obj, self.user_global_ns, self.user_ns)\n",
      "  File \"/var/folders/06/gmp4cfpd1kn490jzvs864zh00000gn/T/ipykernel_11717/1874739930.py\", line 2, in <module>\n",
      "    res_ = decompress(\"\"\"\n",
      "           ^^^^^^^^^^^^^^\n",
      "  File \"/var/folders/06/gmp4cfpd1kn490jzvs864zh00000gn/T/ipykernel_11717/362531113.py\", line -1, in decompress\n",
      "KeyboardInterrupt\n",
      "\n",
      "During handling of the above exception, another exception occurred:\n",
      "\n",
      "Traceback (most recent call last):\n",
      "  File \"/Users/chenbingcheng/Library/Python/3.11/lib/python/site-packages/IPython/core/interactiveshell.py\", line 2052, in showtraceback\n",
      "    stb = self.InteractiveTB.structured_traceback(\n",
      "          ^^^^^^^^^^^^^^^^^^^^^^^^^^^^^^^^^^^^^^^^\n",
      "  File \"/Users/chenbingcheng/Library/Python/3.11/lib/python/site-packages/IPython/core/ultratb.py\", line 1118, in structured_traceback\n",
      "    return FormattedTB.structured_traceback(\n",
      "           ^^^^^^^^^^^^^^^^^^^^^^^^^^^^^^^^^\n",
      "  File \"/Users/chenbingcheng/Library/Python/3.11/lib/python/site-packages/IPython/core/ultratb.py\", line 1012, in structured_traceback\n",
      "    return VerboseTB.structured_traceback(\n",
      "           ^^^^^^^^^^^^^^^^^^^^^^^^^^^^^^^\n",
      "  File \"/Users/chenbingcheng/Library/Python/3.11/lib/python/site-packages/IPython/core/ultratb.py\", line 865, in structured_traceback\n",
      "    formatted_exception = self.format_exception_as_a_whole(etype, evalue, etb, number_of_lines_of_context,\n",
      "                          ^^^^^^^^^^^^^^^^^^^^^^^^^^^^^^^^^^^^^^^^^^^^^^^^^^^^^^^^^^^^^^^^^^^^^^^^^^^^^^^^\n",
      "  File \"/Users/chenbingcheng/Library/Python/3.11/lib/python/site-packages/IPython/core/ultratb.py\", line 818, in format_exception_as_a_whole\n",
      "    frames.append(self.format_record(r))\n",
      "                  ^^^^^^^^^^^^^^^^^^^^^\n",
      "  File \"/Users/chenbingcheng/Library/Python/3.11/lib/python/site-packages/IPython/core/ultratb.py\", line 736, in format_record\n",
      "    result += ''.join(_format_traceback_lines(frame_info.lines, Colors, self.has_colors, lvals))\n",
      "                                              ^^^^^^^^^^^^^^^^\n",
      "  File \"/Users/chenbingcheng/Library/Python/3.11/lib/python/site-packages/stack_data/utils.py\", line 144, in cached_property_wrapper\n",
      "    value = obj.__dict__[self.func.__name__] = self.func(obj)\n",
      "                                               ^^^^^^^^^^^^^^\n",
      "  File \"/Users/chenbingcheng/Library/Python/3.11/lib/python/site-packages/stack_data/core.py\", line 734, in lines\n",
      "    pieces = self.included_pieces\n",
      "             ^^^^^^^^^^^^^^^^^^^^\n",
      "  File \"/Users/chenbingcheng/Library/Python/3.11/lib/python/site-packages/stack_data/utils.py\", line 144, in cached_property_wrapper\n",
      "    value = obj.__dict__[self.func.__name__] = self.func(obj)\n",
      "                                               ^^^^^^^^^^^^^^\n",
      "  File \"/Users/chenbingcheng/Library/Python/3.11/lib/python/site-packages/stack_data/core.py\", line 681, in included_pieces\n",
      "    pos = scope_pieces.index(self.executing_piece)\n",
      "                             ^^^^^^^^^^^^^^^^^^^^\n",
      "  File \"/Users/chenbingcheng/Library/Python/3.11/lib/python/site-packages/stack_data/utils.py\", line 144, in cached_property_wrapper\n",
      "    value = obj.__dict__[self.func.__name__] = self.func(obj)\n",
      "                                               ^^^^^^^^^^^^^^\n",
      "  File \"/Users/chenbingcheng/Library/Python/3.11/lib/python/site-packages/stack_data/core.py\", line 660, in executing_piece\n",
      "    return only(\n",
      "           ^^^^^\n",
      "  File \"/Users/chenbingcheng/Library/Python/3.11/lib/python/site-packages/executing/executing.py\", line 190, in only\n",
      "    raise NotOneValueFound('Expected one value, found 0')\n",
      "executing.executing.NotOneValueFound: Expected one value, found 0\n"
     ]
    }
   ],
   "source": [
    "if __name__ == '__main__':\n",
    "    res_ = decompress(\"\"\"\n",
    "* ds = Denial of service attack\n",
    "* p_ = Denial of service attacks\n",
    "* A = A\n",
    "* U=users\n",
    "* S=server\n",
    "* N=network\n",
    "* sm=system\n",
    "\n",
    "a ds is an attack meant to shut down a machine or N, making it inaccessible to its intended U.\n",
    "\n",
    "This can be accomplished by overwhelming the targeted sm with excessive traffic or requests,\n",
    "causing it to crash or become unavailable to U.\n",
    "\n",
    "There are several different types of p_, including network-level A,\n",
    "application-level A, and distributed p_ . \n",
    "    \"\"\")\n",
    "    \n",
    "    print(res_)"
   ]
  },
  {
   "cell_type": "markdown",
   "id": "77f7032f",
   "metadata": {},
   "source": [
    "The substitution rule \"A = A\" would replace the string \"A\" with itself, causing the function to keep looping and replacing the string \"A\" with itself, without making any progress. This would consume a large amount of processing power and could cause the program to crash."
   ]
  },
  {
   "cell_type": "markdown",
   "id": "a6b58e30",
   "metadata": {},
   "source": [
    "## Question"
   ]
  },
  {
   "cell_type": "markdown",
   "id": "245c2330",
   "metadata": {},
   "source": [
    "Find the section of code within the provided decompression function that caused this vulnerability and explain your selection by detailing the rationale behind it."
   ]
  },
  {
   "attachments": {},
   "cell_type": "markdown",
   "id": "7af048fe",
   "metadata": {},
   "source": [
    "**Answer：** The following code chunk in 'decompression' function has vulnerability problem. if 'substitution_rules' is not empty and in it there exists 'key = substitution_rules[key]',if the condition 'key in decompressed_text' holds, after the first round of for loop execution, rule_applied is set True, the second round of for loop will be executed, and rule_applied is set True again, and after that is the third round of for loop，etc., the code execution can not escape from while loop.\n",
    "\n",
    "```python\n",
    "while True:\n",
    "        # Initialize a flag to check if a rule is applied\n",
    "        rule_applied = False\n",
    "        # Iterate over each key in the dictionary\n",
    "        for key in substitution_rules:\n",
    "            # Check if the key is present in the final result\n",
    "            if key in decompressed_text:\n",
    "                # If so, replace the key with the corresponding value and set the flag to True\n",
    "                decompressed_text = decompressed_text.replace(key, substitution_rules[key])\n",
    "                rule_applied = True\n",
    "        # If no rule is applied, exit the loop\n",
    "        if not rule_applied:\n",
    "            break\n",
    "```\n"
   ]
  },
  {
   "cell_type": "markdown",
   "id": "881230ee",
   "metadata": {},
   "source": [
    "# Solve the vulnerability:"
   ]
  },
  {
   "cell_type": "markdown",
   "id": "12c7216d",
   "metadata": {},
   "source": [
    "## Question :\n",
    "\n",
    "- Find a piece of code to be added to decompression function in order to prevent this vulnerability.\n",
    "\n",
    "- Test the functionality of your code by testing it on the given example."
   ]
  },
  {
   "cell_type": "code",
   "execution_count": 21,
   "id": "7d672726",
   "metadata": {},
   "outputs": [],
   "source": [
    "def decompress(compressed_text):\n",
    "    # Initialize an empty dictionary to store the substitution rules\n",
    "    substitution_rules = {}\n",
    "    # Initialize an empty string to store the final result\n",
    "    decompressed_text = \"\"\n",
    "    # Iterate over each line of the input text\n",
    "    for line in compressed_text.split(\"\\n\"):\n",
    "        # Check if the line starts with \"*\"\n",
    "        if line.startswith(\"*\"):\n",
    "            # If so, split the line into key and value, remove leading/trailing whitespaces, and store the rule in the dictionary\n",
    "            key, value = map(str.strip, line[1:].split(\"=\"))\n",
    "            substitution_rules[key] = value\n",
    "            # Continue to the next line\n",
    "            continue\n",
    "        # If the line does not start with \"*\", add the line to the final result\n",
    "        decompressed_text += line + \"\\n\"\n",
    "    # Keep looping until no more rules are applied\n",
    "    while True:\n",
    "        # Initialize a flag to check if a rule is applied\n",
    "        # rule_applied = False\n",
    "\n",
    "        # if substitution_rules is empty, means no rule will be applied,return the decompressed_text\n",
    "        if not substitution_rules:\n",
    "            break\n",
    "\n",
    "        # Iterate over each key in the dictionary\n",
    "        for key in substitution_rules:\n",
    "            # Check if the key is present in the final result\n",
    "            if (key != substitution_rules[key]) and (key in decompressed_text):\n",
    "                # If so, replace the key with the corresponding value and set the flag to True\n",
    "                decompressed_text = decompressed_text.replace(\n",
    "                    key, substitution_rules[key])\n",
    "                # rule_applied = True\n",
    "        break\n",
    "\n",
    "        ##### change a little bit of the code, in order to improve the efficiency ###\n",
    "        # If no rule is applied, exit the loop\n",
    "        # if not rule_applied:\n",
    "        #     break\n",
    "    # Return the final result\n",
    "    return decompressed_text"
   ]
  },
  {
   "cell_type": "code",
   "execution_count": 22,
   "id": "66802197",
   "metadata": {},
   "outputs": [
    {
     "name": "stdout",
     "output_type": "stream",
     "text": [
      "\n",
      "\n",
      "a Denial of service attack is an attack meant to shut down a machine or network, making it inaccessible to its intended users.\n",
      "\n",
      "This can be accomplished by overwhelming the targeted system with excessive traffic or requests,\n",
      "causing it to crash or become unavailable to users.\n",
      "\n",
      "There are several different types of Denial of service attacks, including network-level A,\n",
      "application-level A, and distributed Denial of service attacks . \n",
      "    \n",
      "\n"
     ]
    }
   ],
   "source": [
    "if __name__ == '__main__':\n",
    "    res_ = decompress(\"\"\"\n",
    "* ds = Denial of service attack\n",
    "* p_ = Denial of service attacks\n",
    "* A = A\n",
    "* U=users\n",
    "* S=server\n",
    "* N=network\n",
    "* sm=system\n",
    "\n",
    "a ds is an attack meant to shut down a machine or N, making it inaccessible to its intended U.\n",
    "\n",
    "This can be accomplished by overwhelming the targeted sm with excessive traffic or requests,\n",
    "causing it to crash or become unavailable to U.\n",
    "\n",
    "There are several different types of p_, including network-level A,\n",
    "application-level A, and distributed p_ . \n",
    "    \"\"\")\n",
    "    \n",
    "    print(res_)"
   ]
  }
 ],
 "metadata": {
  "kernelspec": {
   "display_name": "Python 3",
   "language": "python",
   "name": "python3"
  },
  "language_info": {
   "codemirror_mode": {
    "name": "ipython",
    "version": 3
   },
   "file_extension": ".py",
   "mimetype": "text/x-python",
   "name": "python",
   "nbconvert_exporter": "python",
   "pygments_lexer": "ipython3",
   "version": "3.11.0"
  },
  "vscode": {
   "interpreter": {
    "hash": "5c7b89af1651d0b8571dde13640ecdccf7d5a6204171d6ab33e7c296e100e08a"
   }
  }
 },
 "nbformat": 4,
 "nbformat_minor": 5
}
