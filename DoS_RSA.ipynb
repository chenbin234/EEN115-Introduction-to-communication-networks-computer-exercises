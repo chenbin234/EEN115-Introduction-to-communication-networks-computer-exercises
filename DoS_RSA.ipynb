{
 "cells": [
  {
   "cell_type": "markdown",
   "id": "b20a46ed",
   "metadata": {},
   "source": [
    "# RSA cryptography method\n",
    "## Introduction:\n",
    "\n",
    "RSA (Rivest-Shamir-Adleman) is a widely-used method of public-key cryptography. It is named after its inventors, Ron Rivest, Adi Shamir, and Leonard Adleman, who first published it in 1977. RSA is used to encrypt and decrypt messages, as well as to create digital signatures.\n"
   ]
  },
  {
   "cell_type": "markdown",
   "id": "12089524",
   "metadata": {},
   "source": [
    "## Use python library \n",
    "\n",
    "\n",
    "The rsa library (https://stuvel.eu/python-rsa-doc/usage.html) is a Python library for implementing the RSA algorithm. It provides a simple and easy-to-use implementation of RSA, including key generation, encryption, decryption, and signing/verifying. \n",
    "\n",
    "Here are a few examples of how you can use the rsa library:"
   ]
  },
  {
   "cell_type": "markdown",
   "id": "29206386",
   "metadata": {},
   "source": [
    "### Key Generation:\n",
    "\n",
    "The **\"rsa.newkeys()\"** function is a part of the \"rsa\" library in Python and generates a new RSA key pair. The function takes one optional argument which is the size of the key in bits. If the argument is not specified, the default key size is 2048 bits. The function returns a tuple containing the public and private keys. The public key can be shared with anyone for encryption, while the private key must be kept secure for decryption and signing."
   ]
  },
  {
   "cell_type": "code",
   "execution_count": 609,
   "id": "10d67a5b",
   "metadata": {},
   "outputs": [],
   "source": [
    "import rsa\n",
    "(pubkey, privkey) = rsa.newkeys(512,accurate = True)"
   ]
  },
  {
   "cell_type": "markdown",
   "id": "d6dc6239",
   "metadata": {},
   "source": [
    "In RSA cryptography, the public key is composed of two components:\n",
    "\n",
    "- n: The modulus, which is the product of two large prime numbers and forms the foundation of the encryption and decryption process. \n",
    "\n",
    "- e: The public exponent, which is a small odd integer used to encrypt messages. It is typically chosen to be 65537.\n",
    "These two components of public key, can be used by others to encrypt messages that can only be decrypted using the corresponding private key. Here the **public key** is printed:"
   ]
  },
  {
   "cell_type": "code",
   "execution_count": 610,
   "id": "df2ede62",
   "metadata": {},
   "outputs": [
    {
     "name": "stdout",
     "output_type": "stream",
     "text": [
      "PublicKey(11323450162675592716169913898430970415027044043116977610960567435002867533609284838650531089266641014458686913254631339567747321009371781309619154842255789, 65537)\n",
      "155\n",
      "514\n"
     ]
    }
   ],
   "source": [
    "print(pubkey)\n",
    "\n",
    "# A typical size for n is 1024 bits, or 309 decimal digits. That is why we got len(str(pubkey.n) = 309 here.\n",
    "print(len(str(pubkey.n)))\n",
    "\n",
    "# if we transfer it to binary, it should be 1024 bits, but why it is 1026 bits?\n",
    "# 0b indicates that it number is binary representation. we can ignore the first 2 bits, 1026-2 = 1024. correctly!\n",
    "print(len(str(bin(pubkey.n))))"
   ]
  },
  {
   "cell_type": "markdown",
   "id": "eb14becf",
   "metadata": {},
   "source": [
    "The private key is kept secret and should not be shared with others. In RSA cryptography, the private key is composed of five components:\n",
    "\n",
    "- n: The modulus, which is the product of two large prime numbers and forms the foundation of the encryption and decryption process. \n",
    "\n",
    "- e: The public exponent, which is a small odd integer used to encrypt messages. It is typically chosen to be 65537. \n",
    "\n",
    "- d: The private exponent, which is used to decrypt messages and create digital signatures. It is kept secret and derived from the public exponent and other information, including the modulus and prime factors used to generate the key. \n",
    "- p: One of the prime factors of n. \n",
    "\n",
    "- q: The other prime factor of n. \n",
    "\n",
    "The **private key** is printed here:"
   ]
  },
  {
   "cell_type": "code",
   "execution_count": 611,
   "id": "66995a27",
   "metadata": {},
   "outputs": [
    {
     "name": "stdout",
     "output_type": "stream",
     "text": [
      "PrivateKey(11323450162675592716169913898430970415027044043116977610960567435002867533609284838650531089266641014458686913254631339567747321009371781309619154842255789, 65537, 10744984393039541563176385483460085434794342768167626236294409695521511949350225187552418123139503184799968744700705444425279172379563559146986723483305473, 6802844660803364060099289597288979956119688717265906897764555003264242993623312001, 1664516937733277542011149147531152036968429030229340456255090597905087789)\n",
      "True\n"
     ]
    }
   ],
   "source": [
    "print(privkey)\n",
    "\n",
    "# check whether p*q==n, since it returned True, correctly! \n",
    "print(privkey.p*privkey.q ==privkey.n)"
   ]
  },
  {
   "cell_type": "markdown",
   "id": "1ccf1dc7",
   "metadata": {},
   "source": [
    "### Encryption:\n",
    "\n",
    "The **rsa.encrypt()** function is used to encrypt the plaintext message using the public key. The plaintext message must be passed as bytes, and the public key is passed as the second argument. The function returns the ciphertext, which is the encrypted version of the plaintext message."
   ]
  },
  {
   "cell_type": "code",
   "execution_count": 612,
   "id": "7b20344c",
   "metadata": {},
   "outputs": [
    {
     "name": "stdout",
     "output_type": "stream",
     "text": [
      "b'Hello World!'\n",
      "b'>\\xbb\\xc2\\xf6\\xb7\\x86\\xc5\\x15\\xac\\x99\\x9b\\xa3\\x1d\\x94\\xf6\\xe5\\xed\\x85\\xa9\\xb0\\xa0c\\x92\\xdc-\\xba\\x84 8\\x0e\\xb4\\xc5\\xbc\\xa7:F\\x03\\xd8o\\xcd\\xa0\\xaa<\\xb5\\x1c1}v\\xfa\\xcdB\\xa96\\x8d\\xe3\\x15\\x88\\xbf\\xfa\\x1c\\xb5\\x0b\\x8fx'\n"
     ]
    }
   ],
   "source": [
    "# Define the message to be encrypted\n",
    "message = \"Hello World!\"\n",
    "\n",
    "# Encode the message as a byte string\n",
    "message = message.encode()\n",
    "print(message)\n",
    "\n",
    "# Encrypt the message using the public key\n",
    "ciphertext = rsa.encrypt(message, pubkey)\n",
    "\n",
    "print(ciphertext)\n",
    "# print(len(ciphertext))"
   ]
  },
  {
   "cell_type": "markdown",
   "id": "ba60d6f4",
   "metadata": {},
   "source": [
    "The output is a binary string, which represents the encrypted message. It is generated by applying the RSA encryption algorithm to the original message, using the public key of the recipient. The output is unreadable, as it has been transformed into a sequence of seemingly random bytes through the encryption process. To decrypt the message, the recipient would use their private key."
   ]
  },
  {
   "cell_type": "markdown",
   "id": "5b86530c",
   "metadata": {},
   "source": [
    "###  Decryption:\n",
    "\n",
    "The **rsa.decrypt()** function is used to decrypt the ciphertext using the private key. The ciphertext and the private key are passed as arguments. The function returns the decrypted plaintext message as bytes, which can then be decoded to a string using the .decode() method."
   ]
  },
  {
   "cell_type": "code",
   "execution_count": 613,
   "id": "e106ef89",
   "metadata": {},
   "outputs": [
    {
     "name": "stdout",
     "output_type": "stream",
     "text": [
      "Hello World!\n"
     ]
    }
   ],
   "source": [
    "plaintext = rsa.decrypt(ciphertext, privkey).decode()\n",
    "print(plaintext)"
   ]
  },
  {
   "cell_type": "markdown",
   "id": "c65cbb97",
   "metadata": {},
   "source": [
    "###  Signing:\n",
    "\n",
    "The rsa.sign() function is used to sign the message using the private key. The message must be passed as bytes, and the private key and a hash function such as 'SHA-1' are passed as arguments. The function returns the signature, which is a digital signature of the message.  The SHA-1 argument specifies the hashing algorithm to use when generating the signature.\n",
    "\n",
    "In this case, the SHA-1 algorithm is used to hash the message, and the resulting hash is then signed using the private key. The signature acts as a digital signature, verifying that the message came from the owner of the private key and has not been tampered with."
   ]
  },
  {
   "cell_type": "code",
   "execution_count": 614,
   "id": "8d70df90",
   "metadata": {},
   "outputs": [
    {
     "name": "stdout",
     "output_type": "stream",
     "text": [
      "b'\\xb9pb\\xf1\\x96\\xe2\\xaa#\\xf2\\x91\\xcauS\\x99\\xc5Q\\xbe\\x8a\\xaa\\xebV\\x94ZT\\x1a_\\x97y\\x180\\x91\\xee\\x87\\xe4\\xe43\\xfc\\x80ee\\x12\\xb5\\xeb)0\\xe3n\\x08!@u;\\xe8+Q\\xdb\\xaa\\x93Q\\xca\\x88\\x89\\xf0\\xd5'\n"
     ]
    }
   ],
   "source": [
    "message = \"Hello, World!\"\n",
    "signature = rsa.sign(message.encode(), privkey, 'SHA-1')\n",
    "\n",
    "print(signature)"
   ]
  },
  {
   "cell_type": "markdown",
   "id": "886e0abd",
   "metadata": {},
   "source": [
    "### Verifying:\n",
    "\n",
    "The rsa.verify() function is used to verify the signature of a message. The message, signature, and public key are passed as arguments. If the signature is valid, the function returns True, otherwise it raises a rsa.pkcs1.VerificationError exception."
   ]
  },
  {
   "cell_type": "code",
   "execution_count": 615,
   "id": "ca6bf39a",
   "metadata": {},
   "outputs": [
    {
     "data": {
      "text/plain": [
       "'SHA-1'"
      ]
     },
     "execution_count": 615,
     "metadata": {},
     "output_type": "execute_result"
    }
   ],
   "source": [
    "rsa.verify(message.encode(), signature, pubkey)"
   ]
  },
  {
   "cell_type": "code",
   "execution_count": 616,
   "id": "3107d6fc",
   "metadata": {},
   "outputs": [
    {
     "name": "stdout",
     "output_type": "stream",
     "text": [
      "Signature is valid.\n"
     ]
    }
   ],
   "source": [
    "import rsa\n",
    "\n",
    "# Generate a new RSA key pair\n",
    "(pubkey, privkey) = rsa.newkeys(1024)\n",
    "\n",
    "# Define the message to be signed\n",
    "message = \"Hello, World!\"\n",
    "message = message.encode()\n",
    "\n",
    "# Sign the message using the private key\n",
    "signature = rsa.sign(message, privkey, 'SHA-256')\n",
    "\n",
    "# Verify the signature using the public key\n",
    "try:\n",
    "    rsa.verify(message, signature, pubkey)\n",
    "    print(\"Signature is valid.\")\n",
    "except rsa.pkcs1.VerificationError:\n",
    "    print(\"Signature is invalid.\")\n"
   ]
  },
  {
   "cell_type": "markdown",
   "id": "9782024f",
   "metadata": {},
   "source": [
    "## Implementing RSA without using rsa library"
   ]
  },
  {
   "cell_type": "markdown",
   "id": "d7501fdb",
   "metadata": {},
   "source": [
    "In this part, we plan to forget rsa library and try to implement RSA algorithm step by step. We want to cover the following topics:\n",
    "\n",
    "- Generating RSA keys: We will learn how to generate a public and private key using Python.\n",
    "\n",
    "- Encryption and Decryption: We will learn how to encrypt and decrypt a message using the RSA method.\n",
    "\n",
    "\n",
    "Let's get started!"
   ]
  },
  {
   "cell_type": "markdown",
   "id": "177a87d9",
   "metadata": {},
   "source": [
    "## Step1: Generating RSA keys:\n",
    "\n",
    "The process of generating RSA keys involves the following steps:\n",
    "\n",
    "- Select two large prime numbers, p and q.\n",
    "- Compute n = p * q. n is used as the modulus for both the public and private keys.\n",
    "- Compute the totient of n, denoted as φ(n) = (p-1)*(q-1).\n",
    "- Choose a public exponent, e, such that 1 < e < φ(n) and e is coprime to φ(n).\n",
    "- Determine the private exponent, d, such that d * e ≡ 1 (mod φ(n)). d can be calculated using the extended Euclidean algorithm.\n",
    "\n",
    "To generate RSA keys in Python, we will need to import the following libraries:"
   ]
  },
  {
   "cell_type": "code",
   "execution_count": 617,
   "id": "229a389d",
   "metadata": {},
   "outputs": [],
   "source": [
    "import random\n",
    "import math\n",
    "import sympy"
   ]
  },
  {
   "cell_type": "markdown",
   "id": "44f5b716",
   "metadata": {},
   "source": [
    "###  generate_large_prime() function:\n",
    "\n",
    "This function has been used to generate two large prime numbers, p and q."
   ]
  },
  {
   "cell_type": "markdown",
   "id": "a8f79c70",
   "metadata": {},
   "source": [
    "## Question:\n",
    "Complete the following function to generate p and q:"
   ]
  },
  {
   "cell_type": "code",
   "execution_count": 618,
   "id": "90775e51",
   "metadata": {},
   "outputs": [],
   "source": [
    "def isPrime(n):\n",
    "    \"\"\"\n",
    "    This function is to verify whether a number is prime or not\n",
    "    using Miller_Rabin primality test (because it is more fast to check whether a number is prime from probability perspective, it's not perfect but useful)\n",
    "    see: https://en.wikipedia.org/wiki/Miller%E2%80%93Rabin_primality_test\n",
    "\n",
    "    Minimum number of rounds of M-R testing when generating primes using an error probability of 2^(-100)\n",
    "    see: https://nvlpubs.nist.gov/nistpubs/FIPS/NIST.FIPS.186-4.pdf, page 71, Appendix C, Table C.3\n",
    "\n",
    "    Args:\n",
    "        n: the decimal number\n",
    "\n",
    "    Returns:\n",
    "        True/False\n",
    "    \"\"\"\n",
    "    if n <= 3:\n",
    "        return n == 2 or n == 3\n",
    "\n",
    "    numberOfBits = len(str(bin(n)))-2\n",
    "    if numberOfBits >= 1536:\n",
    "        k = 3\n",
    "    elif numberOfBits >= 1024:\n",
    "        k = 4\n",
    "    elif numberOfBits >= 512:\n",
    "        k = 7\n",
    "    else:\n",
    "        k = 14\n",
    "    \n",
    "    # Miller_Rabin primality test\n",
    "    # initiate d and s, make the equation n − 1 = 2^(s) * d hold\n",
    "    d = n-1\n",
    "    s = 0\n",
    "\n",
    "    # when d is a even number, we need to process it to an odd number\n",
    "    while d % 2 == 0:\n",
    "        d >>= 1\n",
    "        s += 1\n",
    "\n",
    "    for i in range(k):\n",
    "        a = random.randint(2, n-2)\n",
    "        # print(\"d now is {}\".format(d))\n",
    "        x = pow(a, int(d), n)\n",
    "\n",
    "        for j in range(s):\n",
    "            y = pow(x, 2, n)\n",
    "            if y == 1 and x != 1 and x != n - 1:\n",
    "                return False\n",
    "            x = y\n",
    "        if y != 1:\n",
    "            return False\n",
    "    return True"
   ]
  },
  {
   "cell_type": "code",
   "execution_count": 619,
   "id": "8f7a436f",
   "metadata": {},
   "outputs": [],
   "source": [
    "def generate_large_prime(nbits):\n",
    "    \"\"\"\n",
    "    This function is to generate two random prime number (p,q) with the given number of bits.\n",
    "    To make factoring harder, p and q should be chosen at random, be similar in magnitude, but differ in length.\n",
    "\n",
    "    Args:\n",
    "        nbits: The number of bits (which we want for modulus - n).\n",
    "\n",
    "    Returns:\n",
    "        (p,q)\n",
    "    \"\"\"\n",
    "\n",
    "    bitDifference = nbits // 32\n",
    "\n",
    "    while True:\n",
    "        # genetate a random bits which have nbits//2 bits\n",
    "        p = random.getrandbits(nbits//2 + bitDifference)\n",
    "        # make sure n is an odd number, because all prime number is odd, except 2, which we don't consider it.\n",
    "        p = p|1\n",
    "        if isPrime(p):\n",
    "            break\n",
    "    \n",
    "    while True:\n",
    "        q = random.getrandbits(nbits//2 - bitDifference)\n",
    "        q = q|1\n",
    "        if isPrime(q) & (q!=p):\n",
    "            break\n",
    "    \n",
    "    return (p,q)"
   ]
  },
  {
   "cell_type": "code",
   "execution_count": 620,
   "id": "a1bbd48c",
   "metadata": {},
   "outputs": [
    {
     "name": "stdout",
     "output_type": "stream",
     "text": [
      "(32958237402471602930989377554484250548010289663611167200339133399237414135540043810111098228940508812182692029494596171430745957543931701350151837273478393125132721, 2780279616397420091156777483084361771004958714701533541508560642646224397230351009329238779276513706202398683166169702267608529338530573232180081)\n",
      "546\n",
      "482\n",
      "1026\n",
      "True\n",
      "True\n"
     ]
    }
   ],
   "source": [
    "(p,q) = generate_large_prime(1024)\n",
    "print((p,q))\n",
    "print(len(str(bin(p))))\n",
    "print(len(str(bin(q))))\n",
    "print(len(str(bin(p*q))))\n",
    "\n",
    "# check if (p,q) are prime numbers\n",
    "print(rsa.prime.is_prime(p))\n",
    "print(rsa.prime.is_prime(q))"
   ]
  },
  {
   "cell_type": "markdown",
   "id": "231d5687",
   "metadata": {},
   "source": [
    "### Step 2: Selecting the public exponent e using generate_public_exponent function \n",
    "\n",
    "generate_public_exponent function will generate a random number between 2 and phi-1, then check if that number is relatively prime to phi (i.e. their greatest common divisor is 1). If it is not relatively prime, it will generate a new random number and repeat this process until it finds a relatively prime number."
   ]
  },
  {
   "cell_type": "markdown",
   "id": "3a9d4c05",
   "metadata": {},
   "source": [
    "## Question:\n",
    "Based on the above description,complete the following function to generate public key exponent e:"
   ]
  },
  {
   "cell_type": "code",
   "execution_count": 621,
   "id": "75b85b5c",
   "metadata": {},
   "outputs": [],
   "source": [
    "def is_relatively_prime(x, y):\n",
    "    # Determining if two numbers are relatively prime\n",
    "    gcd = math.gcd(x,y)\n",
    "    return gcd == 1\n",
    "\n",
    "def generate_public_exponent(phi):\n",
    "    # modulus - n\n",
    "    # publicExponent - e\n",
    "    # privateExponent - d\n",
    "    while True:\n",
    "        e = random.randint(2, phi-1)\n",
    "        # if math.gcd(e,phi) == 1:\n",
    "        if is_relatively_prime(e,phi):\n",
    "            return e"
   ]
  },
  {
   "cell_type": "markdown",
   "id": "00aabab8",
   "metadata": {},
   "source": [
    "### Step 3 : Selecting the private exponent d using  calculate_private_exponent(phi, e) function\n",
    "\n",
    "This function will calculate the modular inverse of e mod phi. The modular inverse of a number is a number such that when it is multiplied by the original number, the result is 1 mod some other number. In this case, the result should be 1 mod phi.\n",
    "\n",
    "The function mod_inverse(a,m) is used to find the modular inverse of a number. It returns the number x such that a*x = 1 mod m."
   ]
  },
  {
   "cell_type": "markdown",
   "id": "20b454f0",
   "metadata": {},
   "source": [
    "## Question:\n",
    "Based on the above description,complete the following function by writing the code for the mod_inverse(e, phi) function in order to generate public key exponent e:"
   ]
  },
  {
   "cell_type": "code",
   "execution_count": 622,
   "id": "ee438e05",
   "metadata": {},
   "outputs": [],
   "source": [
    "def extended_euclidean_algorithm(a,b):\n",
    "    # Use Extended Euclidean Algorithm\n",
    "    # see: https://en.wikipedia.org/wiki/Modular_multiplicative_inverse\n",
    "    # see: https://www.educative.io/answers/what-is-extended-euclidean-algorithm\n",
    "    # a*x + b*y = gcd(a,b) = r, given a and b, the Extended Euclidean Algorithm can get x, y and r\n",
    "    # in our case, ed + y*phi = 1 = gcd(e,phi), we need to calculate d. \n",
    "\n",
    "    if a == 0: \n",
    "        return b, 0, 1        \n",
    "    gcd, x, y = extended_euclidean_algorithm(b%a, a)\n",
    "    x,y = y - (b//a) * x, x \n",
    "    return gcd, x, y\n",
    "\n",
    "def mod_inverse(a,b):\n",
    "    gcd,x,y = extended_euclidean_algorithm(a,b)\n",
    "    return x"
   ]
  },
  {
   "cell_type": "code",
   "execution_count": 623,
   "id": "3e55285b",
   "metadata": {},
   "outputs": [],
   "source": [
    "def calculate_private_exponent(phi, e):\n",
    "    # Calculating the modular inverse of e mod phi\n",
    "    d = mod_inverse(e, phi)\n",
    "    if(d < 0):\n",
    "        d += phi\n",
    "    return d"
   ]
  },
  {
   "cell_type": "code",
   "execution_count": 624,
   "id": "246a3f2e",
   "metadata": {},
   "outputs": [
    {
     "name": "stdout",
     "output_type": "stream",
     "text": [
      "A:33\n"
     ]
    }
   ],
   "source": [
    "A = calculate_private_exponent(49,3)\n",
    "print('A:{}'.format(A))"
   ]
  },
  {
   "cell_type": "markdown",
   "id": "a2f0bdf7",
   "metadata": {},
   "source": [
    "## Writing encryption and decryption functions\n",
    "\n"
   ]
  },
  {
   "cell_type": "markdown",
   "id": "f0e2c475",
   "metadata": {},
   "source": [
    "### Encryption\n",
    "\n",
    "The encrypt function takes the plaintext and the public key as input, and returns the ciphertext. The encryption is done by raising the plaintext to the power of the public exponent (e) and then taking the remainder when divided by n."
   ]
  },
  {
   "cell_type": "markdown",
   "id": "1fa22e1e",
   "metadata": {},
   "source": [
    "## Question:\n",
    "Write a function to do the encryption:"
   ]
  },
  {
   "cell_type": "code",
   "execution_count": 625,
   "id": "8d44fa6a",
   "metadata": {},
   "outputs": [],
   "source": [
    "def encrypt(message, e, n):\n",
    "    # byte value can be interchanged to an int value by using the int.from_bytes() method.\n",
    "    length_n = len(str(bin(n)))\n",
    "    message = int.from_bytes(message, \"big\", signed=False)\n",
    "    ciphertext = pow(message,e,n)\n",
    "    # transform ciphertext from a number to bytes\n",
    "    ciphertext = ciphertext.to_bytes(length_n,\"big\",signed=False)\n",
    "    return ciphertext"
   ]
  },
  {
   "attachments": {},
   "cell_type": "markdown",
   "id": "20943ad3",
   "metadata": {},
   "source": [
    "### Decryption\n",
    "The decrypt function takes the ciphertext and the private key as input, and returns the original plaintext. The decryption is done by raising the ciphertext to the power of the private exponent (d) and then taking the remainder when divided by n."
   ]
  },
  {
   "cell_type": "markdown",
   "id": "fc1912f5",
   "metadata": {},
   "source": [
    "## Question:\n",
    "Write a function to do the decryption:"
   ]
  },
  {
   "cell_type": "code",
   "execution_count": 626,
   "id": "a414b1ed",
   "metadata": {},
   "outputs": [],
   "source": [
    "def decrypt(ciphertext,d,n):\n",
    "    length_n = len(str(bin(n)))\n",
    "    ciphertext = int.from_bytes(ciphertext, \"big\", signed=False)\n",
    "    message = pow(ciphertext,d,n)\n",
    "\n",
    "    message = message.to_bytes(length_n,\"big\",signed=False)\n",
    "    message = message.decode()\n",
    "    return message"
   ]
  },
  {
   "cell_type": "markdown",
   "id": "b3fbcc54",
   "metadata": {},
   "source": [
    "## Question:\n",
    "\n",
    "based on the functions you implemented above, calculate p, q, n, phi,e, and d for a rather small amount of n. Then consider a specefic message and do the encrytion and decryption and provide the output. What will hapen for large values of n and why? "
   ]
  },
  {
   "cell_type": "code",
   "execution_count": 631,
   "id": "241eee64",
   "metadata": {},
   "outputs": [
    {
     "name": "stdout",
     "output_type": "stream",
     "text": [
      "772552372172443617434609215233491153522058141469100741669020508510084742051097363932362534850544561787986777528351905284542177220204293328826541728473760315072444679563340184724547308736467069558374821675403267949109521624321182515966455327032911020997044406200961735026027013807342538863608109223829833469925086147114182973195245813723613823278116221366977323170546271135967255973972690925218063410359296592884556560882864813534867930204785387945655820975495874402454410235269503938741045998561377616828060354124044471650958714711825959194687439782894998709527272663690149596312252532975060133508408411401038279265725412693642920359059499666577438477117 84537652135484323132696330750298840649046909295425987719939005452596676430202110358246767413833027071233136300456992255669739066138077195791496762596430421137214506370853173278517367049550336605693201768734800240217280158057947901654358497010357400066713796225181527668792903639327569250430711834811229890373201274700279510095171051594535638569890801218397574247121030330631814219265555118644205709585299187264921922701110234000446661464951889401093317764940031861022134047362916831057915597401752807851507714701696761216686057517052372780630087058507989362107115113108780311687 65309763695157257748650554456923544524149274748336351805717022525102695069184895033114006085465440127645510313238326632921302168686928169235593117949998438869598685265967537949038611703204557296194952938384493083232623187562778434798001164092979460895461165619845152427315038472799182575219930159611959348008286564964774902669615471969149411389966762203630533632013720183754856330850163401403043285749817114359511116105135108510635485627611748131517179574327201185023730340455352394405453798770719030505837666566747399238155033901922963286213032990538816389491177773340249035008507761030193897407938589185806776069404078324964573017691010146593835440049793423718839440057083184107145900870221892016657868862272156601626671455087453446752994660764219936831260881353465292298531802050913328419146997308946898833793962354362674458561233645807472920820649844777543359652758495707168414652282760277312793276725274720314303998594508161065939612549641285935683586390516116457810012500896733275357521108372435091249715204041824257795655413260360595848483942756287766300976752258858636295235701286931061793156011593614085206139427266166277521222955061106887847892537747751267425888420559219290744655028378548019231402989501703283853877166379 65309763695157257748650554456923544524149274748336351805717022525102695069184895033114006085465440127645510313238326632921302168686928169235593117949998438869598685265967537949038611703204557296194952938384493083232623187562778434798001164092979460895461165619845152427315038472799182575219930159611959348008286564964774902669615471969149411389966762203630533632013720183754856330850163401403043285749817114359511116105135108510635485627611748131517179574327201185023730340455352394405453798770719030505837666566747399238155033901922963286213032990538816389491177773340249035007735208658021453790503979970573284915882020183495472276021989638083750697998611522134341420883405925988408824501220939822820265654347924267347533050183491021322303213787046725035480436316541230484487241309371983274245978922029285896690292520958910264285671872556960849188929629201466020548933106325280633280703315633188252903463315110365508647647599036059634720128664302964905100526170224257891669580442265630878428908919679476496449699589917839519367778065599166327385326811432963174970784337596148444407194271342065432103959561137319215083717692336019605682369872845795945488373987503590668993695464750372654002982023048267080493268335088504167658377576 13823069828309288352953961020939161070401130582646868580240852896909432141779914610485691687494636363732353178086619985940026489464217820602515482167982176128881140824381897492074505441529733680414135351848845764096088846991422671675547871390254929372777021516667037722135445939359584531723611652081135056378271330559510650117637250571626969659681262976225712674256794945687166907381148958649516831233484220665447662694214546935151587624347927415367482742073337529774371566075102000477497175012095754021314229880013767261684306828989730169905172491149241243817984467941736914163391754424215597995963688798214602639680351044135379818110726874605688022271648156885405864428230088742921481031647938223956462905221931895863485413769226014597652900097559274499787302050922849010812169355512659828647644072664500648691472785225368128501077625762059116215985635494779386405186476961057635541184781820654393646518459893670065621488935249017801070527999030741014371669345636242175796437211903045187175429829645141923416507260934201466378911836242490327718074480704660639953731034095232181475196094372136025453144795492564421419462398744660490676172324724655620556793671999558758325671858736446730406661757903482019801311791832862359139816075 16918508885822946443013447727250761448046467753366122301579421446531334389134941613623621467023733446643964948233613272796060276527937117568337133434664159754713243511561577221928534003490538069904045125794916013438451894638827293498452698995650364906601120896130310732624188745348535984940675192828187208049799246235373673196759007631759961950217380715087345863955865212201106944322926089418956070754422655087055315283129284023194147851097887586283185526797455941034088737079653384357145233774258446786596695575001887008385964098533583196683969896557012443983101448676822054554109444307406923778636193097284397621252407748758642075786102270717157872508857994019557722082692204119950805113837553748435649969068726382416482193450524877957955031956808970606545056233921569757341356521492725414066789707437769278034846772823739409520572814559836712829209039896858218627540088281713971239959188987696857590902408944820563950731776059107738947387178531120745840826992865710397191081394071372344233450045337109330274165384604188099207564460149414270329586628389983178545432699153139650090040421335773982747583360956578783347541965231442381758495666770854614856108788305742361157151399032461667183934959614560244950613467140935244372670723\n",
      "b'The Short Answer: Suppose you have a list of the first billion prime numbers. You pick 2 at random and multiply them together (a very fast process). Then you give me the result and ask me to find which 2 prime numbers you used. In the general case I have no choice but to try lots of guesswork (a very slow process).'\n",
      "ciphertext: b'\\x00\\x00\\x00\\x00\\x00\\x00\\x00\\x00\\x00\\x00\\x00\\x00\\x00\\x00\\x00\\x00\\x00\\x00\\x00\\x00\\x00\\x00\\x00\\x00\\x00\\x00\\x00\\x00\\x00\\x00\\x00\\x00\\x00\\x00\\x00\\x00\\x00\\x00\\x00\\x00\\x00\\x00\\x00\\x00\\x00\\x00\\x00\\x00\\x00\\x00\\x00\\x00\\x00\\x00\\x00\\x00\\x00\\x00\\x00\\x00\\x00\\x00\\x00\\x00\\x00\\x00\\x00\\x00\\x00\\x00\\x00\\x00\\x00\\x00\\x00\\x00\\x00\\x00\\x00\\x00\\x00\\x00\\x00\\x00\\x00\\x00\\x00\\x00\\x00\\x00\\x00\\x00\\x00\\x00\\x00\\x00\\x00\\x00\\x00\\x00\\x00\\x00\\x00\\x00\\x00\\x00\\x00\\x00\\x00\\x00\\x00\\x00\\x00\\x00\\x00\\x00\\x00\\x00\\x00\\x00\\x00\\x00\\x00\\x00\\x00\\x00\\x00\\x00\\x00\\x00\\x00\\x00\\x00\\x00\\x00\\x00\\x00\\x00\\x00\\x00\\x00\\x00\\x00\\x00\\x00\\x00\\x00\\x00\\x00\\x00\\x00\\x00\\x00\\x00\\x00\\x00\\x00\\x00\\x00\\x00\\x00\\x00\\x00\\x00\\x00\\x00\\x00\\x00\\x00\\x00\\x00\\x00\\x00\\x00\\x00\\x00\\x00\\x00\\x00\\x00\\x00\\x00\\x00\\x00\\x00\\x00\\x00\\x00\\x00\\x00\\x00\\x00\\x00\\x00\\x00\\x00\\x00\\x00\\x00\\x00\\x00\\x00\\x00\\x00\\x00\\x00\\x00\\x00\\x00\\x00\\x00\\x00\\x00\\x00\\x00\\x00\\x00\\x00\\x00\\x00\\x00\\x00\\x00\\x00\\x00\\x00\\x00\\x00\\x00\\x00\\x00\\x00\\x00\\x00\\x00\\x00\\x00\\x00\\x00\\x00\\x00\\x00\\x00\\x00\\x00\\x00\\x00\\x00\\x00\\x00\\x00\\x00\\x00\\x00\\x00\\x00\\x00\\x00\\x00\\x00\\x00\\x00\\x00\\x00\\x00\\x00\\x00\\x00\\x00\\x00\\x00\\x00\\x00\\x00\\x00\\x00\\x00\\x00\\x00\\x00\\x00\\x00\\x00\\x00\\x00\\x00\\x00\\x00\\x00\\x00\\x00\\x00\\x00\\x00\\x00\\x00\\x00\\x00\\x00\\x00\\x00\\x00\\x00\\x00\\x00\\x00\\x00\\x00\\x00\\x00\\x00\\x00\\x00\\x00\\x00\\x00\\x00\\x00\\x00\\x00\\x00\\x00\\x00\\x00\\x00\\x00\\x00\\x00\\x00\\x00\\x00\\x00\\x00\\x00\\x00\\x00\\x00\\x00\\x00\\x00\\x00\\x00\\x00\\x00\\x00\\x00\\x00\\x00\\x00\\x00\\x00\\x00\\x00\\x00\\x00\\x00\\x00\\x00\\x00\\x00\\x00\\x00\\x00\\x00\\x00\\x00\\x00\\x00\\x00\\x00\\x00\\x00\\x00\\x00\\x00\\x00\\x00\\x00\\x00\\x00\\x00\\x00\\x00\\x00\\x00\\x00\\x00\\x00\\x00\\x00\\x00\\x00\\x00\\x00\\x00\\x00\\x00\\x00\\x00\\x00\\x00\\x00\\x00\\x00\\x00\\x00\\x00\\x00\\x00\\x00\\x00\\x00\\x00\\x00\\x00\\x00\\x00\\x00\\x00\\x00\\x00\\x00\\x00\\x00\\x00\\x00\\x00\\x00\\x00\\x00\\x00\\x00\\x00\\x00\\x00\\x00\\x00\\x00\\x00\\x00\\x00\\x00\\x00\\x00\\x00\\x00\\x00\\x00\\x00\\x00\\x00\\x00\\x00\\x00\\x00\\x00\\x00\\x00\\x00\\x00\\x00\\x00\\x00\\x00\\x00\\x00\\x00\\x00\\x00\\x00\\x00\\x00\\x00\\x00\\x00\\x00\\x00\\x00\\x00\\x00\\x00\\x00\\x00\\x00\\x00\\x00\\x00\\x00\\x00\\x00\\x00\\x00\\x00\\x00\\x00\\x00\\x00\\x00\\x00\\x00\\x00\\x00\\x00\\x00\\x00\\x00\\x00\\x00\\x00\\x00\\x00\\x00\\x00\\x00\\x00\\x00\\x00\\x00\\x00\\x00\\x00\\x00\\x00\\x00\\x00\\x00\\x00\\x00\\x00\\x00\\x00\\x00\\x00\\x00\\x00\\x00\\x00\\x00\\x00\\x00\\x00\\x00\\x00\\x00\\x00\\x00\\x00\\x00\\x00\\x00\\x00\\x00\\x00\\x00\\x00\\x00\\x00\\x00\\x00\\x00\\x00\\x00\\x00\\x00\\x00\\x00\\x00\\x00\\x00\\x00\\x00\\x00\\x00\\x00\\x00\\x00\\x00\\x00\\x00\\x00\\x00\\x00\\x00\\x00\\x00\\x00\\x00\\x00\\x00\\x00\\x00\\x00\\x00\\x00\\x00\\x00\\x00\\x00\\x00\\x00\\x00\\x00\\x00\\x00\\x00\\x00\\x00\\x00\\x00\\x00\\x00\\x00\\x00\\x00\\x00\\x00\\x00\\x00\\x00\\x00\\x00\\x00\\x00\\x00\\x00\\x00\\x00\\x00\\x00\\x00\\x00\\x00\\x00\\x00\\x00\\x00\\x00\\x00\\x00\\x00\\x00\\x00\\x00\\x00\\x00\\x00\\x00\\x00\\x00\\x00\\x00\\x00\\x00\\x00\\x00\\x00\\x00\\x00\\x00\\x00\\x00\\x00\\x00\\x00\\x00\\x00\\x00\\x00\\x00\\x00\\x00\\x00\\x00\\x00\\x00\\x00\\x00\\x00\\x00\\x00\\x00\\x00\\x00\\x00\\x00\\x00\\x00\\x00\\x00\\x00\\x00\\x00\\x00\\x00\\x00\\x00\\x00\\x00\\x00\\x00\\x00\\x00\\x00\\x00\\x00\\x00\\x00\\x00\\x00\\x00\\x00\\x00\\x00\\x00\\x00\\x00\\x00\\x00\\x00\\x00\\x00\\x00\\x00\\x00\\x00\\x00\\x00\\x00\\x00\\x00\\x00\\x00\\x00\\x00\\x00\\x00\\x00\\x00\\x00\\x00\\x00\\x00\\x00\\x00\\x00\\x00\\x00\\x00\\x00\\x00\\x00\\x00\\x00\\x00\\x00\\x00\\x00\\x00\\x00\\x00\\x00\\x00\\x00\\x00\\x00\\x00\\x00\\x00\\x00\\x00\\x00\\x00\\x00\\x00\\x00\\x00\\x00\\x00\\x00\\x00\\x00\\x00\\x00\\x00\\x00\\x00\\x00\\x00\\x00\\x00\\x00\\x00\\x00\\x00\\x00\\x00\\x00\\x00\\x00\\x00\\x00\\x00\\x00\\x00\\x00\\x00\\x00\\x00\\x00\\x00\\x00\\x00\\x00\\x00\\x00\\x00\\x00\\x00\\x00\\x00\\x00\\x00\\x00\\x00\\x00\\x00\\x00\\x00\\x00\\x00\\x00\\x00\\x00\\x00\\x00\\x00\\x00\\x00\\x00\\x00\\x00\\x00\\x00\\x00\\x00\\x00\\x00\\x00\\x00\\x00\\x00\\x00\\x00\\x00\\x00\\x00\\x00\\x00\\x00\\x00\\x00\\x00\\x00\\x00\\x00\\x00\\x00\\x00\\x00\\x00\\x00\\x00\\x00\\x00\\x00\\x00\\x00\\x00\\x00\\x00\\x00\\x00\\x00\\x00\\x00\\x00\\x00\\x00\\x00\\x00\\x00\\x00\\x00\\x00\\x00\\x00\\x00\\x00\\x00\\x00\\x00\\x00\\x00\\x00\\x00\\x00\\x00\\x00\\x00\\x00\\x00\\x00\\x00\\x00\\x00\\x00\\x00\\x00\\x00\\x00\\x00\\x00\\x00\\x00\\x00\\x00\\x00\\x00\\x00\\x00\\x00\\x00\\x00\\x00\\x00\\x00\\x00\\x00\\x00\\x00\\x00\\x00\\x00\\x00\\x00\\x00\\x00\\x00\\x00\\x00\\x00\\x00\\x00\\x00\\x00\\x00\\x00\\x00\\x00\\x00\\x00\\x00\\x00\\x00\\x00\\x00\\x00\\x00\\x00\\x00\\x00\\x00\\x00\\x00\\x00\\x00\\x00\\x00\\x00\\x00\\x00\\x00\\x00\\x00\\x00\\x00\\x00\\x00\\x00\\x00\\x00\\x00\\x00\\x00\\x00\\x00\\x00\\x00\\x00\\x00\\x00\\x00\\x00\\x00\\x00\\x00\\x00\\x00\\x00\\x00\\x00\\x00\\x00\\x00\\x00\\x00\\x00\\x00\\x00\\x00\\x00\\x00\\x00\\x00\\x00\\x00\\x00\\x00\\x00\\x00\\x00\\x00\\x00\\x00\\x00\\x00\\x00\\x00\\x00\\x00\\x00\\x00\\x00\\x00\\x00\\x00\\x00\\x00\\x00\\x00\\x00\\x00\\x00\\x00\\x00\\x00\\x00\\x00\\x00\\x00\\x00\\x00\\x00\\x00\\x00\\x00\\x00\\x00\\x00\\x00\\x00\\x00\\x00\\x00\\x00\\x00\\x00\\x00\\x00\\x00\\x00\\x00\\x00\\x00\\x00\\x00\\x00\\x00\\x00\\x00\\x00\\x00\\x00\\x00\\x00\\x00\\x00\\x00\\x00\\x00\\x00\\x00\\x00\\x00\\x00\\x00\\x00\\x00\\x00\\x00\\x00\\x00\\x00\\x00\\x00\\x00\\x00\\x00\\x00\\x00\\x00\\x00\\x00\\x00\\x00\\x00\\x00\\x00\\x00\\x00\\x00\\x00\\x00\\x00\\x00\\x00\\x00\\x00\\x00\\x00\\x00\\x00\\x00\\x00\\x00\\x00\\x00\\x00\\x00\\x00\\x00\\x00\\x00\\x00\\x00\\x00\\x00\\x00\\x00\\x00\\x00\\x00\\x00\\x00\\x00\\x00\\x00\\x00\\x00\\x00\\x00\\x00\\x00\\x00\\x00\\x00\\x00\\x00\\x00\\x00\\x00\\x00\\x00\\x00\\x00\\x00\\x00\\x00\\x00\\x00\\x00\\x00\\x00\\x00\\x00\\x00\\x00\\x00\\x00\\x00\\x00\\x00\\x00\\x00\\x00\\x00\\x00\\x00\\x00\\x00\\x00\\x00\\x00\\x00\\x00\\x00\\x00\\x00\\x00\\x00\\x00\\x00\\x00\\x00\\x00\\x00\\x00\\x00\\x00\\x00\\x00\\x00\\x00\\x00\\x00\\x00\\x00\\x00\\x00\\x00\\x00\\x00\\x00\\x00\\x00\\x00\\x00\\x00\\x00\\x00\\x00\\x00\\x00\\x00\\x00\\x00\\x00\\x00\\x00\\x00\\x00\\x00\\x00\\x00\\x00\\x00\\x00\\x00\\x00\\x00\\x00\\x00\\x00\\x00\\x00\\x00\\x00\\x00\\x00\\x00\\x00\\x00\\x00\\x00\\x00\\x00\\x00\\x00\\x00\\x00\\x00\\x00\\x00\\x00\\x00\\x00\\x00\\x00\\x00\\x00\\x00\\x00\\x00\\x00\\x00\\x00\\x00\\x00\\x00\\x00\\x00\\x00\\x00\\x00\\x00\\x00\\x00\\x00\\x00\\x00\\x00\\x00\\x00\\x00\\x00\\x00\\x00\\x00\\x00\\x00\\x00\\x00\\x00\\x00\\x00\\x00\\x00\\x00\\x00\\x00\\x00\\x00\\x00\\x00\\x00\\x00\\x00\\x00\\x00\\x00\\x00\\x00\\x00\\x00\\x00\\x00\\x00\\x00\\x00\\x00\\x00\\x00\\x00\\x00\\x00\\x00\\x00\\x00\\x00\\x00\\x00\\x00\\x00\\x00\\x00\\x00\\x00\\x00\\x00\\x00\\x00\\x00\\x00\\x00\\x00\\x00\\x00\\x00\\x00\\x00\\x00\\x00\\x00\\x00\\x00\\x00\\x00\\x00\\x00\\x00\\x00\\x00\\x00\\x00\\x00\\x00\\x00\\x00\\x00\\x00\\x00\\x00\\x00\\x00\\x00\\x00\\x00\\x00\\x00\\x00\\x00\\x00\\x00\\x00\\x00\\x00\\x00\\x00\\x00\\x00\\x00\\x00\\x00\\x00\\x00\\x00\\x00\\x00\\x00\\x00\\x00\\x00\\x00\\x00\\x00\\x00\\x00\\x00\\x00\\x00\\x00\\x00\\x00\\x00\\x00\\x00\\x00\\x00\\x00\\x00\\x00\\x00\\x00\\x00\\x00\\x00\\x00\\x00\\x00\\x00\\x00\\x00\\x00\\x00\\x00\\x00\\x00\\x00\\x00\\x00\\x00\\x00\\x00\\x00\\x00\\x00\\x00\\x00\\x00\\x00\\x00\\x00\\x00\\x00\\x00\\x00\\x00\\x00\\x00\\x00\\x00\\x00\\x00\\x00\\x00\\x00\\x00\\x00\\x00\\x00\\x00\\x00\\x00\\x00\\x00\\x00\\x00\\x00\\x00\\x00\\x00\\x00\\x00\\x00\\x00\\x00\\x00\\x00\\x00\\x00\\x00\\x00\\x00\\x00\\x00\\x00\\x00\\x00\\x00\\x00\\x00\\x00\\x00\\x00\\x00\\x00\\x00\\x00\\x00\\x00\\x00\\x00\\x00\\x00\\x00\\x00\\x00\\x00\\x00\\x00\\x00\\x00\\x00\\x00\\x00\\x00\\x00\\x00\\x00\\x00\\x00\\x00\\x00\\x00\\x00\\x00\\x00\\x00\\x00\\x00\\x00\\x00\\x00\\x00\\x00\\x00\\x00\\x00\\x00\\x00\\x00\\x00\\x00\\x00\\x00\\x00\\x00\\x00\\x00\\x00\\x00\\x00\\x00\\x00\\x00\\x00\\x00\\x00\\x00\\x00\\x00\\x00\\x00\\x00\\x00\\x00\\x00\\x00\\x00\\x00\\x00\\x00\\x00\\x00\\x00\\x00\\x00\\x00\\x00\\x00\\x00\\x00\\x00\\x00\\x00\\x00\\x00\\x00\\x00\\x00\\x00\\x00\\x00\\x00\\x00\\x00\\x00\\x00\\x00\\x00\\x00\\x00\\x00\\x00\\x00\\x00\\x00\\x00\\x00\\x00\\x00\\x00\\x00\\x00\\x00\\x00\\x00\\x00\\x00\\x00\\x00\\x00\\x00\\x00\\x00\\x00\\x00\\x00\\x00\\x00\\x00\\x00\\x00\\x00\\x00\\x00\\x00\\x00\\x00\\x00\\x00\\x00\\x00\\x00\\x00\\x00\\x00\\x00\\x00\\x00\\x00\\x00\\x00\\x00\\x00\\x00\\x00\\x00\\x00\\x00\\x00\\x00\\x00\\x00\\x00\\x00\\x00\\x00\\x00\\x00\\x00\\x00\\x00\\x00\\x00\\x00\\x00\\x00\\x00\\x00\\x00\\x00\\x00\\x00\\x00\\x00\\x00\\x00\\x00\\x00\\x00\\x00\\x00\\x00\\x00\\x00\\x00\\x00\\x00\\x00\\x00\\x00\\x00\\x00\\x00\\x00\\x00\\x00\\x00\\x00\\x00\\x00\\x00\\x00\\x00\\x00\\x00\\x00\\x00\\x00\\x00\\x00\\x00\\x00\\x00\\x00\\x00\\x00\\x00\\x00\\x00\\x00\\x00\\x00\\x00\\x00\\x00\\x00\\x00\\x00\\x00\\x00\\x00\\x00\\x00\\x00\\x00\\x00\\x00\\x00\\x00\\x00\\x00\\x00\\x00\\x00\\x00\\x00\\x00\\x00\\x00\\x00\\x00\\x00\\x00\\x00\\x00\\x00\\x00\\x00\\x00\\x00\\x00\\x00\\x00\\x00\\x00\\x00\\x00\\x00\\x00\\x00\\x00\\x00\\x00\\x00\\x00\\x00\\x00\\x00\\x00\\x00\\x00\\x00\\x00\\x00\\x00\\x00\\x00\\x00\\x00\\x00\\x00\\x00\\x00\\x00\\x00\\x00\\x00\\x00\\x00\\x00\\x00\\x00\\x00\\x00\\x00\\x00\\x00\\x00\\x00\\x00\\x00\\x00\\x00\\x00\\x00\\x00\\x00\\x00\\x00\\x00\\x00\\x00\\x00\\x00\\x00\\x00\\x00\\x00\\x00\\x00\\x00\\x00\\x00\\x00\\x00\\x00\\x00\\x00\\x00\\x00\\x00\\x00\\x00\\x00\\x00\\x00\\x00\\x00\\x00\\x00\\x00\\x00\\x00\\x00\\x00\\x00\\x00\\x00\\x00\\x00\\x00\\x00\\x00\\x00\\x00\\x00\\x00\\x00\\x00\\x00\\x00\\x00\\x00\\x00\\x00\\x00\\x00\\x00\\x00\\x00\\x00\\x00\\x00\\x00\\x00\\x00\\x00\\x00\\x00\\x00\\x00\\x00\\x00\\x00\\x00\\x00\\x00\\x00\\x00\\x00\\x00\\x00\\x00\\x00\\x00\\x00\\x00\\x00\\x00\\x00\\x00\\x00\\x00\\x00\\x00\\x00\\x00\\x00\\x00\\x00\\x00\\x00\\x00\\x00\\x00\\x00\\x00\\x00\\x00\\x00\\x00\\x00\\x00\\x00\\x00\\x00\\x00\\x00\\x00\\x00\\x00\\x00\\x00\\x00\\x00\\x00\\x00\\x00\\x00\\x00\\x00\\x00\\x00\\x00\\x00\\x00\\x00\\x00\\x00\\x00\\x00\\x00\\x00\\x00\\x00\\x00\\x00\\x00\\x00\\x00\\x00\\x00\\x00\\x00\\x00\\x00\\x00\\x00\\x00\\x00\\x00\\x00\\x00\\x00\\x00\\x00\\x00\\x00\\x00\\x00\\x00\\x00\\x00\\x00\\x00\\x00\\x00\\x00\\x00\\x00\\x00\\x00\\x00\\x00\\x00\\x00\\x00\\x00\\x00\\x00\\x00\\x00\\x00\\x00\\x00\\x00\\x00\\x00\\x00\\x00\\x00\\x00\\x00\\x00\\x00\\x00\\x00\\x00\\x00\\x00\\x00\\x00\\x00\\x00\\x00\\x00\\x00\\x00\\x00\\x00\\x00\\x00\\x00\\x00\\x00\\x00\\x00\\x00\\x00\\x00\\x00\\x00\\x00\\x00\\x00\\x00\\x00\\x00\\x00\\x00\\x00\\x00\\x00\\x00\\x00\\x00\\x00\\x00\\x00\\x00\\x00\\x00\\x00\\x00\\x00\\x00\\x00\\x00\\x00\\x00\\x00\\x00\\x00\\x00\\x00\\x00\\x00\\x00\\x00\\x00\\x00\\x00\\x00\\x00\\x00\\x00\\x00\\x00\\x00\\x00\\x00\\x00\\x00\\x00\\x00\\x00\\x00\\x00\\x00\\x00\\x00\\x00\\x00\\x00\\x00\\x00\\x00\\x00\\x00\\x00\\x00\\x00\\x00\\x00\\x00\\x00\\x00\\x00\\x00\\x00\\x00\\x00\\x00\\x00\\x00\\x00\\x00\\x00\\x00\\x00\\x00\\x00\\x00\\x00\\x00\\x00\\x00\\x00\\x00\\x00\\x00\\x00\\x00\\x00\\x00\\x00\\x00\\x00\\x00\\x00\\x00\\x00\\x00\\x00\\x00\\x00\\x00\\x00\\x00\\x00\\x00\\x00\\x00\\x00\\x00\\x00\\x00\\x00\\x00\\x00\\x00\\x00\\x00\\x00\\x00\\x00\\x00\\x00\\x00\\x00\\x00\\x00\\x00\\x00\\x00\\x00\\x00\\x00\\x00\\x00\\x00\\x00\\x00\\x00\\x00\\x00\\x00\\x00\\x00\\x00\\x00\\x00\\x00\\x00\\x00\\x00\\x00\\x00\\x00\\x00\\x00\\x00\\x00\\x00\\x00\\x00\\x00\\x00\\x00\\x00\\x00\\x00\\x00\\x00\\x00\\x00\\x00\\x00\\x00\\x00\\x00\\x00\\x00\\x00\\x00\\x00\\x00\\x00\\x00\\x00\\x00\\x00\\x00\\x00\\x00\\x00\\x00\\x00\\x00\\x00\\x00\\x00\\x00\\x00\\x00\\x00\\x00\\x00\\x00\\x00\\x00\\x00\\x00\\x00\\x00\\x00\\x00\\x00\\x00\\x00\\x00\\x00\\x00\\x00\\x00\\x00\\x00\\x00\\x00\\x00\\x00\\x00\\x00\\x00\\x00\\x00\\x00\\x00\\x00\\x00\\x00\\x00\\x00\\x00\\x00\\x00\\x00\\x00\\x00\\x00\\x00\\x00\\x00\\x00\\x00\\x00\\x00\\x00\\x00\\x00\\x00\\x00\\x00\\x00\\x00\\x00\\x00\\x00\\x00\\x00\\x00\\x00\\x00\\x00\\x00\\x00\\x00\\x00\\x00\\x00\\x00\\x00\\x00\\x00\\x00\\x00\\x00\\x00\\x00\\x00\\x00\\x00\\x00\\x00\\x00\\x00\\x00\\x00\\x00\\x00\\x00\\x00\\x00\\x00\\x00\\x00\\x00\\x00\\x00\\x00\\x00\\x00\\x00\\x00\\x00\\x00\\x00\\x00\\x00\\x00\\x00\\x00\\x00\\x00\\x00\\x00\\x00\\x00\\x00\\x00\\x00\\x00\\x00\\x00\\x00\\x00\\x00\\x00\\x00\\x00\\x00\\x00\\x00\\x00\\x00\\x00\\x00\\x00\\x00\\x00\\x00\\x00\\x00\\x00\\x00\\x00\\x00\\x00\\x00\\x00\\x00\\x00\\x00\\x00\\x00\\x00\\x00\\x00\\x00\\x00\\x00\\x00\\x00\\x00\\x00\\x00\\x00\\x00\\x00\\x00\\x00\\x00\\x00\\x00\\x00\\x00\\x00\\x00\\x00\\x00\\x00\\x00\\x00\\x00\\x00\\x00\\x00\\x00\\x00\\x00\\x00\\x00\\x00\\x00\\x00\\x00\\x00\\x00\\x00\\x00\\x00\\x00\\x00\\x00\\x00\\x00\\x00\\x00\\x00\\x00\\x00\\x00\\x00\\x00\\x00\\x00\\x00\\x00\\x00\\x00\\x00\\x00\\x00\\x00\\x00\\x00\\x00\\x00\\x00\\x00\\x00\\x00\\x00\\x00\\x00\\x00\\x00\\x00\\x00\\x00\\x00\\x00\\x00\\x00\\x00\\x00\\x00\\x00\\x00\\x00\\x00\\x00\\x00\\x00\\x00\\x00\\x00\\x00\\x00\\x00\\x00\\x00\\x00\\x00\\x00\\x00\\x00\\x00\\x00\\x00\\x00\\x00\\x00\\x00\\x00\\x00\\x00\\x00\\x00\\x00\\x00\\x00\\x00\\x00\\x00\\x00\\x00\\x00\\x00\\x00\\x00\\x00\\x00\\x00\\x00\\x00\\x00\\x00\\x00\\x00\\x00\\x00\\x00\\x00\\x00\\x00\\x00\\x00\\x00\\x00\\x00\\x00\\x00\\x00\\x00\\x00\\x00\\x00\\x00\\x00\\x00\\x00\\x00\\x00\\x00\\x00\\x00\\x00\\x00\\x00\\x00\\x00\\x00\\x00\\x00\\x00\\x00\\x00\\x00\\x00\\x00\\x00\\x00\\x00\\x00\\x00\\x00\\x00\\x00\\x00\\x00\\x00\\x00\\x00\\x00\\x00\\x00\\x00\\x00\\x00\\x00\\x00\\x00\\x00\\x00\\x00\\x00\\x00\\x00\\x00\\x00\\x00\\x00\\x00\\x00\\x00\\x00\\x00\\x00\\x00\\x00\\x00\\x00\\x00\\x00\\x00\\x00\\x00\\x00\\x00\\x00\\x00\\x00\\x00\\x00\\x00\\x00\\x00\\x00\\x00\\x00\\x00\\x00\\x00\\x00\\x00\\x00\\x00\\x00\\x00\\x00\\x00\\x00\\x00\\x00\\x00\\x00\\x00\\x00\\x00\\x00\\x00\\x00\\x00\\x00\\x00\\x00\\x00\\x00\\x00\\x00\\x00\\x00\\x00\\x00\\x00\\x00\\x00\\x00\\x00\\x00\\x00\\x00\\x00\\x00\\x00\\x00\\x00\\x00\\x00\\x00\\x00\\x00\\x00\\x00\\x00\\x00\\x00\\x00\\x00\\x00\\x00\\x00\\x00\\x00\\x00\\x00\\x00\\x00\\x00\\x00\\x00\\x00\\x00\\x00\\x00\\x00\\x00\\x00\\x00\\x00\\x00\\x00\\x00\\x00\\x00\\x00\\x00\\x00\\x00\\x00\\x00\\x00\\x00\\x00\\x00\\x00\\x00\\x00\\x00\\x00\\x00\\x00\\x00\\x00\\x00\\x00\\x00\\x00\\x00\\x00\\x00\\x00\\x00\\x00\\x00\\x00\\x00\\x00\\x00\\x00\\x00\\x00\\x00\\x00\\x00\\x00\\x00\\x00\\x00\\x00\\x00\\x00\\x00\\x00\\x00\\x00\\x00\\x00\\x00\\x00\\x00\\x00\\x00\\x00\\x00\\x00\\x00\\x00\\x00\\x00\\x00\\x00\\x00\\x00\\x00\\x00\\x00\\x00\\x00\\x00\\x00\\x00\\x00\\x00\\x00\\x00\\x00\\x00\\x00\\x00\\x00\\x00\\x00\\x00\\x00\\x00\\x00\\x00\\x00\\x00\\x00\\x00\\x00\\x00\\x00\\x00\\x00\\x00\\x00\\x00\\x00\\x00\\x00\\x00\\x00\\x00\\x00\\x00\\x00\\x00\\x00\\x00\\x00\\x00\\x00\\x00\\x00\\x00\\x00\\x00\\x00\\x00\\x00\\x00\\x00\\x00\\x00\\x00\\x00\\x00\\x00\\x00\\x00\\x00\\x00\\x00\\x00\\x00\\x00\\x00\\x00\\x00\\x00\\x00\\x00\\x00\\x00\\x00\\x00\\x00\\x00\\x00\\x00\\x00\\x00\\x00\\x00\\x00\\x00\\x00\\x00\\x00\\x00\\x00\\x00\\x00\\x00\\x00\\x00\\x00\\x00\\x00\\x00\\x00\\x00\\x00\\x00\\x00\\x00\\x00\\x00\\x00\\x00\\x00\\x00\\x00\\x00\\x00\\x00\\x00\\x00\\x00\\x00\\x00\\x00\\x00\\x00\\x00\\x00\\x00\\x00\\x00\\x00\\x00\\x00\\x00\\x00\\x00\\x00\\x00\\x00\\x00\\x00\\x00\\x00\\x00\\x00\\x00\\x00\\x00\\x00\\x00\\x00\\x00\\x00\\x00\\x00\\x00\\x00\\x00\\x00\\x00\\x00\\x00\\x00\\x00\\x00\\x00\\x00\\x00\\x00\\x00\\x00\\x00\\x00\\x00\\x00\\x00\\x00\\x00\\x00\\x00\\x00\\x00\\x00\\x00\\x00\\x00\\x00\\x00\\x00\\x00\\x00\\x00\\x00\\x00\\x00\\x00\\x00\\x00\\x00\\x00\\x00\\x00\\x00\\x00\\x00\\x00\\x00\\x00\\x00\\x00\\x00\\x00\\x00\\x00\\x00\\x00\\x00\\x00\\x00\\x00\\x00\\x00\\x00\\x00\\x00\\x00\\x00\\x00\\x00\\x00\\x00\\x00\\x00\\x00\\x00\\x00\\x00\\x00\\x00\\x00\\x00\\x00\\x00\\x00\\x00\\x00\\x00\\x00\\x00\\x00\\x00\\x00\\x00\\x00\\x00\\x00\\x00\\x00\\x00\\x00\\x00\\x00\\x00\\x00\\x00\\x00\\x00\\x00\\x00\\x00\\x00\\x00\\x00\\x00\\x00\\x00\\x00\\x00\\x00\\x00\\x00\\x00\\x00\\x00\\x00\\x00\\x00\\x00\\x00\\x00\\x00\\x00\\x00\\x00\\x00\\x00\\x00\\x00\\x00\\x00\\x00\\x00\\x00\\x00\\x00\\x00\\x00\\x00\\x00\\x00\\x00\\x00\\x00\\x00\\x00\\x00\\x00\\x00\\x00\\x00\\x00\\x00\\x00\\x00\\x00\\x00\\x00\\x00\\x00\\x00\\x00\\x00\\x00\\x00\\x00\\x00\\x00\\x00\\x00\\x00\\x00\\x00\\x00\\x00\\x00\\x00\\x00\\x00\\x00\\x00\\x00\\x00\\x00\\x00\\x00\\x00\\x00\\x00\\x00\\x00\\x00\\x00\\x00\\x00\\x00\\x00\\x00\\x00\\x00\\x00\\x00\\x00\\x00\\x00\\x00\\x00\\x00\\x00\\x00\\x00\\x00\\x00\\x00\\x00\\x00\\x00\\x00\\x00\\x00\\x00\\x00\\x00\\x00\\x00\\x00\\x00\\x00\\x00\\x00\\x00\\x00\\x00\\x00\\x00\\x00\\x00\\x00\\x00\\x00\\x00\\x00\\x00\\x00\\x00\\x00\\x00\\x00\\x00\\x00\\x00\\x00\\x00\\x00\\x00\\x00\\x00\\x00\\x00\\x00\\x00\\x00\\x00\\x00\\x00\\x00\\x00\\x00\\x00\\x00\\x00\\x00\\x00\\x00\\x00\\x00\\x00\\x00\\x00\\x00\\x00\\x00\\x00\\x00\\x00\\x00\\x00\\x00\\x00\\x00\\x00\\x00\\x00\\x00\\x00\\x00\\x00\\x00\\x00\\x00\\x00\\x00\\x00\\x00\\x00\\x00\\x00\\x00\\x00\\x00\\x00\\x00\\x00\\x00\\x00\\x00\\x00\\x00\\x00\\x00\\x00\\x00\\x00\\x00\\x00\\x00\\x00\\x00\\x00\\x00\\x00\\x00\\x00\\x00\\x00\\x00\\x00\\x00\\x00\\x00\\x00\\x00\\x00\\x00\\x00\\x00\\x00\\x00\\x00\\x00\\x00\\x00\\x00\\x00\\x00\\x00\\x00\\x00\\x00\\x00\\x00\\x00\\x00\\x00\\x00\\x00\\x00\\x00\\x00\\x00\\x00\\x00\\x00\\x00\\x00\\x00\\x00\\x00\\x00\\x00\\x00\\x00\\x00\\x00\\x00\\x00\\x00\\x00\\x00\\x00\\x00\\x00\\x00\\x00\\x00\\x00\\x00\\x00\\x00\\x00\\x00\\x00\\x00\\x00\\x00\\x00\\x00\\x00\\x00\\x00\\x00\\x00\\x00\\x00\\x00\\x00\\x00\\x00\\x00\\x00\\x00\\x00\\x00\\x00\\x00\\x00\\x00\\x00\\x00\\x00\\x00\\x00\\x00\\x00\\x00\\x00\\x00\\x00\\x00\\x00\\x00\\x00\\x00\\x00\\x00\\x00\\x00\\x00\\x00\\x00\\x00\\x00\\x00\\x00\\x00\\x00\\x00\\x00\\x00\\x00\\x00\\x00\\x00\\x00\\x00\\x00\\x00\\x00\\x00\\x00\\x00\\x00\\x00\\x00\\x00\\x00\\x00\\x00\\x00\\x00\\x00\\x00\\x00\\x00\\x00\\x00\\x00\\x00\\x00\\x00\\x00\\x00\\x00\\x00\\x00\\x00\\x00\\x00\\x00\\x00\\x00\\x00\\x00\\x00\\x00\\x00\\x00\\x00\\x00\\x00\\x00\\x00\\x00\\x00\\x00\\x00\\x00\\x00\\x00\\n\\r\\x15\\xc2C\\xd9\\x15\\x1b\\xee\\xb6R\\xd5}\\xdf\\xab\\xe7\\xbe\\xde^\\xc2\\xba\\xf7\\xd2\\t\\xc5\\xd0\\xea\\xb5N\\r\\xed\\x17>\\x95#K\\xbc\\x06\\xd6s\\xd4\\xf6\\xd0\\xc6\\xbf\\xb9\\x01\\xc0\\xab%\\xf4\\x02\\xc2\\xb4x\\x81\\xa9\\x115{\\xfbj\\xb1G\\x1aaE\\x8a\\xc1\\x16\\x82@K\\xc8\\x08A\\xc5\\xacg\\xed\\xc9\\xfa\\x98e\\x9b(\\xdc\\x97\\xa0\\x00q%\\xfc1y\\xe3\\x97\\x8dyT\\xeaSr\\xc5\\xc3\\x15\\x9e\\xfa\\x1a\\x80\\nk\\x04\\x89\\xa3\\xeeT\\xdb\\xc7\\x84\\x0b\\xf2\\x89\\x90\\xbd\\xf8\\xc5\\x15\\x9a\\xc3\\xe4!\\xa6\\x1c\\xd9Y\\xb4 e\\xe8\\xaaZ\\x18\\x17\\xae\\xed\\x00\\xae#$\\xa4V\\xad\\x02\\xb1\\x19\\xc9\\xf1w3\\xa0\\xa3H\\x95.\\xadMe\\xd3\\x00\\xbc\\xe4~\\x93\\x9b\\xba\\nr\\x9e\\x1c1\\x01&\\xfe0\\xa6:\\x80d\\xd1\\xd3\\x83\\xbc\\xf2\\x97\\x8a?\\xa6`rx\\x82^R\\x80\\xbfZ\\x80a\\x86F\\xb4Y\\xbe\\xd9r6\\x94\\x9dC\\xd3\\xb5\\n\\x01\\x97\\xcb\\xab\\xe5\\x8ev$\"U\\x1d\\xf1\\xcd\\x10&\\x02\\xb8\\xdb\\xb7\\x85\\x94\"\\xea\\x0c\\x1c\\xban\\xb9\\xe3\\xaag\\xef!\\xc0\\xc9\\x0e\\xdc\\x0cMk>\\xe0\\xc7-\\xb6\\xdcKS\\x98\\xbe\\x01\\xa3.\\n1\\xe2\\xd6V3\\xf0\\x05\\x1e\\xce\\x82\\x9dY6S\\\\\\r\\xd9\\xecD\\xf3<B\\xf3P\\xd4\\xc7yi\\xe4\\xdb\\xd6\\x1c\\xc3\\xe2\\xf8\\xcbN\\xe0\\xea\\xe9!}L\\xf6`\\xdf[o\\xfd\\xbb\\xbd%\\xfe\\x7f\\xbb\\xe4\\x9d\\x93\\xf3\\xb1X\\x8eT\\xf7(\\x13m\\xa0\\x81\\x83\\xf1\\xc0.\\xf9\\xbf|\\xf31\\xf8\\'\\xe1\\xbb.\\xfb(7\\xd0G\\'\\xcb\\\\\\xe5\\x0e\\xed\\xb3*(w%\\xabjel\\x06\\x97YV\\xd0\\xf2 s[\\xc6P\\x80Qt\\x96\\xec%\\xa7\\x01n8\"%\\xec\\x94)\\x98\\x1c@k\\xd8M\\xf9\\xae+\\xba\\xe7\\xa8\\xc55\\xbbX\\xf7\\xa2I\\xad\\x95\\xe4\\xbdg{,\\xf8\\xd31\\x18\\xa0\\xban\\xef\\x04\\xf9\\x83\\xc5\\x8c\\x0e47\\xe9\\x08j\\xc5\\xf5\\xcb7\\xc8\\x85\\xde\\x8a H\\xae7\\xc6@\\xa3\\xb2\\x7f\\xcdd\\xf2\\x03\\xadKb\\xe1d\\x8c\\xb9(\\xb6\\xb1\\'\\xcd\\x13\\xd4\\xea\\xa4w\\xfa\\xfd\\xcb\\x0b.\\x94\\xb9\\xf6\\xf3\\xcd\\xf9\\xf8c\\xa1^\\xc5\\x8f\\xe6\\x00\\xde&fe'\n",
      "\u0000\u0000\u0000\u0000\u0000\u0000\u0000\u0000\u0000\u0000\u0000\u0000\u0000\u0000\u0000\u0000\u0000\u0000\u0000\u0000\u0000\u0000\u0000\u0000\u0000\u0000\u0000\u0000\u0000\u0000\u0000\u0000\u0000\u0000\u0000\u0000\u0000\u0000\u0000\u0000\u0000\u0000\u0000\u0000\u0000\u0000\u0000\u0000\u0000\u0000\u0000\u0000\u0000\u0000\u0000\u0000\u0000\u0000\u0000\u0000\u0000\u0000\u0000\u0000\u0000\u0000\u0000\u0000\u0000\u0000\u0000\u0000\u0000\u0000\u0000\u0000\u0000\u0000\u0000\u0000\u0000\u0000\u0000\u0000\u0000\u0000\u0000\u0000\u0000\u0000\u0000\u0000\u0000\u0000\u0000\u0000\u0000\u0000\u0000\u0000\u0000\u0000\u0000\u0000\u0000\u0000\u0000\u0000\u0000\u0000\u0000\u0000\u0000\u0000\u0000\u0000\u0000\u0000\u0000\u0000\u0000\u0000\u0000\u0000\u0000\u0000\u0000\u0000\u0000\u0000\u0000\u0000\u0000\u0000\u0000\u0000\u0000\u0000\u0000\u0000\u0000\u0000\u0000\u0000\u0000\u0000\u0000\u0000\u0000\u0000\u0000\u0000\u0000\u0000\u0000\u0000\u0000\u0000\u0000\u0000\u0000\u0000\u0000\u0000\u0000\u0000\u0000\u0000\u0000\u0000\u0000\u0000\u0000\u0000\u0000\u0000\u0000\u0000\u0000\u0000\u0000\u0000\u0000\u0000\u0000\u0000\u0000\u0000\u0000\u0000\u0000\u0000\u0000\u0000\u0000\u0000\u0000\u0000\u0000\u0000\u0000\u0000\u0000\u0000\u0000\u0000\u0000\u0000\u0000\u0000\u0000\u0000\u0000\u0000\u0000\u0000\u0000\u0000\u0000\u0000\u0000\u0000\u0000\u0000\u0000\u0000\u0000\u0000\u0000\u0000\u0000\u0000\u0000\u0000\u0000\u0000\u0000\u0000\u0000\u0000\u0000\u0000\u0000\u0000\u0000\u0000\u0000\u0000\u0000\u0000\u0000\u0000\u0000\u0000\u0000\u0000\u0000\u0000\u0000\u0000\u0000\u0000\u0000\u0000\u0000\u0000\u0000\u0000\u0000\u0000\u0000\u0000\u0000\u0000\u0000\u0000\u0000\u0000\u0000\u0000\u0000\u0000\u0000\u0000\u0000\u0000\u0000\u0000\u0000\u0000\u0000\u0000\u0000\u0000\u0000\u0000\u0000\u0000\u0000\u0000\u0000\u0000\u0000\u0000\u0000\u0000\u0000\u0000\u0000\u0000\u0000\u0000\u0000\u0000\u0000\u0000\u0000\u0000\u0000\u0000\u0000\u0000\u0000\u0000\u0000\u0000\u0000\u0000\u0000\u0000\u0000\u0000\u0000\u0000\u0000\u0000\u0000\u0000\u0000\u0000\u0000\u0000\u0000\u0000\u0000\u0000\u0000\u0000\u0000\u0000\u0000\u0000\u0000\u0000\u0000\u0000\u0000\u0000\u0000\u0000\u0000\u0000\u0000\u0000\u0000\u0000\u0000\u0000\u0000\u0000\u0000\u0000\u0000\u0000\u0000\u0000\u0000\u0000\u0000\u0000\u0000\u0000\u0000\u0000\u0000\u0000\u0000\u0000\u0000\u0000\u0000\u0000\u0000\u0000\u0000\u0000\u0000\u0000\u0000\u0000\u0000\u0000\u0000\u0000\u0000\u0000\u0000\u0000\u0000\u0000\u0000\u0000\u0000\u0000\u0000\u0000\u0000\u0000\u0000\u0000\u0000\u0000\u0000\u0000\u0000\u0000\u0000\u0000\u0000\u0000\u0000\u0000\u0000\u0000\u0000\u0000\u0000\u0000\u0000\u0000\u0000\u0000\u0000\u0000\u0000\u0000\u0000\u0000\u0000\u0000\u0000\u0000\u0000\u0000\u0000\u0000\u0000\u0000\u0000\u0000\u0000\u0000\u0000\u0000\u0000\u0000\u0000\u0000\u0000\u0000\u0000\u0000\u0000\u0000\u0000\u0000\u0000\u0000\u0000\u0000\u0000\u0000\u0000\u0000\u0000\u0000\u0000\u0000\u0000\u0000\u0000\u0000\u0000\u0000\u0000\u0000\u0000\u0000\u0000\u0000\u0000\u0000\u0000\u0000\u0000\u0000\u0000\u0000\u0000\u0000\u0000\u0000\u0000\u0000\u0000\u0000\u0000\u0000\u0000\u0000\u0000\u0000\u0000\u0000\u0000\u0000\u0000\u0000\u0000\u0000\u0000\u0000\u0000\u0000\u0000\u0000\u0000\u0000\u0000\u0000\u0000\u0000\u0000\u0000\u0000\u0000\u0000\u0000\u0000\u0000\u0000\u0000\u0000\u0000\u0000\u0000\u0000\u0000\u0000\u0000\u0000\u0000\u0000\u0000\u0000\u0000\u0000\u0000\u0000\u0000\u0000\u0000\u0000\u0000\u0000\u0000\u0000\u0000\u0000\u0000\u0000\u0000\u0000\u0000\u0000\u0000\u0000\u0000\u0000\u0000\u0000\u0000\u0000\u0000\u0000\u0000\u0000\u0000\u0000\u0000\u0000\u0000\u0000\u0000\u0000\u0000\u0000\u0000\u0000\u0000\u0000\u0000\u0000\u0000\u0000\u0000\u0000\u0000\u0000\u0000\u0000\u0000\u0000\u0000\u0000\u0000\u0000\u0000\u0000\u0000\u0000\u0000\u0000\u0000\u0000\u0000\u0000\u0000\u0000\u0000\u0000\u0000\u0000\u0000\u0000\u0000\u0000\u0000\u0000\u0000\u0000\u0000\u0000\u0000\u0000\u0000\u0000\u0000\u0000\u0000\u0000\u0000\u0000\u0000\u0000\u0000\u0000\u0000\u0000\u0000\u0000\u0000\u0000\u0000\u0000\u0000\u0000\u0000\u0000\u0000\u0000\u0000\u0000\u0000\u0000\u0000\u0000\u0000\u0000\u0000\u0000\u0000\u0000\u0000\u0000\u0000\u0000\u0000\u0000\u0000\u0000\u0000\u0000\u0000\u0000\u0000\u0000\u0000\u0000\u0000\u0000\u0000\u0000\u0000\u0000\u0000\u0000\u0000\u0000\u0000\u0000\u0000\u0000\u0000\u0000\u0000\u0000\u0000\u0000\u0000\u0000\u0000\u0000\u0000\u0000\u0000\u0000\u0000\u0000\u0000\u0000\u0000\u0000\u0000\u0000\u0000\u0000\u0000\u0000\u0000\u0000\u0000\u0000\u0000\u0000\u0000\u0000\u0000\u0000\u0000\u0000\u0000\u0000\u0000\u0000\u0000\u0000\u0000\u0000\u0000\u0000\u0000\u0000\u0000\u0000\u0000\u0000\u0000\u0000\u0000\u0000\u0000\u0000\u0000\u0000\u0000\u0000\u0000\u0000\u0000\u0000\u0000\u0000\u0000\u0000\u0000\u0000\u0000\u0000\u0000\u0000\u0000\u0000\u0000\u0000\u0000\u0000\u0000\u0000\u0000\u0000\u0000\u0000\u0000\u0000\u0000\u0000\u0000\u0000\u0000\u0000\u0000\u0000\u0000\u0000\u0000\u0000\u0000\u0000\u0000\u0000\u0000\u0000\u0000\u0000\u0000\u0000\u0000\u0000\u0000\u0000\u0000\u0000\u0000\u0000\u0000\u0000\u0000\u0000\u0000\u0000\u0000\u0000\u0000\u0000\u0000\u0000\u0000\u0000\u0000\u0000\u0000\u0000\u0000\u0000\u0000\u0000\u0000\u0000\u0000\u0000\u0000\u0000\u0000\u0000\u0000\u0000\u0000\u0000\u0000\u0000\u0000\u0000\u0000\u0000\u0000\u0000\u0000\u0000\u0000\u0000\u0000\u0000\u0000\u0000\u0000\u0000\u0000\u0000\u0000\u0000\u0000\u0000\u0000\u0000\u0000\u0000\u0000\u0000\u0000\u0000\u0000\u0000\u0000\u0000\u0000\u0000\u0000\u0000\u0000\u0000\u0000\u0000\u0000\u0000\u0000\u0000\u0000\u0000\u0000\u0000\u0000\u0000\u0000\u0000\u0000\u0000\u0000\u0000\u0000\u0000\u0000\u0000\u0000\u0000\u0000\u0000\u0000\u0000\u0000\u0000\u0000\u0000\u0000\u0000\u0000\u0000\u0000\u0000\u0000\u0000\u0000\u0000\u0000\u0000\u0000\u0000\u0000\u0000\u0000\u0000\u0000\u0000\u0000\u0000\u0000\u0000\u0000\u0000\u0000\u0000\u0000\u0000\u0000\u0000\u0000\u0000\u0000\u0000\u0000\u0000\u0000\u0000\u0000\u0000\u0000\u0000\u0000\u0000\u0000\u0000\u0000\u0000\u0000\u0000\u0000\u0000\u0000\u0000\u0000\u0000\u0000\u0000\u0000\u0000\u0000\u0000\u0000\u0000\u0000\u0000\u0000\u0000\u0000\u0000\u0000\u0000\u0000\u0000\u0000\u0000\u0000\u0000\u0000\u0000\u0000\u0000\u0000\u0000\u0000\u0000\u0000\u0000\u0000\u0000\u0000\u0000\u0000\u0000\u0000\u0000\u0000\u0000\u0000\u0000\u0000\u0000\u0000\u0000\u0000\u0000\u0000\u0000\u0000\u0000\u0000\u0000\u0000\u0000\u0000\u0000\u0000\u0000\u0000\u0000\u0000\u0000\u0000\u0000\u0000\u0000\u0000\u0000\u0000\u0000\u0000\u0000\u0000\u0000\u0000\u0000\u0000\u0000\u0000\u0000\u0000\u0000\u0000\u0000\u0000\u0000\u0000\u0000\u0000\u0000\u0000\u0000\u0000\u0000\u0000\u0000\u0000\u0000\u0000\u0000\u0000\u0000\u0000\u0000\u0000\u0000\u0000\u0000\u0000\u0000\u0000\u0000\u0000\u0000\u0000\u0000\u0000\u0000\u0000\u0000\u0000\u0000\u0000\u0000\u0000\u0000\u0000\u0000\u0000\u0000\u0000\u0000\u0000\u0000\u0000\u0000\u0000\u0000\u0000\u0000\u0000\u0000\u0000\u0000\u0000\u0000\u0000\u0000\u0000\u0000\u0000\u0000\u0000\u0000\u0000\u0000\u0000\u0000\u0000\u0000\u0000\u0000\u0000\u0000\u0000\u0000\u0000\u0000\u0000\u0000\u0000\u0000\u0000\u0000\u0000\u0000\u0000\u0000\u0000\u0000\u0000\u0000\u0000\u0000\u0000\u0000\u0000\u0000\u0000\u0000\u0000\u0000\u0000\u0000\u0000\u0000\u0000\u0000\u0000\u0000\u0000\u0000\u0000\u0000\u0000\u0000\u0000\u0000\u0000\u0000\u0000\u0000\u0000\u0000\u0000\u0000\u0000\u0000\u0000\u0000\u0000\u0000\u0000\u0000\u0000\u0000\u0000\u0000\u0000\u0000\u0000\u0000\u0000\u0000\u0000\u0000\u0000\u0000\u0000\u0000\u0000\u0000\u0000\u0000\u0000\u0000\u0000\u0000\u0000\u0000\u0000\u0000\u0000\u0000\u0000\u0000\u0000\u0000\u0000\u0000\u0000\u0000\u0000\u0000\u0000\u0000\u0000\u0000\u0000\u0000\u0000\u0000\u0000\u0000\u0000\u0000\u0000\u0000\u0000\u0000\u0000\u0000\u0000\u0000\u0000\u0000\u0000\u0000\u0000\u0000\u0000\u0000\u0000\u0000\u0000\u0000\u0000\u0000\u0000\u0000\u0000\u0000\u0000\u0000\u0000\u0000\u0000\u0000\u0000\u0000\u0000\u0000\u0000\u0000\u0000\u0000\u0000\u0000\u0000\u0000\u0000\u0000\u0000\u0000\u0000\u0000\u0000\u0000\u0000\u0000\u0000\u0000\u0000\u0000\u0000\u0000\u0000\u0000\u0000\u0000\u0000\u0000\u0000\u0000\u0000\u0000\u0000\u0000\u0000\u0000\u0000\u0000\u0000\u0000\u0000\u0000\u0000\u0000\u0000\u0000\u0000\u0000\u0000\u0000\u0000\u0000\u0000\u0000\u0000\u0000\u0000\u0000\u0000\u0000\u0000\u0000\u0000\u0000\u0000\u0000\u0000\u0000\u0000\u0000\u0000\u0000\u0000\u0000\u0000\u0000\u0000\u0000\u0000\u0000\u0000\u0000\u0000\u0000\u0000\u0000\u0000\u0000\u0000\u0000\u0000\u0000\u0000\u0000\u0000\u0000\u0000\u0000\u0000\u0000\u0000\u0000\u0000\u0000\u0000\u0000\u0000\u0000\u0000\u0000\u0000\u0000\u0000\u0000\u0000\u0000\u0000\u0000\u0000\u0000\u0000\u0000\u0000\u0000\u0000\u0000\u0000\u0000\u0000\u0000\u0000\u0000\u0000\u0000\u0000\u0000\u0000\u0000\u0000\u0000\u0000\u0000\u0000\u0000\u0000\u0000\u0000\u0000\u0000\u0000\u0000\u0000\u0000\u0000\u0000\u0000\u0000\u0000\u0000\u0000\u0000\u0000\u0000\u0000\u0000\u0000\u0000\u0000\u0000\u0000\u0000\u0000\u0000\u0000\u0000\u0000\u0000\u0000\u0000\u0000\u0000\u0000\u0000\u0000\u0000\u0000\u0000\u0000\u0000\u0000\u0000\u0000\u0000\u0000\u0000\u0000\u0000\u0000\u0000\u0000\u0000\u0000\u0000\u0000\u0000\u0000\u0000\u0000\u0000\u0000\u0000\u0000\u0000\u0000\u0000\u0000\u0000\u0000\u0000\u0000\u0000\u0000\u0000\u0000\u0000\u0000\u0000\u0000\u0000\u0000\u0000\u0000\u0000\u0000\u0000\u0000\u0000\u0000\u0000\u0000\u0000\u0000\u0000\u0000\u0000\u0000\u0000\u0000\u0000\u0000\u0000\u0000\u0000\u0000\u0000\u0000\u0000\u0000\u0000\u0000\u0000\u0000\u0000\u0000\u0000\u0000\u0000\u0000\u0000\u0000\u0000\u0000\u0000\u0000\u0000\u0000\u0000\u0000\u0000\u0000\u0000\u0000\u0000\u0000\u0000\u0000\u0000\u0000\u0000\u0000\u0000\u0000\u0000\u0000\u0000\u0000\u0000\u0000\u0000\u0000\u0000\u0000\u0000\u0000\u0000\u0000\u0000\u0000\u0000\u0000\u0000\u0000\u0000\u0000\u0000\u0000\u0000\u0000\u0000\u0000\u0000\u0000\u0000\u0000\u0000\u0000\u0000\u0000\u0000\u0000\u0000\u0000\u0000\u0000\u0000\u0000\u0000\u0000\u0000\u0000\u0000\u0000\u0000\u0000\u0000\u0000\u0000\u0000\u0000\u0000\u0000\u0000\u0000\u0000\u0000\u0000\u0000\u0000\u0000\u0000\u0000\u0000\u0000\u0000\u0000\u0000\u0000\u0000\u0000\u0000\u0000\u0000\u0000\u0000\u0000\u0000\u0000\u0000\u0000\u0000\u0000\u0000\u0000\u0000\u0000\u0000\u0000\u0000\u0000\u0000\u0000\u0000\u0000\u0000\u0000\u0000\u0000\u0000\u0000\u0000\u0000\u0000\u0000\u0000\u0000\u0000\u0000\u0000\u0000\u0000\u0000\u0000\u0000\u0000\u0000\u0000\u0000\u0000\u0000\u0000\u0000\u0000\u0000\u0000\u0000\u0000\u0000\u0000\u0000\u0000\u0000\u0000\u0000\u0000\u0000\u0000\u0000\u0000\u0000\u0000\u0000\u0000\u0000\u0000\u0000\u0000\u0000\u0000\u0000\u0000\u0000\u0000\u0000\u0000\u0000\u0000\u0000\u0000\u0000\u0000\u0000\u0000\u0000\u0000\u0000\u0000\u0000\u0000\u0000\u0000\u0000\u0000\u0000\u0000\u0000\u0000\u0000\u0000\u0000\u0000\u0000\u0000\u0000\u0000\u0000\u0000\u0000\u0000\u0000\u0000\u0000\u0000\u0000\u0000\u0000\u0000\u0000\u0000\u0000\u0000\u0000\u0000\u0000\u0000\u0000\u0000\u0000\u0000\u0000\u0000\u0000\u0000\u0000\u0000\u0000\u0000\u0000\u0000\u0000\u0000\u0000\u0000\u0000\u0000\u0000\u0000\u0000\u0000\u0000\u0000\u0000\u0000\u0000\u0000\u0000\u0000\u0000\u0000\u0000\u0000\u0000\u0000\u0000\u0000\u0000\u0000\u0000\u0000\u0000\u0000\u0000\u0000\u0000\u0000\u0000\u0000\u0000\u0000\u0000\u0000\u0000\u0000\u0000\u0000\u0000\u0000\u0000\u0000\u0000\u0000\u0000\u0000\u0000\u0000\u0000\u0000\u0000\u0000\u0000\u0000\u0000\u0000\u0000\u0000\u0000\u0000\u0000\u0000\u0000\u0000\u0000\u0000\u0000\u0000\u0000\u0000\u0000\u0000\u0000\u0000\u0000\u0000\u0000\u0000\u0000\u0000\u0000\u0000\u0000\u0000\u0000\u0000\u0000\u0000\u0000\u0000\u0000\u0000\u0000\u0000\u0000\u0000\u0000\u0000\u0000\u0000\u0000\u0000\u0000\u0000\u0000\u0000\u0000\u0000\u0000\u0000\u0000\u0000\u0000\u0000\u0000\u0000\u0000\u0000\u0000\u0000\u0000\u0000\u0000\u0000\u0000\u0000\u0000\u0000\u0000\u0000\u0000\u0000\u0000\u0000\u0000\u0000\u0000\u0000\u0000\u0000\u0000\u0000\u0000\u0000\u0000\u0000\u0000\u0000\u0000\u0000\u0000\u0000\u0000\u0000\u0000\u0000\u0000\u0000\u0000\u0000\u0000\u0000\u0000\u0000\u0000\u0000\u0000\u0000\u0000\u0000\u0000\u0000\u0000\u0000\u0000\u0000\u0000\u0000\u0000\u0000\u0000\u0000\u0000\u0000\u0000\u0000\u0000\u0000\u0000\u0000\u0000\u0000\u0000\u0000\u0000\u0000\u0000\u0000\u0000\u0000\u0000\u0000\u0000\u0000\u0000\u0000\u0000\u0000\u0000\u0000\u0000\u0000\u0000\u0000\u0000\u0000\u0000\u0000\u0000\u0000\u0000\u0000\u0000\u0000\u0000\u0000\u0000\u0000\u0000\u0000\u0000\u0000\u0000\u0000\u0000\u0000\u0000\u0000\u0000\u0000\u0000\u0000\u0000\u0000\u0000\u0000\u0000\u0000\u0000\u0000\u0000\u0000\u0000\u0000\u0000\u0000\u0000\u0000\u0000\u0000\u0000\u0000\u0000\u0000\u0000\u0000\u0000\u0000\u0000\u0000\u0000\u0000\u0000\u0000\u0000\u0000\u0000\u0000\u0000\u0000\u0000\u0000\u0000\u0000\u0000\u0000\u0000\u0000\u0000\u0000\u0000\u0000\u0000\u0000\u0000\u0000\u0000\u0000\u0000\u0000\u0000\u0000\u0000\u0000\u0000\u0000\u0000\u0000\u0000\u0000\u0000\u0000\u0000\u0000\u0000\u0000\u0000\u0000\u0000\u0000\u0000\u0000\u0000\u0000\u0000\u0000\u0000\u0000\u0000\u0000\u0000\u0000\u0000\u0000\u0000\u0000\u0000\u0000\u0000\u0000\u0000\u0000\u0000\u0000\u0000\u0000\u0000\u0000\u0000\u0000\u0000\u0000\u0000\u0000\u0000\u0000\u0000\u0000\u0000\u0000\u0000\u0000\u0000\u0000\u0000\u0000\u0000\u0000\u0000\u0000\u0000\u0000\u0000\u0000\u0000\u0000\u0000\u0000\u0000\u0000\u0000\u0000\u0000\u0000\u0000\u0000\u0000\u0000\u0000\u0000\u0000\u0000\u0000\u0000\u0000\u0000\u0000\u0000\u0000\u0000\u0000\u0000\u0000\u0000\u0000\u0000\u0000\u0000\u0000\u0000\u0000\u0000\u0000\u0000\u0000\u0000\u0000\u0000\u0000\u0000\u0000\u0000\u0000\u0000\u0000\u0000\u0000\u0000\u0000\u0000\u0000\u0000\u0000\u0000\u0000\u0000\u0000\u0000\u0000\u0000\u0000\u0000\u0000\u0000\u0000\u0000\u0000\u0000\u0000\u0000\u0000\u0000\u0000\u0000\u0000\u0000\u0000\u0000\u0000\u0000\u0000\u0000\u0000\u0000\u0000\u0000\u0000\u0000\u0000\u0000\u0000\u0000\u0000\u0000\u0000\u0000\u0000\u0000\u0000\u0000\u0000\u0000\u0000\u0000\u0000\u0000\u0000\u0000\u0000\u0000\u0000\u0000\u0000\u0000\u0000\u0000\u0000\u0000\u0000\u0000\u0000\u0000\u0000\u0000\u0000\u0000\u0000\u0000\u0000\u0000\u0000\u0000\u0000\u0000\u0000\u0000\u0000\u0000\u0000\u0000\u0000\u0000\u0000\u0000\u0000\u0000\u0000\u0000\u0000\u0000\u0000\u0000\u0000\u0000\u0000\u0000\u0000\u0000\u0000\u0000\u0000\u0000\u0000\u0000\u0000\u0000\u0000\u0000\u0000\u0000\u0000\u0000\u0000\u0000\u0000\u0000\u0000\u0000\u0000\u0000\u0000\u0000\u0000\u0000\u0000\u0000\u0000\u0000\u0000\u0000\u0000\u0000\u0000\u0000\u0000\u0000\u0000\u0000\u0000\u0000\u0000\u0000\u0000\u0000\u0000\u0000\u0000\u0000\u0000\u0000\u0000\u0000\u0000\u0000\u0000\u0000\u0000\u0000\u0000\u0000\u0000\u0000\u0000\u0000\u0000\u0000\u0000\u0000\u0000\u0000\u0000\u0000\u0000\u0000\u0000\u0000\u0000\u0000\u0000\u0000\u0000\u0000\u0000\u0000\u0000\u0000\u0000\u0000\u0000\u0000\u0000\u0000\u0000\u0000\u0000\u0000\u0000\u0000\u0000\u0000\u0000\u0000\u0000\u0000\u0000\u0000\u0000\u0000\u0000\u0000\u0000\u0000\u0000\u0000\u0000\u0000\u0000\u0000\u0000\u0000\u0000\u0000\u0000\u0000\u0000\u0000\u0000\u0000\u0000\u0000\u0000\u0000\u0000\u0000\u0000\u0000\u0000\u0000\u0000\u0000\u0000\u0000\u0000\u0000\u0000\u0000\u0000\u0000\u0000\u0000\u0000\u0000\u0000\u0000\u0000\u0000\u0000\u0000\u0000\u0000\u0000\u0000\u0000\u0000\u0000\u0000\u0000\u0000\u0000\u0000\u0000\u0000\u0000\u0000\u0000\u0000\u0000\u0000\u0000\u0000\u0000\u0000\u0000\u0000\u0000\u0000\u0000\u0000\u0000\u0000\u0000\u0000\u0000\u0000\u0000\u0000\u0000\u0000\u0000\u0000\u0000\u0000\u0000\u0000\u0000\u0000\u0000\u0000\u0000\u0000\u0000\u0000\u0000\u0000\u0000\u0000\u0000\u0000\u0000\u0000\u0000\u0000\u0000\u0000\u0000\u0000\u0000\u0000\u0000\u0000\u0000\u0000\u0000\u0000\u0000\u0000\u0000\u0000\u0000\u0000\u0000\u0000\u0000\u0000\u0000\u0000\u0000\u0000\u0000\u0000\u0000\u0000\u0000\u0000\u0000\u0000\u0000\u0000\u0000\u0000\u0000\u0000\u0000\u0000\u0000\u0000\u0000\u0000\u0000\u0000\u0000\u0000\u0000\u0000\u0000\u0000\u0000\u0000\u0000\u0000\u0000\u0000\u0000\u0000\u0000\u0000\u0000\u0000\u0000\u0000\u0000\u0000\u0000\u0000\u0000\u0000\u0000\u0000\u0000\u0000\u0000\u0000\u0000\u0000\u0000\u0000\u0000\u0000\u0000\u0000\u0000\u0000\u0000\u0000\u0000\u0000\u0000\u0000\u0000\u0000\u0000\u0000\u0000\u0000\u0000\u0000\u0000\u0000\u0000\u0000\u0000\u0000\u0000\u0000\u0000\u0000\u0000\u0000\u0000\u0000\u0000\u0000\u0000\u0000\u0000\u0000\u0000\u0000\u0000\u0000\u0000\u0000\u0000\u0000\u0000\u0000\u0000\u0000\u0000\u0000\u0000\u0000\u0000\u0000\u0000\u0000\u0000\u0000\u0000\u0000\u0000\u0000\u0000\u0000\u0000\u0000\u0000\u0000\u0000\u0000\u0000\u0000\u0000\u0000\u0000\u0000\u0000\u0000\u0000\u0000\u0000\u0000\u0000\u0000\u0000\u0000\u0000\u0000\u0000\u0000\u0000\u0000\u0000\u0000\u0000\u0000\u0000\u0000\u0000\u0000\u0000\u0000\u0000\u0000\u0000\u0000\u0000\u0000\u0000\u0000\u0000\u0000\u0000\u0000\u0000\u0000\u0000\u0000\u0000\u0000\u0000\u0000\u0000\u0000\u0000\u0000\u0000\u0000\u0000\u0000\u0000\u0000\u0000\u0000\u0000\u0000\u0000\u0000\u0000\u0000\u0000\u0000\u0000\u0000\u0000\u0000\u0000\u0000\u0000\u0000\u0000\u0000\u0000\u0000\u0000\u0000\u0000\u0000\u0000\u0000\u0000\u0000\u0000\u0000\u0000\u0000\u0000\u0000\u0000\u0000\u0000\u0000\u0000\u0000\u0000\u0000\u0000\u0000\u0000\u0000\u0000\u0000\u0000\u0000\u0000\u0000\u0000\u0000\u0000\u0000\u0000\u0000\u0000\u0000\u0000\u0000\u0000\u0000\u0000\u0000\u0000\u0000\u0000\u0000\u0000\u0000\u0000\u0000\u0000\u0000\u0000\u0000\u0000\u0000\u0000\u0000\u0000\u0000\u0000\u0000\u0000\u0000\u0000\u0000\u0000\u0000\u0000\u0000\u0000\u0000\u0000\u0000\u0000\u0000\u0000\u0000\u0000\u0000\u0000\u0000\u0000\u0000\u0000\u0000\u0000\u0000\u0000\u0000\u0000\u0000\u0000\u0000\u0000\u0000\u0000\u0000\u0000\u0000\u0000\u0000\u0000\u0000\u0000\u0000\u0000\u0000\u0000\u0000\u0000\u0000\u0000\u0000\u0000\u0000\u0000\u0000\u0000\u0000\u0000\u0000\u0000\u0000\u0000\u0000\u0000\u0000\u0000\u0000\u0000\u0000\u0000\u0000\u0000\u0000\u0000\u0000\u0000\u0000\u0000\u0000\u0000\u0000\u0000\u0000\u0000\u0000\u0000\u0000\u0000\u0000\u0000\u0000\u0000\u0000\u0000\u0000\u0000\u0000\u0000\u0000\u0000\u0000\u0000\u0000\u0000\u0000\u0000\u0000\u0000\u0000\u0000\u0000\u0000\u0000\u0000\u0000\u0000\u0000\u0000\u0000\u0000\u0000\u0000\u0000\u0000\u0000\u0000\u0000\u0000\u0000\u0000\u0000\u0000\u0000\u0000\u0000\u0000\u0000\u0000\u0000\u0000\u0000\u0000\u0000\u0000\u0000\u0000\u0000\u0000\u0000\u0000\u0000\u0000\u0000\u0000\u0000\u0000\u0000\u0000\u0000\u0000\u0000\u0000\u0000\u0000\u0000\u0000\u0000\u0000\u0000\u0000\u0000\u0000\u0000\u0000\u0000\u0000\u0000\u0000\u0000\u0000\u0000\u0000\u0000\u0000\u0000\u0000\u0000\u0000\u0000\u0000\u0000\u0000\u0000\u0000\u0000\u0000\u0000\u0000\u0000\u0000\u0000\u0000\u0000\u0000\u0000\u0000\u0000\u0000\u0000\u0000\u0000\u0000\u0000\u0000\u0000\u0000\u0000\u0000\u0000\u0000\u0000\u0000\u0000\u0000\u0000\u0000\u0000\u0000\u0000\u0000\u0000\u0000\u0000\u0000\u0000\u0000\u0000\u0000\u0000\u0000\u0000\u0000\u0000\u0000\u0000\u0000\u0000\u0000\u0000\u0000\u0000\u0000\u0000\u0000\u0000\u0000\u0000\u0000\u0000\u0000\u0000\u0000\u0000\u0000\u0000\u0000\u0000\u0000\u0000\u0000\u0000\u0000\u0000\u0000\u0000\u0000\u0000\u0000\u0000\u0000\u0000\u0000\u0000\u0000\u0000\u0000\u0000\u0000\u0000\u0000\u0000\u0000\u0000\u0000\u0000\u0000\u0000\u0000\u0000\u0000\u0000\u0000\u0000\u0000\u0000\u0000\u0000\u0000\u0000\u0000\u0000\u0000\u0000\u0000\u0000\u0000\u0000\u0000\u0000\u0000\u0000\u0000\u0000\u0000\u0000\u0000\u0000\u0000\u0000\u0000\u0000\u0000\u0000\u0000\u0000\u0000\u0000\u0000\u0000\u0000\u0000\u0000\u0000\u0000\u0000\u0000\u0000\u0000\u0000\u0000\u0000\u0000\u0000\u0000\u0000\u0000\u0000\u0000\u0000\u0000\u0000\u0000\u0000\u0000\u0000\u0000\u0000\u0000\u0000\u0000\u0000\u0000\u0000\u0000\u0000\u0000\u0000\u0000\u0000\u0000\u0000\u0000\u0000\u0000\u0000\u0000\u0000\u0000\u0000\u0000\u0000\u0000\u0000\u0000\u0000\u0000\u0000\u0000\u0000\u0000\u0000\u0000\u0000\u0000\u0000\u0000\u0000\u0000\u0000\u0000\u0000\u0000\u0000\u0000\u0000\u0000\u0000\u0000\u0000\u0000\u0000\u0000\u0000\u0000\u0000\u0000\u0000\u0000\u0000\u0000\u0000\u0000\u0000\u0000\u0000\u0000\u0000\u0000\u0000\u0000\u0000\u0000\u0000\u0000\u0000\u0000\u0000\u0000\u0000\u0000\u0000\u0000\u0000\u0000\u0000\u0000\u0000\u0000\u0000\u0000\u0000\u0000\u0000\u0000\u0000\u0000\u0000\u0000\u0000\u0000\u0000\u0000\u0000\u0000\u0000\u0000\u0000\u0000\u0000\u0000\u0000\u0000\u0000\u0000\u0000\u0000\u0000\u0000\u0000\u0000\u0000\u0000\u0000\u0000\u0000\u0000\u0000\u0000\u0000\u0000\u0000\u0000\u0000\u0000\u0000\u0000\u0000\u0000\u0000\u0000\u0000\u0000\u0000\u0000\u0000\u0000\u0000\u0000\u0000\u0000\u0000\u0000\u0000\u0000\u0000\u0000\u0000\u0000\u0000\u0000\u0000\u0000\u0000\u0000\u0000\u0000\u0000\u0000\u0000\u0000\u0000\u0000\u0000\u0000\u0000\u0000\u0000\u0000\u0000\u0000\u0000\u0000\u0000\u0000\u0000\u0000\u0000\u0000\u0000\u0000\u0000\u0000\u0000\u0000\u0000\u0000\u0000\u0000\u0000\u0000\u0000\u0000\u0000\u0000\u0000\u0000\u0000\u0000\u0000\u0000\u0000\u0000\u0000\u0000\u0000\u0000\u0000\u0000\u0000\u0000\u0000\u0000\u0000\u0000\u0000\u0000\u0000\u0000\u0000\u0000\u0000\u0000\u0000\u0000\u0000\u0000\u0000\u0000\u0000\u0000\u0000\u0000\u0000\u0000\u0000\u0000\u0000\u0000\u0000\u0000\u0000\u0000\u0000\u0000\u0000\u0000\u0000\u0000\u0000\u0000\u0000\u0000\u0000\u0000\u0000\u0000\u0000\u0000\u0000\u0000\u0000\u0000\u0000\u0000\u0000\u0000\u0000\u0000\u0000\u0000\u0000\u0000\u0000\u0000\u0000\u0000\u0000\u0000\u0000\u0000\u0000\u0000\u0000\u0000\u0000\u0000\u0000\u0000\u0000\u0000\u0000\u0000\u0000\u0000\u0000\u0000\u0000\u0000\u0000\u0000\u0000\u0000\u0000\u0000\u0000\u0000\u0000\u0000\u0000\u0000\u0000\u0000\u0000\u0000\u0000\u0000\u0000\u0000\u0000\u0000\u0000\u0000\u0000\u0000\u0000\u0000\u0000\u0000\u0000\u0000\u0000\u0000\u0000\u0000\u0000\u0000\u0000\u0000\u0000\u0000\u0000\u0000\u0000\u0000\u0000\u0000\u0000\u0000\u0000\u0000\u0000\u0000\u0000\u0000\u0000\u0000\u0000\u0000\u0000\u0000\u0000\u0000\u0000\u0000\u0000\u0000\u0000\u0000\u0000\u0000\u0000\u0000\u0000\u0000\u0000\u0000\u0000\u0000\u0000\u0000\u0000\u0000\u0000\u0000\u0000\u0000\u0000\u0000\u0000\u0000\u0000\u0000\u0000\u0000\u0000\u0000\u0000\u0000\u0000\u0000\u0000\u0000\u0000\u0000\u0000\u0000\u0000\u0000\u0000\u0000\u0000\u0000\u0000\u0000\u0000\u0000\u0000\u0000\u0000\u0000\u0000\u0000\u0000\u0000\u0000\u0000\u0000\u0000\u0000\u0000\u0000\u0000\u0000\u0000\u0000\u0000\u0000\u0000\u0000\u0000\u0000\u0000\u0000\u0000\u0000\u0000\u0000\u0000\u0000\u0000\u0000\u0000\u0000\u0000\u0000\u0000\u0000\u0000\u0000\u0000\u0000\u0000\u0000\u0000\u0000\u0000\u0000\u0000\u0000\u0000\u0000\u0000\u0000The Short Answer: Suppose you have a list of the first billion prime numbers. You pick 2 at random and multiply them together (a very fast process). Then you give me the result and ask me to find which 2 prime numbers you used. In the general case I have no choice but to try lots of guesswork (a very slow process).\n"
     ]
    }
   ],
   "source": [
    "# calculate p, q, n, phi, e, and d for certain value of n (the expected number of bits of modular - n).\n",
    "(p,q) = generate_large_prime(4096)\n",
    "n = p * q\n",
    "phi = (p-1)*(q-1)\n",
    "e = generate_public_exponent(phi)\n",
    "d = calculate_private_exponent(phi, e)\n",
    "\n",
    "print(p,q,n,phi,e,d)\n",
    "\n",
    "# The message we want to transmit\n",
    "# message = \"Hello!!!\"\n",
    "message = \"The Short Answer: Suppose you have a list of the first billion prime numbers. You pick 2 at random and multiply them together (a very fast process). Then you give me the result and ask me to find which 2 prime numbers you used. In the general case I have no choice but to try lots of guesswork (a very slow process).\"\n",
    "message = message.encode()\n",
    "print(message)\n",
    "# bytes_as_bits = ''.join(format(ord(byte), '08b') for byte in \"Hello world!!!\")\n",
    "# print(\"length of message is :\",len(bytes_as_bits))\n",
    "\n",
    "# encrypt the message\n",
    "ciphertext = encrypt(message, e, n)\n",
    "print('ciphertext:',ciphertext)\n",
    "\n",
    "# decrypt the message \n",
    "decrypt_message = decrypt(ciphertext,d,n)\n",
    "print(decrypt_message)"
   ]
  },
  {
   "attachments": {},
   "cell_type": "markdown",
   "id": "b24f170c",
   "metadata": {},
   "source": [
    "**Answer:** For larger value of n, it costs more time to execute key generation, encryotion and decryption. This is because it is more difficult and it needs more computation resources to factoring large integers."
   ]
  },
  {
   "cell_type": "markdown",
   "id": "d12e1b72",
   "metadata": {},
   "source": [
    "# Denial of Service (DoS) attack"
   ]
  },
  {
   "cell_type": "markdown",
   "id": "3604d502",
   "metadata": {},
   "source": [
    "Suppose you have a Python web server that does the following:\n",
    "- Receives a file over HTTP \n",
    "- Perform the processing of the file\n",
    "- sends back a response via HTTP\n",
    "\n",
    "For each HTTP request, the server uses a dedicated thread to allow multiple users to access the server simultaneously. In addition, in order to reduce the size of data transmitted through the network, this server utilizes the latest compression technology  (that's a joke). \n",
    "\n",
    "Files contain substitution rules along with payloads. At the beginning of every file, these rules are listed.Each line in the file that begins with \"*\" is considered a rule. As an example, consider the following document:\n",
    "\n",
    "\"\"\"\n",
    "\n",
    "$*$ DoS==Denial of Service \n",
    "\n",
    "$*$ nt==network\n",
    "\n",
    "$*$ ac==attack\n",
    "\n",
    "A DoS ac is an ac meant to shut down a machine or nt, making it inaccessible to its intended users.\n",
    "\n",
    "\"\"\"\n",
    "\n",
    "This text can be can be decompressed to:\n",
    "\n",
    "\"\"\"\n",
    "\n",
    "A Denial of Service attack is an attack meant to shut down a machine or network, making it inaccessible to its intended users.\n",
    "\n",
    "\"\"\"\n",
    "\n",
    "Following is the decompression function responsible for decoding the original text from the compressed text: \n"
   ]
  },
  {
   "cell_type": "markdown",
   "id": "7eb68c60",
   "metadata": {},
   "source": [
    "## Decompression"
   ]
  },
  {
   "cell_type": "code",
   "execution_count": 416,
   "id": "8107002b",
   "metadata": {},
   "outputs": [],
   "source": [
    "def decompress(compressed_text):\n",
    "    # Initialize an empty dictionary to store the substitution rules\n",
    "    substitution_rules = {}\n",
    "    # Initialize an empty string to store the final result\n",
    "    decompressed_text = \"\"\n",
    "    # Iterate over each line of the input text\n",
    "    for line in compressed_text.split(\"\\n\"):\n",
    "        # Check if the line starts with \"*\"\n",
    "        if line.startswith(\"*\"):\n",
    "            # If so, split the line into key and value, remove leading/trailing whitespaces, and store the rule in the dictionary\n",
    "            key, value = map(str.strip, line[1:].split(\"=\"))\n",
    "            substitution_rules[key] = value\n",
    "            # Continue to the next line\n",
    "            continue\n",
    "        # If the line does not start with \"*\", add the line to the final result\n",
    "        decompressed_text += line + \"\\n\"\n",
    "    # Keep looping until no more rules are applied\n",
    "    while True:\n",
    "        # Initialize a flag to check if a rule is applied\n",
    "        rule_applied = False\n",
    "        # Iterate over each key in the dictionary\n",
    "        for key in substitution_rules:\n",
    "            # Check if the key is present in the final result\n",
    "            if key in decompressed_text:\n",
    "                # If so, replace the key with the corresponding value and set the flag to True\n",
    "                decompressed_text = decompressed_text.replace(key, substitution_rules[key])\n",
    "                rule_applied = True\n",
    "        # If no rule is applied, exit the loop\n",
    "        if not rule_applied:\n",
    "            break\n",
    "    # Return the final result\n",
    "    return decompressed_text"
   ]
  },
  {
   "cell_type": "markdown",
   "id": "61341941",
   "metadata": {},
   "source": [
    "### Example for decompress function:"
   ]
  },
  {
   "cell_type": "code",
   "execution_count": 417,
   "id": "65f0ce15",
   "metadata": {},
   "outputs": [
    {
     "name": "stdout",
     "output_type": "stream",
     "text": [
      "\n",
      "\n",
      "a Denial of service attack is an attack meant to shut down a machine or network, making it inaccessible to its intended users.\n",
      "\n",
      "This can be accomplished by overwhelming the targeted system with excessive traffic or requests,\n",
      "causing it to crash or become unavailable to users.\n",
      "\n",
      "There are several different types of Denial of service attacks, including network-level attacks,\n",
      "application-level attacks, and distributed Denial of service attacks . \n",
      "    \n",
      "\n"
     ]
    }
   ],
   "source": [
    "if __name__ == '__main__':\n",
    "    res = decompress(\"\"\"\n",
    "* ds = Denial of service attack\n",
    "* p_ = Denial of service attacks\n",
    "* A = attacks\n",
    "* U=users\n",
    "* S=server\n",
    "* N=network\n",
    "* sm=system\n",
    "\n",
    "a ds is an attack meant to shut down a machine or N, making it inaccessible to its intended U.\n",
    "\n",
    "This can be accomplished by overwhelming the targeted sm with excessive traffic or requests,\n",
    "causing it to crash or become unavailable to U.\n",
    "\n",
    "There are several different types of p_, including network-level A,\n",
    "application-level A, and distributed p_ . \n",
    "    \"\"\")\n",
    "    \n",
    "    print(res)"
   ]
  },
  {
   "cell_type": "markdown",
   "id": "5ae7aac0",
   "metadata": {},
   "source": [
    "## Vulnerability in this system"
   ]
  },
  {
   "cell_type": "markdown",
   "id": "21d370f1",
   "metadata": {},
   "source": [
    "### Issue:\n",
    "\n",
    "An issue of the implemmented decompress function is that the function does not have any protections against infinite looping. An attacker could craft a file with a rule that replaces a string with itself, which would cause the function to loop infinitely and consume a large amount of processing power. In other words, the problem will happen in the case:\n",
    "\n",
    "key= key\n",
    "Here, the rule is that \"key\" should be replaced with \"key\". When the decompress function encounters the word \"key\" in the input, it will replace it with \"key\", and the next time it will replace it with \"key\" again and so on. This will cause the function to loop infinitely and consume a large amount of processing power.An attacker could craft a file with the following text to cause the function to loop infinitely and consume a large amount of processing power:"
   ]
  },
  {
   "cell_type": "code",
   "execution_count": 418,
   "id": "1aeafc83",
   "metadata": {},
   "outputs": [
    {
     "name": "stdout",
     "output_type": "stream",
     "text": [
      "Unexpected exception formatting exception. Falling back to standard exception\n"
     ]
    },
    {
     "name": "stderr",
     "output_type": "stream",
     "text": [
      "Traceback (most recent call last):\n",
      "  File \"/Users/chenbingcheng/Library/Python/3.11/lib/python/site-packages/IPython/core/interactiveshell.py\", line 3433, in run_code\n",
      "    exec(code_obj, self.user_global_ns, self.user_ns)\n",
      "  File \"/var/folders/06/gmp4cfpd1kn490jzvs864zh00000gn/T/ipykernel_11717/1874739930.py\", line 2, in <module>\n",
      "    res_ = decompress(\"\"\"\n",
      "           ^^^^^^^^^^^^^^\n",
      "  File \"/var/folders/06/gmp4cfpd1kn490jzvs864zh00000gn/T/ipykernel_11717/362531113.py\", line -1, in decompress\n",
      "KeyboardInterrupt\n",
      "\n",
      "During handling of the above exception, another exception occurred:\n",
      "\n",
      "Traceback (most recent call last):\n",
      "  File \"/Users/chenbingcheng/Library/Python/3.11/lib/python/site-packages/IPython/core/interactiveshell.py\", line 2052, in showtraceback\n",
      "    stb = self.InteractiveTB.structured_traceback(\n",
      "          ^^^^^^^^^^^^^^^^^^^^^^^^^^^^^^^^^^^^^^^^\n",
      "  File \"/Users/chenbingcheng/Library/Python/3.11/lib/python/site-packages/IPython/core/ultratb.py\", line 1118, in structured_traceback\n",
      "    return FormattedTB.structured_traceback(\n",
      "           ^^^^^^^^^^^^^^^^^^^^^^^^^^^^^^^^^\n",
      "  File \"/Users/chenbingcheng/Library/Python/3.11/lib/python/site-packages/IPython/core/ultratb.py\", line 1012, in structured_traceback\n",
      "    return VerboseTB.structured_traceback(\n",
      "           ^^^^^^^^^^^^^^^^^^^^^^^^^^^^^^^\n",
      "  File \"/Users/chenbingcheng/Library/Python/3.11/lib/python/site-packages/IPython/core/ultratb.py\", line 865, in structured_traceback\n",
      "    formatted_exception = self.format_exception_as_a_whole(etype, evalue, etb, number_of_lines_of_context,\n",
      "                          ^^^^^^^^^^^^^^^^^^^^^^^^^^^^^^^^^^^^^^^^^^^^^^^^^^^^^^^^^^^^^^^^^^^^^^^^^^^^^^^^\n",
      "  File \"/Users/chenbingcheng/Library/Python/3.11/lib/python/site-packages/IPython/core/ultratb.py\", line 818, in format_exception_as_a_whole\n",
      "    frames.append(self.format_record(r))\n",
      "                  ^^^^^^^^^^^^^^^^^^^^^\n",
      "  File \"/Users/chenbingcheng/Library/Python/3.11/lib/python/site-packages/IPython/core/ultratb.py\", line 736, in format_record\n",
      "    result += ''.join(_format_traceback_lines(frame_info.lines, Colors, self.has_colors, lvals))\n",
      "                                              ^^^^^^^^^^^^^^^^\n",
      "  File \"/Users/chenbingcheng/Library/Python/3.11/lib/python/site-packages/stack_data/utils.py\", line 144, in cached_property_wrapper\n",
      "    value = obj.__dict__[self.func.__name__] = self.func(obj)\n",
      "                                               ^^^^^^^^^^^^^^\n",
      "  File \"/Users/chenbingcheng/Library/Python/3.11/lib/python/site-packages/stack_data/core.py\", line 734, in lines\n",
      "    pieces = self.included_pieces\n",
      "             ^^^^^^^^^^^^^^^^^^^^\n",
      "  File \"/Users/chenbingcheng/Library/Python/3.11/lib/python/site-packages/stack_data/utils.py\", line 144, in cached_property_wrapper\n",
      "    value = obj.__dict__[self.func.__name__] = self.func(obj)\n",
      "                                               ^^^^^^^^^^^^^^\n",
      "  File \"/Users/chenbingcheng/Library/Python/3.11/lib/python/site-packages/stack_data/core.py\", line 681, in included_pieces\n",
      "    pos = scope_pieces.index(self.executing_piece)\n",
      "                             ^^^^^^^^^^^^^^^^^^^^\n",
      "  File \"/Users/chenbingcheng/Library/Python/3.11/lib/python/site-packages/stack_data/utils.py\", line 144, in cached_property_wrapper\n",
      "    value = obj.__dict__[self.func.__name__] = self.func(obj)\n",
      "                                               ^^^^^^^^^^^^^^\n",
      "  File \"/Users/chenbingcheng/Library/Python/3.11/lib/python/site-packages/stack_data/core.py\", line 660, in executing_piece\n",
      "    return only(\n",
      "           ^^^^^\n",
      "  File \"/Users/chenbingcheng/Library/Python/3.11/lib/python/site-packages/executing/executing.py\", line 190, in only\n",
      "    raise NotOneValueFound('Expected one value, found 0')\n",
      "executing.executing.NotOneValueFound: Expected one value, found 0\n"
     ]
    }
   ],
   "source": [
    "if __name__ == '__main__':\n",
    "    res_ = decompress(\"\"\"\n",
    "* ds = Denial of service attack\n",
    "* p_ = Denial of service attacks\n",
    "* A = A\n",
    "* U=users\n",
    "* S=server\n",
    "* N=network\n",
    "* sm=system\n",
    "\n",
    "a ds is an attack meant to shut down a machine or N, making it inaccessible to its intended U.\n",
    "\n",
    "This can be accomplished by overwhelming the targeted sm with excessive traffic or requests,\n",
    "causing it to crash or become unavailable to U.\n",
    "\n",
    "There are several different types of p_, including network-level A,\n",
    "application-level A, and distributed p_ . \n",
    "    \"\"\")\n",
    "    \n",
    "    print(res_)"
   ]
  },
  {
   "cell_type": "markdown",
   "id": "77f7032f",
   "metadata": {},
   "source": [
    "The substitution rule \"A = A\" would replace the string \"A\" with itself, causing the function to keep looping and replacing the string \"A\" with itself, without making any progress. This would consume a large amount of processing power and could cause the program to crash."
   ]
  },
  {
   "cell_type": "markdown",
   "id": "a6b58e30",
   "metadata": {},
   "source": [
    "## Question"
   ]
  },
  {
   "cell_type": "markdown",
   "id": "245c2330",
   "metadata": {},
   "source": [
    "Find the section of code within the provided decompression function that caused this vulnerability and explain your selection by detailing the rationale behind it."
   ]
  },
  {
   "attachments": {},
   "cell_type": "markdown",
   "id": "7af048fe",
   "metadata": {},
   "source": [
    "**Answer：** The following code chunk in 'decompression' function has vulnerability problem. if 'substitution_rules' is not empty and in it there exists 'key = substitution_rules[key]',if the condition 'key in decompressed_text' holds, after the first round of for loop execution, rule_applied is set True, the second round of for loop will be executed, and rule_applied is set True again, and after that is the third round of for loop，etc., the code execution can not escape from while loop.\n",
    "\n",
    "```python\n",
    "while True:\n",
    "        # Initialize a flag to check if a rule is applied\n",
    "        rule_applied = False\n",
    "        # Iterate over each key in the dictionary\n",
    "        for key in substitution_rules:\n",
    "            # Check if the key is present in the final result\n",
    "            if key in decompressed_text:\n",
    "                # If so, replace the key with the corresponding value and set the flag to True\n",
    "                decompressed_text = decompressed_text.replace(key, substitution_rules[key])\n",
    "                rule_applied = True\n",
    "        # If no rule is applied, exit the loop\n",
    "        if not rule_applied:\n",
    "            break\n",
    "```\n"
   ]
  },
  {
   "cell_type": "markdown",
   "id": "881230ee",
   "metadata": {},
   "source": [
    "# Solve the vulnerability:"
   ]
  },
  {
   "cell_type": "markdown",
   "id": "12c7216d",
   "metadata": {},
   "source": [
    "## Question :\n",
    "\n",
    "- Find a piece of code to be added to decompression function in order to prevent this vulnerability.\n",
    "\n",
    "- Test the functionality of your code by testing it on the given example."
   ]
  },
  {
   "cell_type": "code",
   "execution_count": 632,
   "id": "7d672726",
   "metadata": {},
   "outputs": [],
   "source": [
    "def decompress(compressed_text):\n",
    "    # Initialize an empty dictionary to store the substitution rules\n",
    "    substitution_rules = {}\n",
    "    # Initialize an empty string to store the final result\n",
    "    decompressed_text = \"\"\n",
    "    # Iterate over each line of the input text\n",
    "    for line in compressed_text.split(\"\\n\"):\n",
    "        # Check if the line starts with \"*\"\n",
    "        if line.startswith(\"*\"):\n",
    "            # If so, split the line into key and value, remove leading/trailing whitespaces, and store the rule in the dictionary\n",
    "            key, value = map(str.strip, line[1:].split(\"=\"))\n",
    "            substitution_rules[key] = value\n",
    "            # Continue to the next line\n",
    "            continue\n",
    "        # If the line does not start with \"*\", add the line to the final result\n",
    "        decompressed_text += line + \"\\n\"\n",
    "    # Keep looping until no more rules are applied\n",
    "    while True:\n",
    "        # Initialize a flag to check if a rule is applied\n",
    "        # rule_applied = False\n",
    "\n",
    "        # if substitution_rules is empty, means no rule will be applied,return the decompressed_text\n",
    "        if not substitution_rules:\n",
    "            break\n",
    "\n",
    "        # Iterate over each key in the dictionary\n",
    "        for key in substitution_rules:\n",
    "            # Check if the key is present in the final result\n",
    "            if (key != substitution_rules[key]) and (key in decompressed_text):\n",
    "                # If so, replace the key with the corresponding value and set the flag to True\n",
    "                decompressed_text = decompressed_text.replace(\n",
    "                    key, substitution_rules[key])\n",
    "                # rule_applied = True\n",
    "        break\n",
    "\n",
    "        ##### change a little bit of the code, in order to improve the efficiency ###\n",
    "        # If no rule is applied, exit the loop\n",
    "        # if not rule_applied:\n",
    "        #     break\n",
    "    # Return the final result\n",
    "    return decompressed_text"
   ]
  },
  {
   "cell_type": "code",
   "execution_count": 633,
   "id": "66802197",
   "metadata": {},
   "outputs": [
    {
     "name": "stdout",
     "output_type": "stream",
     "text": [
      "\n",
      "\n",
      "a Denial of service attack is an attack meant to shut down a machine or network, making it inaccessible to its intended users.\n",
      "\n",
      "This can be accomplished by overwhelming the targeted system with excessive traffic or requests,\n",
      "causing it to crash or become unavailable to users.\n",
      "\n",
      "There are several different types of Denial of service attacks, including network-level A,\n",
      "application-level A, and distributed Denial of service attacks . \n",
      "    \n",
      "\n"
     ]
    }
   ],
   "source": [
    "if __name__ == '__main__':\n",
    "    res_ = decompress(\"\"\"\n",
    "* ds = Denial of service attack\n",
    "* p_ = Denial of service attacks\n",
    "* A = A\n",
    "* U=users\n",
    "* S=server\n",
    "* N=network\n",
    "* sm=system\n",
    "\n",
    "a ds is an attack meant to shut down a machine or N, making it inaccessible to its intended U.\n",
    "\n",
    "This can be accomplished by overwhelming the targeted sm with excessive traffic or requests,\n",
    "causing it to crash or become unavailable to U.\n",
    "\n",
    "There are several different types of p_, including network-level A,\n",
    "application-level A, and distributed p_ . \n",
    "    \"\"\")\n",
    "    \n",
    "    print(res_)"
   ]
  }
 ],
 "metadata": {
  "kernelspec": {
   "display_name": "Python 3 (ipykernel)",
   "language": "python",
   "name": "python3"
  },
  "language_info": {
   "codemirror_mode": {
    "name": "ipython",
    "version": 3
   },
   "file_extension": ".py",
   "mimetype": "text/x-python",
   "name": "python",
   "nbconvert_exporter": "python",
   "pygments_lexer": "ipython3",
   "version": "3.9.12"
  }
 },
 "nbformat": 4,
 "nbformat_minor": 5
}
